{
  "cells": [
    {
      "cell_type": "code",
      "execution_count": null,
      "metadata": {
        "id": "B3eFv4a8BTXQ",
        "colab": {
          "base_uri": "https://localhost:8080/"
        },
        "outputId": "c7246486-dd58-4fcb-a41c-f4a15850b9cf"
      },
      "outputs": [
        {
          "output_type": "stream",
          "name": "stdout",
          "text": [
            "fatal: destination path 'Project-Crowd-Counting-C-3-Framework' already exists and is not an empty directory.\n"
          ]
        }
      ],
      "source": [
        "!rm -rf Project-Crowd-Counting-C-3-Framework\n",
        "!git clone https://github.com/cupnootle/Project-Crowd-Counting-C-3-Framework.git\n",
        "!tail Project-Crowd-Counting-C-3-Framework/.gitignore"
      ]
    },
    {
      "cell_type": "code",
      "source": [
        "from google.colab import drive\n",
        "drive_path = \"/content/drive\"\n",
        "drive.mount(drive_path) # Uncomment to use drive"
      ],
      "metadata": {
        "id": "hUCWlVzFozZa",
        "colab": {
          "base_uri": "https://localhost:8080/"
        },
        "outputId": "b1fb235a-fc2e-431c-ccf8-72d51d8d43ac"
      },
      "execution_count": null,
      "outputs": [
        {
          "output_type": "stream",
          "name": "stdout",
          "text": [
            "Mounted at /content/drive\n"
          ]
        }
      ]
    },
    {
      "cell_type": "code",
      "source": [
        "!pip install tensorboardX"
      ],
      "metadata": {
        "id": "PMN4ofghTPfQ",
        "colab": {
          "base_uri": "https://localhost:8080/"
        },
        "outputId": "62cbe13d-1a02-4eec-b2f6-86b1c96bfbe3"
      },
      "execution_count": null,
      "outputs": [
        {
          "output_type": "stream",
          "name": "stdout",
          "text": [
            "Looking in indexes: https://pypi.org/simple, https://us-python.pkg.dev/colab-wheels/public/simple/\n",
            "Collecting tensorboardX\n",
            "  Downloading tensorboardX-2.6-py2.py3-none-any.whl (114 kB)\n",
            "\u001b[?25l     \u001b[90m━━━━━━━━━━━━━━━━━━━━━━━━━━━━━━━━━━━━━━━━\u001b[0m \u001b[32m0.0/114.5 KB\u001b[0m \u001b[31m?\u001b[0m eta \u001b[36m-:--:--\u001b[0m\r\u001b[2K     \u001b[90m━━━━━━━━━━━━━━━━━━━━━━━━━━━━━━━━━━━━━━━\u001b[0m \u001b[32m114.5/114.5 KB\u001b[0m \u001b[31m3.7 MB/s\u001b[0m eta \u001b[36m0:00:00\u001b[0m\n",
            "\u001b[?25hRequirement already satisfied: protobuf<4,>=3.8.0 in /usr/local/lib/python3.9/dist-packages (from tensorboardX) (3.19.6)\n",
            "Requirement already satisfied: packaging in /usr/local/lib/python3.9/dist-packages (from tensorboardX) (23.0)\n",
            "Requirement already satisfied: numpy in /usr/local/lib/python3.9/dist-packages (from tensorboardX) (1.22.4)\n",
            "Installing collected packages: tensorboardX\n",
            "Successfully installed tensorboardX-2.6\n"
          ]
        }
      ]
    },
    {
      "cell_type": "code",
      "execution_count": null,
      "metadata": {
        "id": "nquL9bMSAxtn"
      },
      "outputs": [],
      "source": [
        "import numpy as np\n",
        "import torch\n",
        "import torch.nn\n",
        "import torch.nn.functional as F\n",
        "import os\n",
        "import imp\n",
        "import time\n",
        "\n",
        "from easydict import EasyDict as edict\n",
        "from torchvision import models"
      ]
    },
    {
      "cell_type": "code",
      "source": [
        "%ls\n",
        "%cd ./Project-Crowd-Counting-C-3-Framework\n",
        "%pwd"
      ],
      "metadata": {
        "id": "QF8yNhaPSZNI",
        "colab": {
          "base_uri": "https://localhost:8080/",
          "height": 70
        },
        "outputId": "e8a9d1f9-7b9b-404b-eeb6-10fc90844884"
      },
      "execution_count": null,
      "outputs": [
        {
          "output_type": "stream",
          "name": "stdout",
          "text": [
            "\u001b[0m\u001b[01;34mdrive\u001b[0m/  \u001b[01;34mProject-Crowd-Counting-C-3-Framework\u001b[0m/  \u001b[01;34msample_data\u001b[0m/\n",
            "/content/Project-Crowd-Counting-C-3-Framework\n"
          ]
        },
        {
          "output_type": "execute_result",
          "data": {
            "text/plain": [
              "'/content/Project-Crowd-Counting-C-3-Framework'"
            ],
            "application/vnd.google.colaboratory.intrinsic+json": {
              "type": "string"
            }
          },
          "metadata": {},
          "execution_count": 10
        }
      ]
    },
    {
      "cell_type": "code",
      "execution_count": null,
      "metadata": {
        "id": "r9qrgwtLUuoe"
      },
      "outputs": [],
      "source": [
        "__C = edict()\n",
        "cfg = __C\n",
        "__C.SEED = 3035\n",
        "__C.DATASET = 'SHHB'\n",
        "if __C.DATASET == 'UCF50':\n",
        "\tfrom datasets.UCF50.setting import cfg_data\n",
        "\t__C.VAL_INDEX = cfg_data.VAL_INDEX \n",
        "if __C.DATASET == 'GCC':\n",
        "\tfrom datasets.GCC.setting import cfg_data\n",
        "\t__C.VAL_MODE = cfg_data.VAL_MODE \n",
        "__C.NET = 'CSRNet_aleatoric_dropout'\n",
        "__C.PRE_GCC = False\n",
        "__C.PRE_GCC_MODEL = 'path to model'\n",
        "__C.RESUME = True\n",
        "__C.RESUME_PATH = '/content/drive/MyDrive/C3/latest_state_MSE_lr1e-5.pth'\n",
        "__C.GPU_ID = [1]\n",
        "__C.LR = 1e-5\n",
        "__C.LR_DECAY = 0.995\n",
        "__C.LR_DECAY_START = -1\n",
        "__C.NUM_EPOCH_LR_DECAY = 1\n",
        "__C.MAX_EPOCH = 21\n",
        "__C.LAMBDA_1 = 1e-4\n",
        "__C.PRINT_FREQ = 10\n",
        "now = time.strftime(\"%m-%d_%H-%M\", time.localtime())\n",
        "__C.EXP_NAME = now \\\n",
        "\t\t\t + '_' + __C.DATASET \\\n",
        "             + '_' + __C.NET \\\n",
        "             + '_' + str(__C.LR) + '__' + 'MSEloss_lr1e-5'\n",
        "if __C.DATASET == 'UCF50':\n",
        "\t__C.EXP_NAME += '_' + str(__C.VAL_INDEX)\t\n",
        "if __C.DATASET == 'GCC':\n",
        "\t__C.EXP_NAME += '_' + __C.VAL_MODE\t\n",
        "__C.EXP_PATH = './exp'\n",
        "__C.VAL_DENSE_START = 100\n",
        "__C.VAL_FREQ = 10\n",
        "__C.VISIBLE_NUM_IMGS = 1"
      ]
    },
    {
      "cell_type": "code",
      "execution_count": null,
      "metadata": {
        "id": "-5xra2_qKSJy"
      },
      "outputs": [],
      "source": [
        "\n",
        "__C_SHHB = edict()\n",
        "\n",
        "cfg_data = __C_SHHB\n",
        "\n",
        "__C_SHHB.STD_SIZE = (768,1024)\n",
        "__C_SHHB.TRAIN_SIZE = (576,768)\n",
        "__C_SHHB.DATA_PATH = drive_path + '/MyDrive/C3/ProcessedData/shanghaitech_part_B'               \n",
        "\n",
        "__C_SHHB.MEAN_STD = ([0.452016860247, 0.447249650955, 0.431981861591],[0.23242045939, 0.224925786257, 0.221840232611])\n",
        "\n",
        "__C_SHHB.LABEL_FACTOR = 1\n",
        "__C_SHHB.LOG_PARA = 100.\n",
        "\n",
        "__C_SHHB.RESUME_MODEL = ''#model path\n",
        "__C_SHHB.TRAIN_BATCH_SIZE = 6 #imgs\n",
        "\n",
        "__C_SHHB.VAL_BATCH_SIZE = 6 # "
      ]
    },
    {
      "cell_type": "code",
      "source": [
        "# ------------prepare enviroment------------\n",
        "os.environ[\"CUDA_VISIBLE_DEVICES\"] = \"0, 1\"\n",
        "\n",
        "seed = cfg.SEED\n",
        "if seed is not None:\n",
        "    np.random.seed(seed)\n",
        "    torch.manual_seed(seed)\n",
        "    torch.cuda.manual_seed(seed)\n",
        "\n",
        "gpus = cfg.GPU_ID\n",
        "device = torch.device(\"cuda\" if torch.cuda.is_available() else \"cpu\")\n",
        "torch.cuda.device(device)\n",
        "torch.backends.cudnn.benchmark = True\n",
        "\n",
        "\n",
        "# ------------prepare data loader------------\n",
        "data_mode = cfg.DATASET\n",
        "\n",
        "dataset_import_path = \"datasets/\" + data_mode\n",
        "loading_data = getattr(imp.load_source(\"loader\", dataset_import_path + \"/loading_data.py\"), \"loading_data\")\n",
        "#cfg_data = getattr(imp.load_source(\"settings\", dataset_import_path + \"/setting.py\"), \"cfg_data\")\n",
        "\n",
        "# ------------Prepare Trainer------------\n",
        "\n",
        "net = cfg.NET\n",
        "if net in [\n",
        "    \"MCNN\",\n",
        "    \"AlexNet\",\n",
        "    \"VGG\",\n",
        "    \"VGG_DECODER\",\n",
        "    \"Res50\",\n",
        "    \"Res101\",\n",
        "    \"CSRNet\",\n",
        "    \"Res101_SFCN\",\n",
        "]:\n",
        "    from trainer import Trainer\n",
        "elif net in [\"SANet\"]:\n",
        "    from trainer_for_M2TCC import Trainer  # double losses but single output\n",
        "elif net in [\"CMTL\"]:\n",
        "    from trainer_for_CMTL import Trainer  # double losses and double outputs\n",
        "elif net in [\"CSRNet_aleatoric\", \"CSRNet_aleatoric_dropout\"]:\n",
        "    from trainer_for_todo import Trainer # trainer with log_var\n"
      ],
      "metadata": {
        "id": "XF3qVLExSl1S"
      },
      "execution_count": null,
      "outputs": []
    },
    {
      "cell_type": "markdown",
      "source": [
        "#Aleatoric loss"
      ],
      "metadata": {
        "id": "DulHkqGkiugr"
      }
    },
    {
      "cell_type": "markdown",
      "source": [
        "CSRNet model, modified so it outputs both a prediction and a log-variance (this is useful to calculate the aleatoric loss)"
      ],
      "metadata": {
        "id": "qF5iOmlGSiLY"
      }
    },
    {
      "cell_type": "code",
      "source": [
        "import torch.nn as nn\n",
        "import torch\n",
        "from torchvision import models\n",
        "import torch.nn.functional as F\n",
        "\n",
        "class CSRNet_aleatoric(nn.Module):\n",
        "    def __init__(self, load_weights=False):\n",
        "        super(CSRNet_aleatoric, self).__init__()\n",
        "        self.seen = 0\n",
        "        self.frontend_feat = [64, 64, \"M\", 128, 128, \"M\", 256, 256, 256, \"M\", 512, 512, 512]\n",
        "        self.backend_feat = [512, 512, 512, 256, 128, 64]\n",
        "        self.frontend = make_layers(self.frontend_feat)\n",
        "        self.backend = make_layers(self.backend_feat, in_channels=512, dilation=True)\n",
        "        if not load_weights:\n",
        "            mod = models.vgg16(pretrained=True)\n",
        "            self._initialize_weights()\n",
        "            self.frontend.load_state_dict(mod.features[0:23].state_dict())\n",
        "\n",
        "        self.fc_pred = nn.Conv2d(64, 1, kernel_size=1)\n",
        "        self.fc_logvar = nn.Conv2d(64, 1, kernel_size=1)\n",
        "\n",
        "    def forward(self, x):\n",
        "        x = self.frontend(x)\n",
        "        x = self.backend(x)\n",
        "        pred = self.fc_pred(x)\n",
        "        pred = F.softplus(pred) #softplus is a smooth approximation to ReLU\n",
        "        pred = F.upsample(pred, scale_factor=8)\n",
        "        logvar = F.upsample(self.fc_logvar(x), scale_factor=8)\n",
        "        return pred, logvar #the model now outputs both a prediction and a logvar\n",
        "\n",
        "    def _initialize_weights(self):\n",
        "        for m in self.modules():\n",
        "            if isinstance(m, nn.Conv2d):\n",
        "                nn.init.normal_(m.weight, std=0.01)\n",
        "                if m.bias is not None:\n",
        "                    nn.init.constant_(m.bias, 0)\n",
        "            elif isinstance(m, nn.BatchNorm2d):\n",
        "                nn.init.constant_(m.weight, 1)\n",
        "                nn.init.constant_(m.bias, 0)\n",
        "\n",
        "\n",
        "def make_layers(cfg, in_channels=3, batch_norm=False, dilation=False):\n",
        "    if dilation:\n",
        "        d_rate = 2\n",
        "    else:\n",
        "        d_rate = 1\n",
        "    layers = []\n",
        "    for v in cfg:\n",
        "        if v == \"M\":\n",
        "            layers += [nn.MaxPool2d(kernel_size=2, stride=2)]\n",
        "        else:\n",
        "            conv2d = nn.Conv2d(\n",
        "                in_channels, v, kernel_size=3, padding=d_rate, dilation=d_rate\n",
        "            )\n",
        "            if batch_norm:\n",
        "                layers += [conv2d, nn.BatchNorm2d(v), nn.ReLU(inplace=True)]\n",
        "            else:\n",
        "                layers += [conv2d, nn.ReLU(inplace=True)]\n",
        "            in_channels = v\n",
        "    return nn.Sequential(*layers)"
      ],
      "metadata": {
        "id": "xIKAQu4HSguC"
      },
      "execution_count": null,
      "outputs": []
    },
    {
      "cell_type": "code",
      "source": [
        "import torch.nn as nn\n",
        "import torch\n",
        "from torchvision import models\n",
        "import torch.nn.functional as F\n",
        "\n",
        "class CSRNet_aleatoric_dropout(nn.Module):\n",
        "    def __init__(self, load_weights=False, p=0.2):\n",
        "        super(CSRNet_aleatoric_dropout, self).__init__()\n",
        "        self.dropout_p = p\n",
        "        self.seen = 0\n",
        "        self.frontend_feat = [64, 64, \"M\", 128, 128, \"M\", 256, 256, 256, \"M\", 512, 512, 512]\n",
        "        self.backend_feat = [512, 512, 512, 256, 128, 64]\n",
        "        self.frontend = make_layers(self.frontend_feat)\n",
        "        self.backend = make_layers_dropout(self.backend_feat, in_channels=512, dilation=True)\n",
        "        if not load_weights:\n",
        "            mod = models.vgg16(pretrained=True)\n",
        "            self._initialize_weights()\n",
        "            self.frontend.load_state_dict(mod.features[0:23].state_dict())\n",
        "\n",
        "        self.fc_pred = nn.Conv2d(64, 1, kernel_size=1)\n",
        "        self.fc_logvar = nn.Conv2d(64, 1, kernel_size=1)\n",
        "\n",
        "    def forward(self, x):\n",
        "        x = self.frontend(x)\n",
        "        x = self.backend(x)\n",
        "\n",
        "        pred = self.fc_pred(x)\n",
        "        pred = F.softplus(pred)\n",
        "        pred = F.upsample(pred, scale_factor=8)\n",
        "        logvar = F.upsample(self.fc_logvar(x), scale_factor=8)\n",
        "        return pred, logvar #the model now outputs both a prediction and a logvar\n",
        "\n",
        "    def _initialize_weights(self):\n",
        "        for m in self.modules():\n",
        "            if isinstance(m, nn.Conv2d):\n",
        "                nn.init.normal_(m.weight, std=0.01)\n",
        "                if m.bias is not None:\n",
        "                    nn.init.constant_(m.bias, 0)\n",
        "            elif isinstance(m, nn.BatchNorm2d):\n",
        "                nn.init.constant_(m.weight, 1)\n",
        "                nn.init.constant_(m.bias, 0)\n",
        "\n",
        "\n",
        "def make_layers(cfg, in_channels=3, batch_norm=False, dilation=False):\n",
        "    if dilation:\n",
        "        d_rate = 2\n",
        "    else:\n",
        "        d_rate = 1\n",
        "    layers = []\n",
        "    for v in cfg:\n",
        "        if v == \"M\":\n",
        "            layers += [nn.MaxPool2d(kernel_size=2, stride=2)]\n",
        "        else:\n",
        "            conv2d = nn.Conv2d(\n",
        "                in_channels, v, kernel_size=3, padding=d_rate, dilation=d_rate\n",
        "            )\n",
        "            if batch_norm:\n",
        "                layers += [conv2d, nn.BatchNorm2d(v), nn.ReLU(inplace=True)]\n",
        "            else:\n",
        "                layers += [conv2d, nn.ReLU(inplace=True)]\n",
        "            in_channels = v\n",
        "    return nn.Sequential(*layers)\n",
        "\n",
        "def make_layers_dropout(cfg, in_channels=3, batch_norm=False, dilation=False, dropout=0.2):\n",
        "    if dilation:\n",
        "        d_rate = 2\n",
        "    else:\n",
        "        d_rate = 1\n",
        "    layers = []\n",
        "    for v in cfg:\n",
        "        if v == \"M\":\n",
        "            layers += [nn.MaxPool2d(kernel_size=2, stride=2), nn.Dropout(p=dropout)]\n",
        "        else:\n",
        "            conv2d = nn.Conv2d(\n",
        "                in_channels, v, kernel_size=3, padding=d_rate, dilation=d_rate\n",
        "            )\n",
        "            if batch_norm:\n",
        "                layers += [conv2d, nn.BatchNorm2d(v), nn.ReLU(inplace=True), nn.Dropout(p=dropout)]\n",
        "            else:\n",
        "                layers += [conv2d, nn.ReLU(inplace=True), nn.Dropout(p=dropout)]\n",
        "            in_channels = v\n",
        "    return nn.Sequential(*layers)"
      ],
      "metadata": {
        "id": "hBSqrFO2kkjf"
      },
      "execution_count": null,
      "outputs": []
    },
    {
      "cell_type": "markdown",
      "source": [
        "Defining the aleatoric loss (assuming we use a Gaussian prior)"
      ],
      "metadata": {
        "id": "SERghfDLUdFU"
      }
    },
    {
      "cell_type": "code",
      "source": [
        "import math"
      ],
      "metadata": {
        "id": "WYvKKEY5J7Vw"
      },
      "execution_count": null,
      "outputs": []
    },
    {
      "cell_type": "code",
      "source": [
        "def gaussian_log_loss(output, target, logvar, eps=1e-6):\n",
        "  logvar = logvar.clone()\n",
        "  with torch.no_grad():\n",
        "      logvar.clamp_(min=math.log(eps))\n",
        "  term1 = 0.5*torch.exp(-logvar)*(target - output)**2\n",
        "  term2 = 0.5*logvar\n",
        "  return (term1 + term2).mean()"
      ],
      "metadata": {
        "id": "DkRWudr7Ucqr"
      },
      "execution_count": null,
      "outputs": []
    },
    {
      "cell_type": "code",
      "source": [
        "def laplacian_log_loss(output, target, logvar, eps=1e-6):\n",
        "  logvar = logvar.clone()\n",
        "  with torch.no_grad():\n",
        "      logvar.clamp_(min=math.log(eps))\n",
        "  term1 = 0.5*torch.exp(-logvar)*torch.abs(target - output)\n",
        "  term2 = 0.5*logvar\n",
        "  return (term1 + term2).mean()"
      ],
      "metadata": {
        "id": "Q74nu3Wxn2C1"
      },
      "execution_count": null,
      "outputs": []
    },
    {
      "cell_type": "markdown",
      "source": [
        "Defining the CrowdCounter (I modified the loss)"
      ],
      "metadata": {
        "id": "cL01MuEHXp24"
      }
    },
    {
      "cell_type": "code",
      "source": [
        "import pdb\n",
        "import imp\n",
        "\n",
        "\n",
        "class CrowdCounter_aleatoric(nn.Module):\n",
        "    def __init__(self, gpus, model_name):\n",
        "        super(CrowdCounter_aleatoric, self).__init__()\n",
        "\n",
        "        self.CCN = CSRNet_aleatoric_dropout() #on colab, modify the network here\n",
        "        if len(gpus) > 1:\n",
        "            self.CCN = torch.nn.DataParallel(self.CCN, device_ids=gpus).cuda()\n",
        "        else:\n",
        "            self.CCN = self.CCN.cuda()\n",
        "        self.loss_aleatoric_fn = laplacian_log_loss #on colab, modify the loss here\n",
        "\n",
        "    @property\n",
        "    def loss(self):\n",
        "        return self.loss_aleatoric\n",
        "\n",
        "    def forward(self, img, gt_map):\n",
        "        density_map, logvar = self.CCN(img)\n",
        "        self.loss_aleatoric = self.loss_aleatoric_fn(density_map.squeeze(), gt_map.squeeze()\n",
        "        , logvar.squeeze()\n",
        "        )\n",
        "        return density_map, logvar\n",
        "\n",
        "    def build_loss(self, density_map, gt_data, logvar):\n",
        "        loss_aleatoric = self.loss_aleatoric(density_map.squeeze(), gt_data.squeeze(), logvar.squeeze())\n",
        "        return loss_aleatoric\n",
        "\n",
        "    def test_forward(self, img):\n",
        "        density_map, logvar = self.CCN(img)\n",
        "        return density_map, logvar\n"
      ],
      "metadata": {
        "id": "dy3Kq7ceXtx5"
      },
      "execution_count": null,
      "outputs": []
    },
    {
      "cell_type": "markdown",
      "source": [
        "Modified Trainer"
      ],
      "metadata": {
        "id": "9gOPkgx-a1vb"
      }
    },
    {
      "cell_type": "code",
      "source": [
        "import numpy as np\n",
        "import os\n",
        "import math\n",
        "import time\n",
        "import random\n",
        "import shutil\n",
        "\n",
        "import torch\n",
        "from torch import nn\n",
        "\n",
        "\n",
        "import torchvision.utils as vutils\n",
        "import torchvision.transforms as standard_transforms\n",
        "\n",
        "import pdb\n",
        "\n",
        "\n",
        "def initialize_weights(models):\n",
        "    for model in models:\n",
        "        real_init_weights(model)\n",
        "\n",
        "\n",
        "def real_init_weights(m):\n",
        "\n",
        "    if isinstance(m, list):\n",
        "        for mini_m in m:\n",
        "            real_init_weights(mini_m)\n",
        "    else:\n",
        "        if isinstance(m, nn.Conv2d):\n",
        "            nn.init.normal_(m.weight, std=0.01)\n",
        "            if m.bias is not None:\n",
        "                nn.init.constant_(m.bias, 0)\n",
        "        elif isinstance(m, nn.Linear):\n",
        "            m.weight.data.normal_(0.0, std=0.01)\n",
        "        elif isinstance(m, nn.BatchNorm2d):\n",
        "            nn.init.constant_(m.weight, 1)\n",
        "            nn.init.constant_(m.bias, 0)\n",
        "        elif isinstance(m, nn.Module):\n",
        "            for mini_m in m.children():\n",
        "                real_init_weights(mini_m)\n",
        "        else:\n",
        "            print(m)\n",
        "\n",
        "\n",
        "def weights_normal_init(*models):\n",
        "    for model in models:\n",
        "        dev = 0.01\n",
        "        if isinstance(model, list):\n",
        "            for m in model:\n",
        "                weights_normal_init(m, dev)\n",
        "        else:\n",
        "            for m in model.modules():\n",
        "                if isinstance(m, nn.Conv2d):\n",
        "                    m.weight.data.normal_(0.0, dev)\n",
        "                    if m.bias is not None:\n",
        "                        m.bias.data.fill_(0.0)\n",
        "                elif isinstance(m, nn.Linear):\n",
        "                    m.weight.data.normal_(0.0, dev)\n",
        "\n",
        "\n",
        "def logger(exp_path, exp_name, work_dir, exception, resume=False):\n",
        "\n",
        "    from tensorboardX import SummaryWriter\n",
        "\n",
        "    if not os.path.exists(exp_path):\n",
        "        os.mkdir(exp_path)\n",
        "    writer = SummaryWriter(exp_path + \"/\" + exp_name)\n",
        "    log_file = exp_path + \"/\" + exp_name + \"/\" + exp_name + \".txt\"\n",
        "\n",
        "    cfg_file = open(\"./config.py\", \"r\")\n",
        "    cfg_lines = cfg_file.readlines()\n",
        "\n",
        "    with open(log_file, \"a\") as f:\n",
        "        f.write(\"\".join(cfg_lines) + \"\\n\\n\\n\\n\")\n",
        "\n",
        "    if not resume:\n",
        "        copy_cur_env(work_dir, exp_path + \"/\" + exp_name + \"/code\", exception)\n",
        "\n",
        "    return writer, log_file\n",
        "\n",
        "\n",
        "def logger_for_CMTL(exp_path, exp_name, work_dir, exception, resume=False):\n",
        "\n",
        "    if not os.path.exists(exp_path):\n",
        "        os.mkdir(exp_path)\n",
        "\n",
        "    if not os.path.exists(exp_path + \"/\" + exp_name):\n",
        "        os.mkdir(exp_path + \"/\" + exp_name)\n",
        "    log_file = exp_path + \"/\" + exp_name + \"/\" + exp_name + \".txt\"\n",
        "\n",
        "    cfg_file = open(\"./config.py\", \"r\")\n",
        "    cfg_lines = cfg_file.readlines()\n",
        "\n",
        "    with open(log_file, \"a\") as f:\n",
        "        f.write(\"\".join(cfg_lines) + \"\\n\\n\\n\\n\")\n",
        "\n",
        "    if not resume:\n",
        "        copy_cur_env(work_dir, exp_path + \"/\" + exp_name + \"/code\", exception)\n",
        "\n",
        "    return log_file\n",
        "\n",
        "\n",
        "def logger_txt(log_file, epoch, scores):\n",
        "\n",
        "    mae, mse, loss = scores\n",
        "\n",
        "    snapshot_name = \"all_ep_%d_mae_%.1f_mse_%.1f\" % (epoch + 1, mae, mse)\n",
        "\n",
        "    # pdb.set_trace()\n",
        "\n",
        "    with open(log_file, \"a\") as f:\n",
        "        f.write(\"=\" * 15 + \"+\" * 15 + \"=\" * 15 + \"\\n\\n\")\n",
        "        f.write(snapshot_name + \"\\n\")\n",
        "        f.write(\"    [mae %.2f mse %.2f], [val loss %.4f]\\n\" % (mae, mse, loss))\n",
        "        f.write(\"=\" * 15 + \"+\" * 15 + \"=\" * 15 + \"\\n\\n\")\n",
        "\n",
        "\n",
        "def vis_results(exp_name, epoch, writer, restore, img, pred_map, gt_map):\n",
        "\n",
        "    pil_to_tensor = standard_transforms.ToTensor()\n",
        "\n",
        "    x = []\n",
        "\n",
        "    for idx, tensor in enumerate(zip(img.cpu().data, pred_map, gt_map)):\n",
        "        if idx > 1:  # show only one group\n",
        "            break\n",
        "        pil_input = restore(tensor[0])\n",
        "        pil_output = torch.from_numpy(tensor[1] / (tensor[2].max() + 1e-10)).repeat(\n",
        "            3, 1, 1\n",
        "        )\n",
        "        pil_label = torch.from_numpy(tensor[2] / (tensor[2].max() + 1e-10)).repeat(\n",
        "            3, 1, 1\n",
        "        )\n",
        "        x.extend([pil_to_tensor(pil_input.convert(\"RGB\")), pil_label, pil_output])\n",
        "    x = torch.stack(x, 0)\n",
        "    x = vutils.make_grid(x, nrow=3, padding=5)\n",
        "    x = (x.numpy() * 255).astype(np.uint8)\n",
        "\n",
        "    writer.add_image(exp_name + \"_epoch_\" + str(epoch + 1), x)\n",
        "\n",
        "\n",
        "def print_summary(exp_name, scores, train_record):\n",
        "    mae, mse, loss = scores\n",
        "    print(\"=\" * 50)\n",
        "    print(exp_name)\n",
        "    print(\"    \" + \"-\" * 20)\n",
        "    print(\"    [mae %.2f mse %.2f], [val loss %.4f]\" % (mae, mse, loss))\n",
        "    print(\"    \" + \"-\" * 20)\n",
        "    print(\n",
        "        \"[best] [model: %s] , [mae %.2f], [mse %.2f]\"\n",
        "        % (\n",
        "            train_record[\"best_model_name\"],\n",
        "            train_record[\"best_mae\"],\n",
        "            train_record[\"best_mse\"],\n",
        "        )\n",
        "    )\n",
        "    print(\"=\" * 50)\n",
        "\n",
        "\n",
        "def print_WE_summary(log_txt, epoch, scores, train_record, c_maes):\n",
        "    mae, mse, loss = scores\n",
        "    # pdb.set_trace()\n",
        "    with open(log_txt, \"a\") as f:\n",
        "        f.write(\"=\" * 15 + \"+\" * 15 + \"=\" * 15 + \"\\n\")\n",
        "        f.write(str(epoch) + \"\\n\\n\")\n",
        "        f.write(\"  [mae %.4f], [val loss %.4f]\\n\\n\" % (mae, loss))\n",
        "        f.write(\"    list: \" + str(np.transpose(c_maes.avg)) + \"\\n\")\n",
        "\n",
        "        f.write(\"=\" * 15 + \"+\" * 15 + \"=\" * 15 + \"\\n\\n\")\n",
        "\n",
        "    print(\"=\" * 50)\n",
        "    print(\"    \" + \"-\" * 20)\n",
        "    print(\"    [mae %.2f mse %.2f], [val loss %.4f]\" % (mae, mse, loss))\n",
        "    print(\"    \" + \"-\" * 20)\n",
        "    print(\n",
        "        \"[best] [model: %s] , [mae %.2f], [mse %.2f]\"\n",
        "        % (\n",
        "            train_record[\"best_model_name\"],\n",
        "            train_record[\"best_mae\"],\n",
        "            train_record[\"best_mse\"],\n",
        "        )\n",
        "    )\n",
        "    print(\"=\" * 50)\n",
        "\n",
        "\n",
        "def print_GCC_summary(log_txt, epoch, scores, train_record, c_maes, c_mses):\n",
        "    mae, mse, loss = scores\n",
        "    c_mses[\"level\"] = np.sqrt(c_mses[\"level\"].avg)\n",
        "    c_mses[\"time\"] = np.sqrt(c_mses[\"time\"].avg)\n",
        "    c_mses[\"weather\"] = np.sqrt(c_mses[\"weather\"].avg)\n",
        "    with open(log_txt, \"a\") as f:\n",
        "        f.write(\"=\" * 15 + \"+\" * 15 + \"=\" * 15 + \"\\n\")\n",
        "        f.write(str(epoch) + \"\\n\\n\")\n",
        "        f.write(\"  [mae %.4f mse %.4f], [val loss %.4f]\\n\\n\" % (mae, mse, loss))\n",
        "        f.write(\n",
        "            \"  [level: mae %.4f mse %.4f]\\n\"\n",
        "            % (np.average(c_maes[\"level\"].avg), np.average(c_mses[\"level\"]))\n",
        "        )\n",
        "        f.write(\"    list: \" + str(np.transpose(c_maes[\"level\"].avg)) + \"\\n\")\n",
        "        f.write(\"    list: \" + str(np.transpose(c_mses[\"level\"])) + \"\\n\\n\")\n",
        "\n",
        "        f.write(\n",
        "            \"  [time: mae %.4f mse %.4f]\\n\"\n",
        "            % (np.average(c_maes[\"time\"].avg), np.average(c_mses[\"time\"]))\n",
        "        )\n",
        "        f.write(\"    list: \" + str(np.transpose(c_maes[\"time\"].avg)) + \"\\n\")\n",
        "        f.write(\"    list: \" + str(np.transpose(c_mses[\"time\"])) + \"\\n\\n\")\n",
        "\n",
        "        f.write(\n",
        "            \"  [weather: mae %.4f mse %.4f]\\n\"\n",
        "            % (np.average(c_maes[\"weather\"].avg), np.average(c_mses[\"weather\"]))\n",
        "        )\n",
        "        f.write(\"    list: \" + str(np.transpose(c_maes[\"weather\"].avg)) + \"\\n\")\n",
        "        f.write(\"    list: \" + str(np.transpose(c_mses[\"weather\"])) + \"\\n\\n\")\n",
        "\n",
        "        f.write(\"=\" * 15 + \"+\" * 15 + \"=\" * 15 + \"\\n\\n\")\n",
        "\n",
        "    print(\"=\" * 50)\n",
        "    print(\"    \" + \"-\" * 20)\n",
        "    print(\"    [mae %.2f mse %.2f], [val loss %.4f]\" % (mae, mse, loss))\n",
        "    print(\"    \" + \"-\" * 20)\n",
        "    print(\n",
        "        \"[best] [model: %s] , [mae %.2f], [mse %.2f]\"\n",
        "        % (\n",
        "            train_record[\"best_model_name\"],\n",
        "            train_record[\"best_mae\"],\n",
        "            train_record[\"best_mse\"],\n",
        "        )\n",
        "    )\n",
        "    print(\"=\" * 50)\n",
        "\n",
        "\n",
        "def update_model(\n",
        "    net,\n",
        "    optimizer,\n",
        "    scheduler,\n",
        "    epoch,\n",
        "    i_tb,\n",
        "    exp_path,\n",
        "    exp_name,\n",
        "    scores,\n",
        "    train_record,\n",
        "    loss_tab,\n",
        "    log_file=None,\n",
        "):\n",
        "\n",
        "    mae, mse, loss = scores\n",
        "\n",
        "    snapshot_name = \"all_ep_%d_mae_%.1f_mse_%.1f\" % (epoch + 1, mae, mse)\n",
        "\n",
        "    if mae < train_record[\"best_mae\"] or mse < train_record[\"best_mse\"]:\n",
        "        train_record[\"best_model_name\"] = snapshot_name\n",
        "        if log_file is not None:\n",
        "            logger_txt(log_file, epoch, scores)\n",
        "        to_saved_weight = net.state_dict()\n",
        "        torch.save(\n",
        "            to_saved_weight, os.path.join(exp_path, exp_name, snapshot_name + \".pth\")\n",
        "        )\n",
        "\n",
        "    if mae < train_record[\"best_mae\"]:\n",
        "        train_record[\"best_mae\"] = mae\n",
        "    if mse < train_record[\"best_mse\"]:\n",
        "        train_record[\"best_mse\"] = mse\n",
        "\n",
        "    latest_state = {\n",
        "        \"train_record\": train_record,\n",
        "        \"net\": net.state_dict(),\n",
        "        \"optimizer\": optimizer.state_dict(),\n",
        "        \"scheduler\": scheduler.state_dict(),\n",
        "        \"epoch\": epoch,\n",
        "        \"i_tb\": i_tb,\n",
        "        \"exp_path\": exp_path,\n",
        "        \"exp_name\": exp_name,\n",
        "        \"loss\": loss_tab,\n",
        "    }\n",
        "\n",
        "    torch.save(latest_state, \n",
        "    '/content/drive/MyDrive/C3/latest_state_MSE_lr1e-5.pth'\n",
        "    ## save latest_state on drive to avoid losing files when disconnecting from colab's environment\n",
        "    )\n",
        "\n",
        "    return train_record\n",
        "\n",
        "\n",
        "def copy_cur_env(work_dir, dst_dir, exception):\n",
        "\n",
        "    if not os.path.exists(dst_dir):\n",
        "        os.mkdir(dst_dir)\n",
        "\n",
        "    for filename in os.listdir(work_dir):\n",
        "\n",
        "        file = os.path.join(work_dir, filename)\n",
        "        dst_file = os.path.join(dst_dir, filename)\n",
        "\n",
        "        if os.path.isdir(file) and exception not in filename:\n",
        "            shutil.copytree(file, dst_file)\n",
        "        elif os.path.isfile(file):\n",
        "            shutil.copyfile(file, dst_file)\n",
        "\n",
        "\n",
        "class AverageMeter(object):\n",
        "    \"\"\"Computes and stores the average and current value\"\"\"\n",
        "\n",
        "    def __init__(self):\n",
        "        self.reset()\n",
        "\n",
        "    def reset(self):\n",
        "        self.cur_val = 0\n",
        "        self.avg = 0\n",
        "        self.sum = 0\n",
        "        self.count = 0\n",
        "\n",
        "    def update(self, cur_val):\n",
        "        self.cur_val = cur_val\n",
        "        self.sum += cur_val\n",
        "        self.count += 1\n",
        "        self.avg = self.sum / self.count\n",
        "\n",
        "\n",
        "class AverageCategoryMeter(object):\n",
        "    \"\"\"Computes and stores the average and current value\"\"\"\n",
        "\n",
        "    def __init__(self, num_class):\n",
        "        self.num_class = num_class\n",
        "        self.reset()\n",
        "\n",
        "    def reset(self):\n",
        "        self.cur_val = np.zeros(self.num_class)\n",
        "        self.avg = np.zeros(self.num_class)\n",
        "        self.sum = np.zeros(self.num_class)\n",
        "        self.count = np.zeros(self.num_class)\n",
        "\n",
        "    def update(self, cur_val, class_id):\n",
        "        self.cur_val[class_id] = cur_val\n",
        "        self.sum[class_id] += cur_val\n",
        "        self.count[class_id] += 1\n",
        "        self.avg[class_id] = self.sum[class_id] / self.count[class_id]\n",
        "\n",
        "\n",
        "class Timer(object):\n",
        "    \"\"\"A simple timer.\"\"\"\n",
        "\n",
        "    def __init__(self):\n",
        "        self.total_time = 0.0\n",
        "        self.calls = 0\n",
        "        self.start_time = 0.0\n",
        "        self.diff = 0.0\n",
        "        self.average_time = 0.0\n",
        "\n",
        "    def tic(self):\n",
        "        # using time.time instead of time.clock because time time.clock\n",
        "        # does not normalize for multithreading\n",
        "        self.start_time = time.time()\n",
        "\n",
        "    def toc(self, average=True):\n",
        "        self.diff = time.time() - self.start_time\n",
        "        self.total_time += self.diff\n",
        "        self.calls += 1\n",
        "        self.average_time = self.total_time / self.calls\n",
        "        if average:\n",
        "            return self.average_time\n",
        "        else:\n",
        "            return self.diff"
      ],
      "metadata": {
        "id": "NGG4dWnK7WtJ"
      },
      "execution_count": null,
      "outputs": []
    },
    {
      "cell_type": "code",
      "source": [
        "import numpy as np\n",
        "\n",
        "import torch\n",
        "from torch import optim\n",
        "from torch.autograd import Variable\n",
        "from torch.optim.lr_scheduler import StepLR\n",
        "\n",
        "from models.CC import CrowdCounter\n",
        "from config import cfg as default_cfg\n",
        "#from misc.utils import * #Uncomment if not on colab\n",
        "import pdb\n",
        "\n",
        "## aleatoric trainer\n",
        "\n",
        "class Trainer:\n",
        "    def __init__(self, dataloader, cfg_data, pwd, cfg=None):\n",
        "\n",
        "        self.cfg_data = cfg_data\n",
        "        if cfg is None:\n",
        "            self.cfg = default_cfg\n",
        "        else:\n",
        "            self.cfg = cfg\n",
        "\n",
        "        self.data_mode = self.cfg.DATASET\n",
        "        self.exp_name = self.cfg.EXP_NAME\n",
        "        self.exp_path = self.cfg.EXP_PATH\n",
        "        self.pwd = pwd\n",
        "\n",
        "        self.net_name = self.cfg.NET\n",
        "        self.net = CrowdCounter_aleatoric(self.cfg.GPU_ID, self.net_name).cuda()\n",
        "        #self.net = CrowdCounter(self.cfg.GPU_ID, self.net_name).cuda()\n",
        "        self.optimizer = optim.Adam(\n",
        "            self.net.CCN.parameters(), lr=self.cfg.LR, weight_decay=1e-4\n",
        "        )\n",
        "        self.scheduler = StepLR(\n",
        "            self.optimizer,\n",
        "            step_size=self.cfg.NUM_EPOCH_LR_DECAY,\n",
        "            gamma=self.cfg.LR_DECAY,\n",
        "        )\n",
        "\n",
        "        self.train_record = {\"best_mae\": 1e20, \"best_mse\": 1e20, \"best_model_name\": \"\"}\n",
        "        self.timer = {\"iter time\": Timer(), \"train time\": Timer(), \"val time\": Timer()}\n",
        "\n",
        "        self.epoch = 0\n",
        "        self.i_tb = 0\n",
        "\n",
        "        self.loss = []\n",
        "\n",
        "        if self.cfg.PRE_GCC:\n",
        "            self.net.load_state_dict(torch.load(self.cfg.PRE_GCC_MODEL))\n",
        "\n",
        "        self.train_loader, self.val_loader, self.restore_transform = dataloader(cfg_data=cfg_data)\n",
        "\n",
        "        if self.cfg.RESUME:\n",
        "            latest_state = torch.load(self.cfg.RESUME_PATH)\n",
        "            self.net.load_state_dict(latest_state[\"net\"])\n",
        "            self.optimizer.load_state_dict(latest_state[\"optimizer\"])\n",
        "            self.scheduler.load_state_dict(latest_state[\"scheduler\"])\n",
        "            self.epoch = latest_state[\"epoch\"] #+ 1\n",
        "            self.i_tb = latest_state[\"i_tb\"]\n",
        "            self.train_record = latest_state[\"train_record\"]\n",
        "            self.exp_path = latest_state[\"exp_path\"]\n",
        "            self.exp_name = latest_state[\"exp_name\"]\n",
        "            self.loss = latest_state[\"loss\"]\n",
        "\n",
        "        self.writer, self.log_txt = logger(\n",
        "            self.exp_path, self.exp_name, self.pwd, \"exp\", resume=self.cfg.RESUME\n",
        "        )\n",
        "\n",
        "    def forward(self):\n",
        "\n",
        "        print(len(self.loss), len(self.loss)/66)\n",
        "\n",
        "        for epoch in range(self.epoch, self.epoch + self.cfg.MAX_EPOCH):\n",
        "            self.epoch = epoch\n",
        "            if epoch > self.cfg.LR_DECAY_START:\n",
        "                self.scheduler.step()\n",
        "\n",
        "            # training\n",
        "            self.timer[\"train time\"].tic()\n",
        "            self.train()\n",
        "            self.timer[\"train time\"].toc(average=False)\n",
        "\n",
        "            print(\"train time: {:.2f}s\".format(self.timer[\"train time\"].diff))\n",
        "            print(\"=\" * 20)\n",
        "\n",
        "            # validation\n",
        "            if epoch % self.cfg.VAL_FREQ == 0 or epoch > self.cfg.VAL_DENSE_START:\n",
        "                self.timer[\"val time\"].tic()\n",
        "                if self.data_mode in [\"SHHA\", \"SHHB\", \"QNRF\", \"UCF50\"]:\n",
        "                    self.validate_V1()\n",
        "                elif self.data_mode == \"WE\":\n",
        "                    self.validate_V2()\n",
        "                elif self.data_mode == \"GCC\":\n",
        "                    self.validate_V3()\n",
        "                self.timer[\"val time\"].toc(average=False)\n",
        "                print(\"val time: {:.2f}s\".format(self.timer[\"val time\"].diff))\n",
        "\n",
        "        return (self.loss)\n",
        "\n",
        "\n",
        "\n",
        "    def train(self):  # training for all datasets\n",
        "        self.net.train()\n",
        "        for i, data in enumerate(self.train_loader, 0):\n",
        "            self.timer[\"iter time\"].tic()\n",
        "            img, gt_map = data\n",
        "            img = Variable(img).cuda()\n",
        "            gt_map = Variable(gt_map).cuda()\n",
        "\n",
        "            self.optimizer.zero_grad()\n",
        "            pred_map, logvar = self.net(img, gt_map)\n",
        "            loss = self.net.loss\n",
        "\n",
        "            loss.backward()\n",
        "            self.optimizer.step()\n",
        "\n",
        "            self.loss.append(loss.item())\n",
        "\n",
        "            if (i + 1) % self.cfg.PRINT_FREQ == 0:\n",
        "\n",
        "                self.i_tb += 1\n",
        "                self.writer.add_scalar(\"train_loss\", loss.item(), self.i_tb)\n",
        "                self.timer[\"iter time\"].toc(average=False)\n",
        "                print(\n",
        "                    \"[ep %d][it %d][loss %.4f][lr %.4f][%.2fs]\"\n",
        "                    % (\n",
        "                        self.epoch + 1,\n",
        "                        i + 1,\n",
        "                        loss.item(),\n",
        "                        self.optimizer.param_groups[0][\"lr\"] * 10000,\n",
        "                        self.timer[\"iter time\"].diff,\n",
        "                    )\n",
        "                )\n",
        "                print(\n",
        "                    \"        [cnt: gt: %.1f pred: %.2f]\"\n",
        "                    % (\n",
        "                        gt_map[0].sum().data / self.cfg_data.LOG_PARA,\n",
        "                        pred_map[0].sum().data / self.cfg_data.LOG_PARA,\n",
        "                    )\n",
        "                )\n",
        "                print(\"logvar: \" + str(logvar[0].mean().data))\n",
        "\n",
        "    def validate_V1(self):  # validate_V1 for SHHA, SHHB, UCF-QNRF, UCF50\n",
        "\n",
        "        self.net.eval()\n",
        "\n",
        "        losses = AverageMeter()\n",
        "        maes = AverageMeter()\n",
        "        mses = AverageMeter()\n",
        "\n",
        "        for vi, data in enumerate(self.val_loader, 0):\n",
        "            img, gt_map = data\n",
        "\n",
        "            with torch.no_grad():\n",
        "                img = Variable(img).cuda()\n",
        "                gt_map = Variable(gt_map).cuda()\n",
        "\n",
        "                pred_map, logvar = self.net.forward(img, gt_map)\n",
        "\n",
        "                pred_map = pred_map.data.cpu().numpy()\n",
        "                gt_map = gt_map.data.cpu().numpy()\n",
        "\n",
        "                for i_img in range(pred_map.shape[0]):\n",
        "\n",
        "                    pred_cnt = np.sum(pred_map[i_img]) / self.cfg_data.LOG_PARA\n",
        "                    gt_count = np.sum(gt_map[i_img]) / self.cfg_data.LOG_PARA\n",
        "\n",
        "                    losses.update(self.net.loss.item())\n",
        "                    maes.update(abs(gt_count - pred_cnt))\n",
        "                    mses.update((gt_count - pred_cnt) * (gt_count - pred_cnt))\n",
        "                if vi == 0:\n",
        "                    vis_results(\n",
        "                        self.exp_name,\n",
        "                        self.epoch,\n",
        "                        self.writer,\n",
        "                        self.restore_transform,\n",
        "                        img,\n",
        "                        pred_map,\n",
        "                        gt_map,\n",
        "                    )\n",
        "\n",
        "        mae = maes.avg\n",
        "        mse = np.sqrt(mses.avg)\n",
        "        loss = losses.avg\n",
        "\n",
        "        self.writer.add_scalar(\"val_loss\", loss, self.epoch + 1)\n",
        "        self.writer.add_scalar(\"mae\", mae, self.epoch + 1)\n",
        "        self.writer.add_scalar(\"mse\", mse, self.epoch + 1)\n",
        "\n",
        "        self.train_record = update_model(\n",
        "            self.net,\n",
        "            self.optimizer,\n",
        "            self.scheduler,\n",
        "            self.epoch,\n",
        "            self.i_tb,\n",
        "            self.exp_path,\n",
        "            self.exp_name,\n",
        "            [mae, mse, loss],\n",
        "            self.train_record,\n",
        "            self.loss,\n",
        "            self.log_txt,\n",
        "        )\n",
        "        print_summary(self.exp_name, [mae, mse, loss], self.train_record)\n",
        "\n",
        "    def validate_V2(self):  # validate_V2 for WE\n",
        "\n",
        "        self.net.eval()\n",
        "\n",
        "        losses = AverageCategoryMeter(5)\n",
        "        maes = AverageCategoryMeter(5)\n",
        "\n",
        "        roi_mask = []\n",
        "        from datasets.WE.setting import cfg_data\n",
        "        from scipy import io as sio\n",
        "\n",
        "        for val_folder in cfg_data.VAL_FOLDER:\n",
        "\n",
        "            roi_mask.append(\n",
        "                sio.loadmat(\n",
        "                    os.path.join(cfg_data.DATA_PATH, \"test\", val_folder + \"_roi.mat\")\n",
        "                )[\"BW\"]\n",
        "            )\n",
        "\n",
        "        for i_sub, i_loader in enumerate(self.val_loader, 0):\n",
        "\n",
        "            mask = roi_mask[i_sub]\n",
        "            for vi, data in enumerate(i_loader, 0):\n",
        "                img, gt_map = data\n",
        "\n",
        "                with torch.no_grad():\n",
        "                    img = Variable(img).cuda()\n",
        "                    gt_map = Variable(gt_map).cuda()\n",
        "\n",
        "                    pred_map, logvar = self.net.forward(img, gt_map)\n",
        "\n",
        "                    pred_map = pred_map.data.cpu().numpy()\n",
        "                    gt_map = gt_map.data.cpu().numpy()\n",
        "\n",
        "                    for i_img in range(pred_map.shape[0]):\n",
        "\n",
        "                        pred_cnt = np.sum(pred_map[i_img]) / self.cfg_data.LOG_PARA\n",
        "                        gt_count = np.sum(gt_map[i_img]) / self.cfg_data.LOG_PARA\n",
        "\n",
        "                        losses.update(self.net.loss.item(), i_sub)\n",
        "                        maes.update(abs(gt_count - pred_cnt), i_sub)\n",
        "                    if vi == 0:\n",
        "                        vis_results(\n",
        "                            self.exp_name,\n",
        "                            self.epoch,\n",
        "                            self.writer,\n",
        "                            self.restore_transform,\n",
        "                            img,\n",
        "                            pred_map,\n",
        "                            gt_map,\n",
        "                        )\n",
        "\n",
        "        mae = np.average(maes.avg)\n",
        "        loss = np.average(losses.avg)\n",
        "\n",
        "        self.writer.add_scalar(\"val_loss\", loss, self.epoch + 1)\n",
        "        self.writer.add_scalar(\"mae\", mae, self.epoch + 1)\n",
        "        self.writer.add_scalar(\"mae_s1\", maes.avg[0], self.epoch + 1)\n",
        "        self.writer.add_scalar(\"mae_s2\", maes.avg[1], self.epoch + 1)\n",
        "        self.writer.add_scalar(\"mae_s3\", maes.avg[2], self.epoch + 1)\n",
        "        self.writer.add_scalar(\"mae_s4\", maes.avg[3], self.epoch + 1)\n",
        "        self.writer.add_scalar(\"mae_s5\", maes.avg[4], self.epoch + 1)\n",
        "\n",
        "        self.train_record = update_model(\n",
        "            self.net,\n",
        "            self.optimizer,\n",
        "            self.scheduler,\n",
        "            self.epoch,\n",
        "            self.i_tb,\n",
        "            self.exp_path,\n",
        "            self.exp_name,\n",
        "            [mae, 0, loss],\n",
        "            self.train_record,\n",
        "            self.log_txt,\n",
        "        )\n",
        "        print_WE_summary(\n",
        "            self.log_txt, self.epoch, [mae, 0, loss], self.train_record, maes\n",
        "        )\n",
        "\n",
        "    def validate_V3(self):  # validate_V3 for GCC\n",
        "\n",
        "        self.net.eval()\n",
        "\n",
        "        losses = AverageMeter()\n",
        "        maes = AverageMeter()\n",
        "        mses = AverageMeter()\n",
        "\n",
        "        c_maes = {\n",
        "            \"level\": AverageCategoryMeter(9),\n",
        "            \"time\": AverageCategoryMeter(8),\n",
        "            \"weather\": AverageCategoryMeter(7),\n",
        "        }\n",
        "        c_mses = {\n",
        "            \"level\": AverageCategoryMeter(9),\n",
        "            \"time\": AverageCategoryMeter(8),\n",
        "            \"weather\": AverageCategoryMeter(7),\n",
        "        }\n",
        "\n",
        "        for vi, data in enumerate(self.val_loader, 0):\n",
        "            img, gt_map, attributes_pt = data\n",
        "\n",
        "            with torch.no_grad():\n",
        "                img = Variable(img).cuda()\n",
        "                gt_map = Variable(gt_map).cuda()\n",
        "\n",
        "                pred_map, logvar = self.net.forward(img, gt_map)\n",
        "\n",
        "                pred_map = pred_map.data.cpu().numpy()\n",
        "                gt_map = gt_map.data.cpu().numpy()\n",
        "\n",
        "                for i_img in range(pred_map.shape[0]):\n",
        "\n",
        "                    pred_cnt = np.sum(pred_map[i_img]) / self.cfg_data.LOG_PARA\n",
        "                    gt_count = np.sum(gt_map[i_img]) / self.cfg_data.LOG_PARA\n",
        "\n",
        "                    s_mae = abs(gt_count - pred_cnt)\n",
        "                    s_mse = (gt_count - pred_cnt) * (gt_count - pred_cnt)\n",
        "\n",
        "                    losses.update(self.net.loss.item())\n",
        "                    maes.update(s_mae)\n",
        "                    mses.update(s_mse)\n",
        "                    attributes_pt = attributes_pt.squeeze()\n",
        "                    c_maes[\"level\"].update(s_mae, attributes_pt[i_img][0])\n",
        "                    c_mses[\"level\"].update(s_mse, attributes_pt[i_img][0])\n",
        "                    c_maes[\"time\"].update(s_mae, attributes_pt[i_img][1] / 3)\n",
        "                    c_mses[\"time\"].update(s_mse, attributes_pt[i_img][1] / 3)\n",
        "                    c_maes[\"weather\"].update(s_mae, attributes_pt[i_img][2])\n",
        "                    c_mses[\"weather\"].update(s_mse, attributes_pt[i_img][2])\n",
        "\n",
        "                if vi == 0:\n",
        "                    vis_results(\n",
        "                        self.exp_name,\n",
        "                        self.epoch,\n",
        "                        self.writer,\n",
        "                        self.restore_transform,\n",
        "                        img,\n",
        "                        pred_map,\n",
        "                        gt_map,\n",
        "                    )\n",
        "\n",
        "        loss = losses.avg\n",
        "        mae = maes.avg\n",
        "        mse = np.sqrt(mses.avg)\n",
        "\n",
        "        self.writer.add_scalar(\"val_loss\", loss, self.epoch + 1)\n",
        "        self.writer.add_scalar(\"mae\", mae, self.epoch + 1)\n",
        "        self.writer.add_scalar(\"mse\", mse, self.epoch + 1)\n",
        "\n",
        "        self.train_record = update_model(\n",
        "            self.net,\n",
        "            self.optimizer,\n",
        "            self.scheduler,\n",
        "            self.epoch,\n",
        "            self.i_tb,\n",
        "            self.exp_path,\n",
        "            self.exp_name,\n",
        "            [mae, mse, loss],\n",
        "            self.train_record,\n",
        "            self.log_txt,\n",
        "        )\n",
        "\n",
        "        print_GCC_summary(\n",
        "            self.log_txt,\n",
        "            self.epoch,\n",
        "            [mae, mse, loss],\n",
        "            self.train_record,\n",
        "            c_maes,\n",
        "            c_mses,\n",
        "        )\n"
      ],
      "metadata": {
        "id": "vWl4ivlfa_Ka"
      },
      "execution_count": null,
      "outputs": []
    },
    {
      "cell_type": "markdown",
      "source": [
        "Training"
      ],
      "metadata": {
        "id": "aqYEE8OHrKup"
      }
    },
    {
      "cell_type": "code",
      "execution_count": null,
      "metadata": {
        "id": "WKqNKsTyUf2P",
        "colab": {
          "base_uri": "https://localhost:8080/"
        },
        "outputId": "5387d9f9-5094-4887-bca0-1adf819b7953"
      },
      "outputs": [
        {
          "output_type": "stream",
          "name": "stdout",
          "text": [
            "2772 42.0\n",
            "[ep 41][it 10][loss 0.0040][lr 0.0806][2.54s]\n",
            "        [cnt: gt: 64.9 pred: 45.05]\n",
            "[ep 41][it 20][loss 0.0084][lr 0.0806][2.57s]\n",
            "        [cnt: gt: 106.9 pred: 99.33]\n",
            "[ep 41][it 30][loss 0.0062][lr 0.0806][2.51s]\n",
            "        [cnt: gt: 108.6 pred: 96.21]\n",
            "[ep 41][it 40][loss 0.0057][lr 0.0806][2.53s]\n",
            "        [cnt: gt: 63.0 pred: 70.17]\n",
            "[ep 41][it 50][loss 0.0052][lr 0.0806][2.54s]\n",
            "        [cnt: gt: 121.0 pred: 121.11]\n",
            "[ep 41][it 60][loss 0.0067][lr 0.0806][2.52s]\n",
            "        [cnt: gt: 98.6 pred: 44.58]\n",
            "train time: 180.47s\n",
            "====================\n",
            "==================================================\n",
            "03-12_18-18_SHHB_CSRNet_1e-05__MSEloss_lr1e-5\n",
            "    --------------------\n",
            "    [mae 46.91 mse 52.56], [val loss 0.0067]\n",
            "    --------------------\n",
            "[best] [model: all_ep_11_mae_13.9_mse_21.9] , [mae 13.94], [mse 21.92]\n",
            "==================================================\n",
            "val time: 67.57s\n",
            "[ep 42][it 10][loss 0.0069][lr 0.0802][2.57s]\n",
            "        [cnt: gt: 124.6 pred: 172.80]\n",
            "[ep 42][it 20][loss 0.0048][lr 0.0802][2.55s]\n",
            "        [cnt: gt: 58.0 pred: 85.98]\n",
            "[ep 42][it 30][loss 0.0078][lr 0.0802][2.51s]\n",
            "        [cnt: gt: 95.0 pred: 129.81]\n",
            "[ep 42][it 40][loss 0.0044][lr 0.0802][2.51s]\n",
            "        [cnt: gt: 90.0 pred: 83.00]\n",
            "[ep 42][it 50][loss 0.0066][lr 0.0802][2.54s]\n",
            "        [cnt: gt: 21.0 pred: 39.52]\n",
            "[ep 42][it 60][loss 0.0066][lr 0.0802][2.52s]\n",
            "        [cnt: gt: 54.7 pred: 58.11]\n",
            "train time: 178.78s\n",
            "====================\n",
            "[ep 43][it 10][loss 0.0072][lr 0.0798][2.57s]\n",
            "        [cnt: gt: 243.0 pred: 284.11]\n",
            "[ep 43][it 20][loss 0.0059][lr 0.0798][2.53s]\n",
            "        [cnt: gt: 143.0 pred: 139.51]\n",
            "[ep 43][it 30][loss 0.0057][lr 0.0798][2.51s]\n",
            "        [cnt: gt: 132.0 pred: 119.27]\n",
            "[ep 43][it 40][loss 0.0048][lr 0.0798][2.53s]\n",
            "        [cnt: gt: 34.0 pred: 45.68]\n",
            "[ep 43][it 50][loss 0.0065][lr 0.0798][2.55s]\n",
            "        [cnt: gt: 129.9 pred: 128.81]\n",
            "[ep 43][it 60][loss 0.0052][lr 0.0798][2.53s]\n",
            "        [cnt: gt: 253.0 pred: 250.89]\n",
            "train time: 176.44s\n",
            "====================\n",
            "[ep 44][it 10][loss 0.0058][lr 0.0794][2.59s]\n",
            "        [cnt: gt: 211.0 pred: 217.12]\n",
            "[ep 44][it 20][loss 0.0050][lr 0.0794][2.55s]\n",
            "        [cnt: gt: 35.0 pred: 41.63]\n",
            "[ep 44][it 30][loss 0.0055][lr 0.0794][2.51s]\n",
            "        [cnt: gt: 123.0 pred: 103.98]\n",
            "[ep 44][it 40][loss 0.0029][lr 0.0794][2.53s]\n",
            "        [cnt: gt: 60.0 pred: 64.73]\n",
            "[ep 44][it 50][loss 0.0048][lr 0.0794][2.54s]\n",
            "        [cnt: gt: 56.0 pred: 24.39]\n",
            "[ep 44][it 60][loss 0.0058][lr 0.0794][2.54s]\n",
            "        [cnt: gt: 35.0 pred: 66.72]\n",
            "train time: 176.65s\n",
            "====================\n",
            "[ep 45][it 10][loss 0.0068][lr 0.0790][2.61s]\n",
            "        [cnt: gt: 136.0 pred: 124.74]\n",
            "[ep 45][it 20][loss 0.0063][lr 0.0790][2.54s]\n",
            "        [cnt: gt: 61.0 pred: 64.47]\n",
            "[ep 45][it 30][loss 0.0108][lr 0.0790][2.51s]\n",
            "        [cnt: gt: 156.0 pred: 184.18]\n",
            "[ep 45][it 40][loss 0.0036][lr 0.0790][2.53s]\n",
            "        [cnt: gt: 41.0 pred: 50.08]\n",
            "[ep 45][it 50][loss 0.0040][lr 0.0790][2.55s]\n",
            "        [cnt: gt: 26.0 pred: 20.73]\n",
            "[ep 45][it 60][loss 0.0068][lr 0.0790][2.52s]\n",
            "        [cnt: gt: 61.0 pred: 72.29]\n",
            "train time: 178.95s\n",
            "====================\n",
            "[ep 46][it 10][loss 0.0057][lr 0.0786][2.59s]\n",
            "        [cnt: gt: 14.0 pred: 24.22]\n",
            "[ep 46][it 20][loss 0.0063][lr 0.0786][2.56s]\n",
            "        [cnt: gt: 164.7 pred: 120.04]\n",
            "[ep 46][it 30][loss 0.0069][lr 0.0786][2.52s]\n",
            "        [cnt: gt: 35.8 pred: 26.49]\n",
            "[ep 46][it 40][loss 0.0090][lr 0.0786][2.55s]\n",
            "        [cnt: gt: 343.9 pred: 323.04]\n",
            "[ep 46][it 50][loss 0.0079][lr 0.0786][2.53s]\n",
            "        [cnt: gt: 97.0 pred: 92.67]\n",
            "[ep 46][it 60][loss 0.0049][lr 0.0786][2.52s]\n",
            "        [cnt: gt: 64.9 pred: 57.88]\n",
            "train time: 178.49s\n",
            "====================\n",
            "[ep 47][it 10][loss 0.0066][lr 0.0782][2.62s]\n",
            "        [cnt: gt: 263.5 pred: 276.41]\n",
            "[ep 47][it 20][loss 0.0083][lr 0.0782][2.53s]\n",
            "        [cnt: gt: 64.0 pred: 82.58]\n",
            "[ep 47][it 30][loss 0.0050][lr 0.0782][2.51s]\n",
            "        [cnt: gt: 107.0 pred: 106.15]\n",
            "[ep 47][it 40][loss 0.0045][lr 0.0782][2.55s]\n",
            "        [cnt: gt: 53.0 pred: 40.45]\n",
            "[ep 47][it 50][loss 0.0047][lr 0.0782][2.53s]\n",
            "        [cnt: gt: 95.8 pred: 95.13]\n",
            "[ep 47][it 60][loss 0.0096][lr 0.0782][2.54s]\n",
            "        [cnt: gt: 577.0 pred: 563.94]\n",
            "train time: 177.73s\n",
            "====================\n",
            "[ep 48][it 10][loss 0.0073][lr 0.0778][2.59s]\n",
            "        [cnt: gt: 48.8 pred: 39.00]\n",
            "[ep 48][it 20][loss 0.0051][lr 0.0778][2.55s]\n",
            "        [cnt: gt: 52.8 pred: 40.78]\n",
            "[ep 48][it 30][loss 0.0052][lr 0.0778][2.51s]\n",
            "        [cnt: gt: 47.0 pred: 45.79]\n",
            "[ep 48][it 40][loss 0.0027][lr 0.0778][2.53s]\n",
            "        [cnt: gt: 53.9 pred: 41.73]\n",
            "[ep 48][it 50][loss 0.0099][lr 0.0778][2.55s]\n",
            "        [cnt: gt: 204.9 pred: 211.43]\n",
            "[ep 48][it 60][loss 0.0026][lr 0.0778][2.54s]\n",
            "        [cnt: gt: 35.8 pred: 34.50]\n",
            "train time: 178.93s\n",
            "====================\n",
            "[ep 49][it 10][loss 0.0053][lr 0.0774][2.59s]\n",
            "        [cnt: gt: 68.0 pred: 85.08]\n",
            "[ep 49][it 20][loss 0.0088][lr 0.0774][2.55s]\n",
            "        [cnt: gt: 522.0 pred: 576.45]\n",
            "[ep 49][it 30][loss 0.0045][lr 0.0774][2.51s]\n",
            "        [cnt: gt: 120.0 pred: 109.55]\n",
            "[ep 49][it 40][loss 0.0083][lr 0.0774][2.54s]\n",
            "        [cnt: gt: 187.6 pred: 172.82]\n",
            "[ep 49][it 50][loss 0.0090][lr 0.0774][2.54s]\n",
            "        [cnt: gt: 350.0 pred: 394.22]\n",
            "[ep 49][it 60][loss 0.0057][lr 0.0774][2.53s]\n",
            "        [cnt: gt: 31.0 pred: 32.42]\n",
            "train time: 178.09s\n",
            "====================\n",
            "[ep 50][it 10][loss 0.0054][lr 0.0771][2.59s]\n",
            "        [cnt: gt: 173.5 pred: 175.56]\n",
            "[ep 50][it 20][loss 0.0059][lr 0.0771][2.55s]\n",
            "        [cnt: gt: 155.9 pred: 190.68]\n",
            "[ep 50][it 30][loss 0.0073][lr 0.0771][2.51s]\n",
            "        [cnt: gt: 79.0 pred: 65.69]\n",
            "[ep 50][it 40][loss 0.0080][lr 0.0771][2.55s]\n",
            "        [cnt: gt: 283.0 pred: 277.68]\n",
            "[ep 50][it 50][loss 0.0038][lr 0.0771][2.55s]\n",
            "        [cnt: gt: 62.0 pred: 50.30]\n",
            "[ep 50][it 60][loss 0.0057][lr 0.0771][2.53s]\n",
            "        [cnt: gt: 26.0 pred: 33.65]\n",
            "train time: 178.48s\n",
            "====================\n",
            "[ep 51][it 10][loss 0.0065][lr 0.0767][2.58s]\n",
            "        [cnt: gt: 317.8 pred: 329.83]\n",
            "[ep 51][it 20][loss 0.0055][lr 0.0767][2.55s]\n",
            "        [cnt: gt: 80.9 pred: 53.60]\n",
            "[ep 51][it 30][loss 0.0066][lr 0.0767][2.54s]\n",
            "        [cnt: gt: 53.0 pred: 66.61]\n",
            "[ep 51][it 40][loss 0.0094][lr 0.0767][2.53s]\n",
            "        [cnt: gt: 168.0 pred: 158.73]\n",
            "[ep 51][it 50][loss 0.0058][lr 0.0767][2.53s]\n",
            "        [cnt: gt: 59.0 pred: 56.62]\n",
            "[ep 51][it 60][loss 0.0054][lr 0.0767][2.52s]\n",
            "        [cnt: gt: 219.0 pred: 296.91]\n",
            "train time: 179.54s\n",
            "====================\n",
            "==================================================\n",
            "03-12_18-18_SHHB_CSRNet_1e-05__MSEloss_lr1e-5\n",
            "    --------------------\n",
            "    [mae 18.57 mse 26.47], [val loss 0.0065]\n",
            "    --------------------\n",
            "[best] [model: all_ep_11_mae_13.9_mse_21.9] , [mae 13.94], [mse 21.92]\n",
            "==================================================\n",
            "val time: 67.76s\n",
            "[ep 52][it 10][loss 0.0042][lr 0.0763][2.55s]\n",
            "        [cnt: gt: 79.8 pred: 71.38]\n",
            "[ep 52][it 20][loss 0.0053][lr 0.0763][2.54s]\n",
            "        [cnt: gt: 34.0 pred: 30.62]\n",
            "[ep 52][it 30][loss 0.0099][lr 0.0763][2.52s]\n",
            "        [cnt: gt: 260.0 pred: 263.02]\n",
            "[ep 52][it 40][loss 0.0040][lr 0.0763][2.53s]\n",
            "        [cnt: gt: 26.7 pred: 20.20]\n",
            "[ep 52][it 50][loss 0.0068][lr 0.0763][2.53s]\n",
            "        [cnt: gt: 141.7 pred: 112.71]\n",
            "[ep 52][it 60][loss 0.0057][lr 0.0763][2.53s]\n",
            "        [cnt: gt: 76.9 pred: 108.48]\n",
            "train time: 177.28s\n",
            "====================\n",
            "[ep 53][it 10][loss 0.0038][lr 0.0759][2.56s]\n",
            "        [cnt: gt: 13.0 pred: 20.21]\n",
            "[ep 53][it 20][loss 0.0086][lr 0.0759][2.56s]\n",
            "        [cnt: gt: 113.9 pred: 123.50]\n",
            "[ep 53][it 30][loss 0.0050][lr 0.0759][2.51s]\n",
            "        [cnt: gt: 166.8 pred: 181.94]\n",
            "[ep 53][it 40][loss 0.0078][lr 0.0759][2.53s]\n",
            "        [cnt: gt: 150.5 pred: 101.75]\n",
            "[ep 53][it 50][loss 0.0047][lr 0.0759][2.54s]\n",
            "        [cnt: gt: 49.8 pred: 52.23]\n",
            "[ep 53][it 60][loss 0.0019][lr 0.0759][2.51s]\n",
            "        [cnt: gt: 43.0 pred: 56.22]\n",
            "train time: 177.57s\n",
            "====================\n",
            "[ep 54][it 10][loss 0.0065][lr 0.0755][2.59s]\n",
            "        [cnt: gt: 345.6 pred: 346.02]\n",
            "[ep 54][it 20][loss 0.0049][lr 0.0755][2.54s]\n",
            "        [cnt: gt: 130.0 pred: 122.95]\n",
            "[ep 54][it 30][loss 0.0052][lr 0.0755][2.51s]\n",
            "        [cnt: gt: 168.9 pred: 202.73]\n",
            "[ep 54][it 40][loss 0.0049][lr 0.0755][2.53s]\n",
            "        [cnt: gt: 200.4 pred: 219.29]\n",
            "[ep 54][it 50][loss 0.0050][lr 0.0755][2.53s]\n",
            "        [cnt: gt: 117.0 pred: 134.18]\n",
            "[ep 54][it 60][loss 0.0054][lr 0.0755][2.53s]\n",
            "        [cnt: gt: 25.0 pred: 31.94]\n",
            "train time: 179.98s\n",
            "====================\n",
            "[ep 55][it 10][loss 0.0052][lr 0.0751][2.60s]\n",
            "        [cnt: gt: 152.0 pred: 136.07]\n",
            "[ep 55][it 20][loss 0.0034][lr 0.0751][2.55s]\n",
            "        [cnt: gt: 26.0 pred: 27.86]\n",
            "[ep 55][it 30][loss 0.0051][lr 0.0751][2.51s]\n",
            "        [cnt: gt: 42.0 pred: 36.17]\n",
            "[ep 55][it 40][loss 0.0045][lr 0.0751][2.53s]\n",
            "        [cnt: gt: 266.0 pred: 294.27]\n",
            "[ep 55][it 50][loss 0.0061][lr 0.0751][2.54s]\n",
            "        [cnt: gt: 197.8 pred: 184.87]\n",
            "[ep 55][it 60][loss 0.0061][lr 0.0751][2.53s]\n",
            "        [cnt: gt: 260.0 pred: 279.69]\n",
            "train time: 178.83s\n",
            "====================\n",
            "[ep 56][it 10][loss 0.0061][lr 0.0748][2.59s]\n",
            "        [cnt: gt: 120.0 pred: 135.60]\n",
            "[ep 56][it 20][loss 0.0044][lr 0.0748][2.54s]\n",
            "        [cnt: gt: 41.0 pred: 43.04]\n",
            "[ep 56][it 30][loss 0.0026][lr 0.0748][2.51s]\n",
            "        [cnt: gt: 80.0 pred: 83.48]\n",
            "[ep 56][it 40][loss 0.0058][lr 0.0748][2.53s]\n",
            "        [cnt: gt: 103.0 pred: 50.55]\n",
            "[ep 56][it 50][loss 0.0091][lr 0.0748][2.53s]\n",
            "        [cnt: gt: 38.0 pred: 35.66]\n",
            "[ep 56][it 60][loss 0.0046][lr 0.0748][2.52s]\n",
            "        [cnt: gt: 90.0 pred: 86.57]\n",
            "train time: 178.01s\n",
            "====================\n",
            "[ep 57][it 10][loss 0.0077][lr 0.0744][2.59s]\n",
            "        [cnt: gt: 26.0 pred: 20.38]\n",
            "[ep 57][it 20][loss 0.0055][lr 0.0744][2.55s]\n",
            "        [cnt: gt: 150.5 pred: 135.67]\n",
            "[ep 57][it 30][loss 0.0037][lr 0.0744][2.52s]\n",
            "        [cnt: gt: 54.6 pred: 43.20]\n",
            "[ep 57][it 40][loss 0.0074][lr 0.0744][2.55s]\n",
            "        [cnt: gt: 31.0 pred: 43.26]\n",
            "[ep 57][it 50][loss 0.0075][lr 0.0744][2.53s]\n",
            "        [cnt: gt: 211.0 pred: 157.60]\n",
            "[ep 57][it 60][loss 0.0042][lr 0.0744][2.53s]\n",
            "        [cnt: gt: 118.0 pred: 116.03]\n",
            "train time: 177.33s\n",
            "====================\n",
            "[ep 58][it 10][loss 0.0032][lr 0.0740][2.57s]\n",
            "        [cnt: gt: 53.9 pred: 51.27]\n",
            "[ep 58][it 20][loss 0.0041][lr 0.0740][2.55s]\n",
            "        [cnt: gt: 152.0 pred: 158.65]\n",
            "[ep 58][it 30][loss 0.0053][lr 0.0740][2.51s]\n",
            "        [cnt: gt: 72.0 pred: 66.25]\n",
            "[ep 58][it 40][loss 0.0047][lr 0.0740][2.53s]\n",
            "        [cnt: gt: 59.0 pred: 54.69]\n",
            "[ep 58][it 50][loss 0.0061][lr 0.0740][2.55s]\n",
            "        [cnt: gt: 23.0 pred: 19.27]\n",
            "[ep 58][it 60][loss 0.0057][lr 0.0740][2.52s]\n",
            "        [cnt: gt: 105.7 pred: 97.50]\n",
            "train time: 178.46s\n",
            "====================\n",
            "[ep 59][it 10][loss 0.0084][lr 0.0737][2.61s]\n",
            "        [cnt: gt: 120.0 pred: 106.17]\n",
            "[ep 59][it 20][loss 0.0035][lr 0.0737][2.54s]\n",
            "        [cnt: gt: 47.0 pred: 42.02]\n",
            "[ep 59][it 30][loss 0.0085][lr 0.0737][2.51s]\n",
            "        [cnt: gt: 340.8 pred: 341.30]\n",
            "[ep 59][it 40][loss 0.0039][lr 0.0737][2.55s]\n",
            "        [cnt: gt: 45.1 pred: 44.89]\n",
            "[ep 59][it 50][loss 0.0028][lr 0.0737][2.53s]\n",
            "        [cnt: gt: 66.9 pred: 62.57]\n",
            "[ep 59][it 60][loss 0.0082][lr 0.0737][2.54s]\n",
            "        [cnt: gt: 129.1 pred: 113.78]\n",
            "train time: 178.83s\n",
            "====================\n",
            "[ep 60][it 10][loss 0.0048][lr 0.0733][2.60s]\n",
            "        [cnt: gt: 141.7 pred: 136.75]\n",
            "[ep 60][it 20][loss 0.0062][lr 0.0733][2.53s]\n",
            "        [cnt: gt: 97.0 pred: 81.35]\n",
            "[ep 60][it 30][loss 0.0087][lr 0.0733][2.50s]\n",
            "        [cnt: gt: 177.6 pred: 153.31]\n",
            "[ep 60][it 40][loss 0.0047][lr 0.0733][2.53s]\n",
            "        [cnt: gt: 28.0 pred: 32.19]\n",
            "[ep 60][it 50][loss 0.0052][lr 0.0733][2.53s]\n",
            "        [cnt: gt: 129.9 pred: 94.18]\n",
            "[ep 60][it 60][loss 0.0066][lr 0.0733][2.53s]\n",
            "        [cnt: gt: 109.0 pred: 87.68]\n",
            "train time: 178.08s\n",
            "====================\n",
            "[ep 61][it 10][loss 0.0033][lr 0.0729][2.58s]\n",
            "        [cnt: gt: 47.0 pred: 44.42]\n",
            "[ep 61][it 20][loss 0.0071][lr 0.0729][2.53s]\n",
            "        [cnt: gt: 156.0 pred: 193.28]\n",
            "[ep 61][it 30][loss 0.0055][lr 0.0729][2.53s]\n",
            "        [cnt: gt: 49.0 pred: 46.16]\n",
            "[ep 61][it 40][loss 0.0042][lr 0.0729][2.54s]\n",
            "        [cnt: gt: 20.0 pred: 21.86]\n",
            "[ep 61][it 50][loss 0.0062][lr 0.0729][2.54s]\n",
            "        [cnt: gt: 93.9 pred: 79.36]\n",
            "[ep 61][it 60][loss 0.0047][lr 0.0729][2.53s]\n",
            "        [cnt: gt: 30.0 pred: 31.08]\n",
            "train time: 177.39s\n",
            "====================\n",
            "==================================================\n",
            "03-12_18-18_SHHB_CSRNet_1e-05__MSEloss_lr1e-5\n",
            "    --------------------\n",
            "    [mae 18.05 mse 28.75], [val loss 0.0065]\n",
            "    --------------------\n",
            "[best] [model: all_ep_11_mae_13.9_mse_21.9] , [mae 13.94], [mse 21.92]\n",
            "==================================================\n",
            "val time: 67.35s\n"
          ]
        }
      ],
      "source": [
        "# ------------Start Training------------\n",
        "\n",
        "cc_trainer = Trainer(dataloader=loading_data, cfg_data=cfg_data, cfg=cfg, pwd=drive_path + \"/MyDrive/C3/\")\n",
        "losses = cc_trainer.forward()"
      ]
    },
    {
      "cell_type": "code",
      "source": [
        "## Averaging the loss over iterations\n",
        "\n",
        "latest_state = torch.load('/content/drive/MyDrive/C3/GOOD_GAUSS_EP_70.pth'\n",
        "                          )\n",
        "loss = latest_state[\"loss\"]\n",
        "loss_means = []\n",
        "for x in range(0, len(loss), 66):\n",
        "    every_chunk = loss[x: 66+x]\n",
        "    mean = np.mean(every_chunk)\n",
        "    loss_means.append(mean)\n",
        "print(len(loss_means))"
      ],
      "metadata": {
        "colab": {
          "base_uri": "https://localhost:8080/"
        },
        "id": "juYAwCwA0Til",
        "outputId": "ab69087c-f338-4389-c8f5-e4ad2c81299d"
      },
      "execution_count": null,
      "outputs": [
        {
          "output_type": "stream",
          "name": "stdout",
          "text": [
            "72\n"
          ]
        }
      ]
    },
    {
      "cell_type": "code",
      "source": [
        "##Plotting the loss\n",
        "\n",
        "import matplotlib.pyplot as plt\n",
        "\n",
        "plt.plot(loss_means)\n",
        "plt.xlabel(\"epochs\")\n",
        "print(len(loss_means))"
      ],
      "metadata": {
        "colab": {
          "base_uri": "https://localhost:8080/",
          "height": 296
        },
        "id": "aR_Y7TD-dkN2",
        "outputId": "9ec87c24-f8c1-4867-dc46-d1186b52de69"
      },
      "execution_count": null,
      "outputs": [
        {
          "output_type": "stream",
          "name": "stdout",
          "text": [
            "72\n"
          ]
        },
        {
          "output_type": "display_data",
          "data": {
            "text/plain": [
              "<Figure size 432x288 with 1 Axes>"
            ],
            "image/png": "[encoded data removed]"
          },
          "metadata": {
            "needs_background": "light"
          }
        }
      ]
    },
    {
      "cell_type": "markdown",
      "source": [
        "Test"
      ],
      "metadata": {
        "id": "DthU9YTubFTu"
      }
    },
    {
      "cell_type": "code",
      "execution_count": null,
      "metadata": {
        "id": "IhNvcqn_0-nf",
        "colab": {
          "base_uri": "https://localhost:8080/"
        },
        "outputId": "a267e876-8907-4678-9685-664ad5b47803"
      },
      "outputs": [
        {
          "output_type": "stream",
          "name": "stderr",
          "text": [
            "/usr/local/lib/python3.9/dist-packages/torchvision/models/_utils.py:208: UserWarning: The parameter 'pretrained' is deprecated since 0.13 and may be removed in the future, please use 'weights' instead.\n",
            "  warnings.warn(\n",
            "/usr/local/lib/python3.9/dist-packages/torchvision/models/_utils.py:223: UserWarning: Arguments other than a weight enum or `None` for 'weights' are deprecated since 0.13 and may be removed in the future. The current behavior is equivalent to passing `weights=VGG16_Weights.IMAGENET1K_V1`. You can also use `weights=VGG16_Weights.DEFAULT` to get the most up-to-date weights.\n",
            "  warnings.warn(msg)\n"
          ]
        },
        {
          "output_type": "stream",
          "name": "stdout",
          "text": [
            "105.jpg\n"
          ]
        },
        {
          "output_type": "stream",
          "name": "stderr",
          "text": [
            "/usr/local/lib/python3.9/dist-packages/torch/nn/functional.py:3734: UserWarning: nn.functional.upsample is deprecated. Use nn.functional.interpolate instead.\n",
            "  warnings.warn(\"nn.functional.upsample is deprecated. Use nn.functional.interpolate instead.\")\n"
          ]
        },
        {
          "output_type": "stream",
          "name": "stdout",
          "text": [
            "112.jpg\n"
          ]
        },
        {
          "output_type": "stream",
          "name": "stderr",
          "text": [
            "/usr/local/lib/python3.9/dist-packages/torch/nn/functional.py:3734: UserWarning: nn.functional.upsample is deprecated. Use nn.functional.interpolate instead.\n",
            "  warnings.warn(\"nn.functional.upsample is deprecated. Use nn.functional.interpolate instead.\")\n"
          ]
        },
        {
          "output_type": "stream",
          "name": "stdout",
          "text": [
            "108.jpg\n"
          ]
        },
        {
          "output_type": "stream",
          "name": "stderr",
          "text": [
            "/usr/local/lib/python3.9/dist-packages/torch/nn/functional.py:3734: UserWarning: nn.functional.upsample is deprecated. Use nn.functional.interpolate instead.\n",
            "  warnings.warn(\"nn.functional.upsample is deprecated. Use nn.functional.interpolate instead.\")\n"
          ]
        },
        {
          "output_type": "stream",
          "name": "stdout",
          "text": [
            "110.jpg\n"
          ]
        },
        {
          "output_type": "stream",
          "name": "stderr",
          "text": [
            "/usr/local/lib/python3.9/dist-packages/torch/nn/functional.py:3734: UserWarning: nn.functional.upsample is deprecated. Use nn.functional.interpolate instead.\n",
            "  warnings.warn(\"nn.functional.upsample is deprecated. Use nn.functional.interpolate instead.\")\n"
          ]
        },
        {
          "output_type": "stream",
          "name": "stdout",
          "text": [
            "10.jpg\n"
          ]
        },
        {
          "output_type": "stream",
          "name": "stderr",
          "text": [
            "/usr/local/lib/python3.9/dist-packages/torch/nn/functional.py:3734: UserWarning: nn.functional.upsample is deprecated. Use nn.functional.interpolate instead.\n",
            "  warnings.warn(\"nn.functional.upsample is deprecated. Use nn.functional.interpolate instead.\")\n"
          ]
        },
        {
          "output_type": "stream",
          "name": "stdout",
          "text": [
            "111.jpg\n"
          ]
        },
        {
          "output_type": "stream",
          "name": "stderr",
          "text": [
            "/usr/local/lib/python3.9/dist-packages/torch/nn/functional.py:3734: UserWarning: nn.functional.upsample is deprecated. Use nn.functional.interpolate instead.\n",
            "  warnings.warn(\"nn.functional.upsample is deprecated. Use nn.functional.interpolate instead.\")\n"
          ]
        },
        {
          "output_type": "stream",
          "name": "stdout",
          "text": [
            "116.jpg\n"
          ]
        },
        {
          "output_type": "stream",
          "name": "stderr",
          "text": [
            "/usr/local/lib/python3.9/dist-packages/torch/nn/functional.py:3734: UserWarning: nn.functional.upsample is deprecated. Use nn.functional.interpolate instead.\n",
            "  warnings.warn(\"nn.functional.upsample is deprecated. Use nn.functional.interpolate instead.\")\n"
          ]
        },
        {
          "output_type": "stream",
          "name": "stdout",
          "text": [
            "103.jpg\n"
          ]
        },
        {
          "output_type": "stream",
          "name": "stderr",
          "text": [
            "/usr/local/lib/python3.9/dist-packages/torch/nn/functional.py:3734: UserWarning: nn.functional.upsample is deprecated. Use nn.functional.interpolate instead.\n",
            "  warnings.warn(\"nn.functional.upsample is deprecated. Use nn.functional.interpolate instead.\")\n"
          ]
        },
        {
          "output_type": "stream",
          "name": "stdout",
          "text": [
            "107.jpg\n"
          ]
        },
        {
          "output_type": "stream",
          "name": "stderr",
          "text": [
            "/usr/local/lib/python3.9/dist-packages/torch/nn/functional.py:3734: UserWarning: nn.functional.upsample is deprecated. Use nn.functional.interpolate instead.\n",
            "  warnings.warn(\"nn.functional.upsample is deprecated. Use nn.functional.interpolate instead.\")\n"
          ]
        },
        {
          "output_type": "stream",
          "name": "stdout",
          "text": [
            "114.jpg\n"
          ]
        },
        {
          "output_type": "stream",
          "name": "stderr",
          "text": [
            "/usr/local/lib/python3.9/dist-packages/torch/nn/functional.py:3734: UserWarning: nn.functional.upsample is deprecated. Use nn.functional.interpolate instead.\n",
            "  warnings.warn(\"nn.functional.upsample is deprecated. Use nn.functional.interpolate instead.\")\n"
          ]
        },
        {
          "output_type": "stream",
          "name": "stdout",
          "text": [
            "109.jpg\n"
          ]
        },
        {
          "output_type": "stream",
          "name": "stderr",
          "text": [
            "/usr/local/lib/python3.9/dist-packages/torch/nn/functional.py:3734: UserWarning: nn.functional.upsample is deprecated. Use nn.functional.interpolate instead.\n",
            "  warnings.warn(\"nn.functional.upsample is deprecated. Use nn.functional.interpolate instead.\")\n"
          ]
        },
        {
          "output_type": "stream",
          "name": "stdout",
          "text": [
            "101.jpg\n"
          ]
        },
        {
          "output_type": "stream",
          "name": "stderr",
          "text": [
            "/usr/local/lib/python3.9/dist-packages/torch/nn/functional.py:3734: UserWarning: nn.functional.upsample is deprecated. Use nn.functional.interpolate instead.\n",
            "  warnings.warn(\"nn.functional.upsample is deprecated. Use nn.functional.interpolate instead.\")\n"
          ]
        },
        {
          "output_type": "stream",
          "name": "stdout",
          "text": [
            "102.jpg\n"
          ]
        },
        {
          "output_type": "stream",
          "name": "stderr",
          "text": [
            "/usr/local/lib/python3.9/dist-packages/torch/nn/functional.py:3734: UserWarning: nn.functional.upsample is deprecated. Use nn.functional.interpolate instead.\n",
            "  warnings.warn(\"nn.functional.upsample is deprecated. Use nn.functional.interpolate instead.\")\n"
          ]
        },
        {
          "output_type": "stream",
          "name": "stdout",
          "text": [
            "118.jpg\n"
          ]
        },
        {
          "output_type": "stream",
          "name": "stderr",
          "text": [
            "/usr/local/lib/python3.9/dist-packages/torch/nn/functional.py:3734: UserWarning: nn.functional.upsample is deprecated. Use nn.functional.interpolate instead.\n",
            "  warnings.warn(\"nn.functional.upsample is deprecated. Use nn.functional.interpolate instead.\")\n"
          ]
        },
        {
          "output_type": "stream",
          "name": "stdout",
          "text": [
            "117.jpg\n"
          ]
        },
        {
          "output_type": "stream",
          "name": "stderr",
          "text": [
            "/usr/local/lib/python3.9/dist-packages/torch/nn/functional.py:3734: UserWarning: nn.functional.upsample is deprecated. Use nn.functional.interpolate instead.\n",
            "  warnings.warn(\"nn.functional.upsample is deprecated. Use nn.functional.interpolate instead.\")\n"
          ]
        },
        {
          "output_type": "stream",
          "name": "stdout",
          "text": [
            "106.jpg\n"
          ]
        },
        {
          "output_type": "stream",
          "name": "stderr",
          "text": [
            "/usr/local/lib/python3.9/dist-packages/torch/nn/functional.py:3734: UserWarning: nn.functional.upsample is deprecated. Use nn.functional.interpolate instead.\n",
            "  warnings.warn(\"nn.functional.upsample is deprecated. Use nn.functional.interpolate instead.\")\n"
          ]
        },
        {
          "output_type": "stream",
          "name": "stdout",
          "text": [
            "113.jpg\n"
          ]
        },
        {
          "output_type": "stream",
          "name": "stderr",
          "text": [
            "/usr/local/lib/python3.9/dist-packages/torch/nn/functional.py:3734: UserWarning: nn.functional.upsample is deprecated. Use nn.functional.interpolate instead.\n",
            "  warnings.warn(\"nn.functional.upsample is deprecated. Use nn.functional.interpolate instead.\")\n"
          ]
        },
        {
          "output_type": "stream",
          "name": "stdout",
          "text": [
            "115.jpg\n"
          ]
        },
        {
          "output_type": "stream",
          "name": "stderr",
          "text": [
            "/usr/local/lib/python3.9/dist-packages/torch/nn/functional.py:3734: UserWarning: nn.functional.upsample is deprecated. Use nn.functional.interpolate instead.\n",
            "  warnings.warn(\"nn.functional.upsample is deprecated. Use nn.functional.interpolate instead.\")\n"
          ]
        },
        {
          "output_type": "stream",
          "name": "stdout",
          "text": [
            "104.jpg\n"
          ]
        },
        {
          "output_type": "stream",
          "name": "stderr",
          "text": [
            "/usr/local/lib/python3.9/dist-packages/torch/nn/functional.py:3734: UserWarning: nn.functional.upsample is deprecated. Use nn.functional.interpolate instead.\n",
            "  warnings.warn(\"nn.functional.upsample is deprecated. Use nn.functional.interpolate instead.\")\n"
          ]
        },
        {
          "output_type": "stream",
          "name": "stdout",
          "text": [
            "11.jpg\n"
          ]
        },
        {
          "output_type": "stream",
          "name": "stderr",
          "text": [
            "/usr/local/lib/python3.9/dist-packages/torch/nn/functional.py:3734: UserWarning: nn.functional.upsample is deprecated. Use nn.functional.interpolate instead.\n",
            "  warnings.warn(\"nn.functional.upsample is deprecated. Use nn.functional.interpolate instead.\")\n"
          ]
        },
        {
          "output_type": "stream",
          "name": "stdout",
          "text": [
            "1.jpg\n"
          ]
        },
        {
          "output_type": "stream",
          "name": "stderr",
          "text": [
            "/usr/local/lib/python3.9/dist-packages/torch/nn/functional.py:3734: UserWarning: nn.functional.upsample is deprecated. Use nn.functional.interpolate instead.\n",
            "  warnings.warn(\"nn.functional.upsample is deprecated. Use nn.functional.interpolate instead.\")\n"
          ]
        },
        {
          "output_type": "stream",
          "name": "stdout",
          "text": [
            "100.jpg\n"
          ]
        },
        {
          "output_type": "stream",
          "name": "stderr",
          "text": [
            "/usr/local/lib/python3.9/dist-packages/torch/nn/functional.py:3734: UserWarning: nn.functional.upsample is deprecated. Use nn.functional.interpolate instead.\n",
            "  warnings.warn(\"nn.functional.upsample is deprecated. Use nn.functional.interpolate instead.\")\n"
          ]
        },
        {
          "output_type": "stream",
          "name": "stdout",
          "text": [
            "141.jpg\n"
          ]
        },
        {
          "output_type": "stream",
          "name": "stderr",
          "text": [
            "/usr/local/lib/python3.9/dist-packages/torch/nn/functional.py:3734: UserWarning: nn.functional.upsample is deprecated. Use nn.functional.interpolate instead.\n",
            "  warnings.warn(\"nn.functional.upsample is deprecated. Use nn.functional.interpolate instead.\")\n"
          ]
        },
        {
          "output_type": "stream",
          "name": "stdout",
          "text": [
            "130.jpg\n"
          ]
        },
        {
          "output_type": "stream",
          "name": "stderr",
          "text": [
            "/usr/local/lib/python3.9/dist-packages/torch/nn/functional.py:3734: UserWarning: nn.functional.upsample is deprecated. Use nn.functional.interpolate instead.\n",
            "  warnings.warn(\"nn.functional.upsample is deprecated. Use nn.functional.interpolate instead.\")\n"
          ]
        },
        {
          "output_type": "stream",
          "name": "stdout",
          "text": [
            "131.jpg\n"
          ]
        },
        {
          "output_type": "stream",
          "name": "stderr",
          "text": [
            "/usr/local/lib/python3.9/dist-packages/torch/nn/functional.py:3734: UserWarning: nn.functional.upsample is deprecated. Use nn.functional.interpolate instead.\n",
            "  warnings.warn(\"nn.functional.upsample is deprecated. Use nn.functional.interpolate instead.\")\n"
          ]
        },
        {
          "output_type": "stream",
          "name": "stdout",
          "text": [
            "133.jpg\n"
          ]
        },
        {
          "output_type": "stream",
          "name": "stderr",
          "text": [
            "/usr/local/lib/python3.9/dist-packages/torch/nn/functional.py:3734: UserWarning: nn.functional.upsample is deprecated. Use nn.functional.interpolate instead.\n",
            "  warnings.warn(\"nn.functional.upsample is deprecated. Use nn.functional.interpolate instead.\")\n"
          ]
        },
        {
          "output_type": "stream",
          "name": "stdout",
          "text": [
            "142.jpg\n"
          ]
        },
        {
          "output_type": "stream",
          "name": "stderr",
          "text": [
            "/usr/local/lib/python3.9/dist-packages/torch/nn/functional.py:3734: UserWarning: nn.functional.upsample is deprecated. Use nn.functional.interpolate instead.\n",
            "  warnings.warn(\"nn.functional.upsample is deprecated. Use nn.functional.interpolate instead.\")\n"
          ]
        },
        {
          "output_type": "stream",
          "name": "stdout",
          "text": [
            "137.jpg\n"
          ]
        },
        {
          "output_type": "stream",
          "name": "stderr",
          "text": [
            "/usr/local/lib/python3.9/dist-packages/torch/nn/functional.py:3734: UserWarning: nn.functional.upsample is deprecated. Use nn.functional.interpolate instead.\n",
            "  warnings.warn(\"nn.functional.upsample is deprecated. Use nn.functional.interpolate instead.\")\n"
          ]
        },
        {
          "output_type": "stream",
          "name": "stdout",
          "text": [
            "134.jpg\n"
          ]
        },
        {
          "output_type": "stream",
          "name": "stderr",
          "text": [
            "/usr/local/lib/python3.9/dist-packages/torch/nn/functional.py:3734: UserWarning: nn.functional.upsample is deprecated. Use nn.functional.interpolate instead.\n",
            "  warnings.warn(\"nn.functional.upsample is deprecated. Use nn.functional.interpolate instead.\")\n"
          ]
        },
        {
          "output_type": "stream",
          "name": "stdout",
          "text": [
            "135.jpg\n"
          ]
        },
        {
          "output_type": "stream",
          "name": "stderr",
          "text": [
            "/usr/local/lib/python3.9/dist-packages/torch/nn/functional.py:3734: UserWarning: nn.functional.upsample is deprecated. Use nn.functional.interpolate instead.\n",
            "  warnings.warn(\"nn.functional.upsample is deprecated. Use nn.functional.interpolate instead.\")\n"
          ]
        },
        {
          "output_type": "stream",
          "name": "stdout",
          "text": [
            "120.jpg\n"
          ]
        },
        {
          "output_type": "stream",
          "name": "stderr",
          "text": [
            "/usr/local/lib/python3.9/dist-packages/torch/nn/functional.py:3734: UserWarning: nn.functional.upsample is deprecated. Use nn.functional.interpolate instead.\n",
            "  warnings.warn(\"nn.functional.upsample is deprecated. Use nn.functional.interpolate instead.\")\n"
          ]
        },
        {
          "output_type": "stream",
          "name": "stdout",
          "text": [
            "13.jpg\n"
          ]
        },
        {
          "output_type": "stream",
          "name": "stderr",
          "text": [
            "/usr/local/lib/python3.9/dist-packages/torch/nn/functional.py:3734: UserWarning: nn.functional.upsample is deprecated. Use nn.functional.interpolate instead.\n",
            "  warnings.warn(\"nn.functional.upsample is deprecated. Use nn.functional.interpolate instead.\")\n"
          ]
        },
        {
          "output_type": "stream",
          "name": "stdout",
          "text": [
            "125.jpg\n"
          ]
        },
        {
          "output_type": "stream",
          "name": "stderr",
          "text": [
            "/usr/local/lib/python3.9/dist-packages/torch/nn/functional.py:3734: UserWarning: nn.functional.upsample is deprecated. Use nn.functional.interpolate instead.\n",
            "  warnings.warn(\"nn.functional.upsample is deprecated. Use nn.functional.interpolate instead.\")\n"
          ]
        },
        {
          "output_type": "stream",
          "name": "stdout",
          "text": [
            "12.jpg\n"
          ]
        },
        {
          "output_type": "stream",
          "name": "stderr",
          "text": [
            "/usr/local/lib/python3.9/dist-packages/torch/nn/functional.py:3734: UserWarning: nn.functional.upsample is deprecated. Use nn.functional.interpolate instead.\n",
            "  warnings.warn(\"nn.functional.upsample is deprecated. Use nn.functional.interpolate instead.\")\n"
          ]
        },
        {
          "output_type": "stream",
          "name": "stdout",
          "text": [
            "129.jpg\n"
          ]
        },
        {
          "output_type": "stream",
          "name": "stderr",
          "text": [
            "/usr/local/lib/python3.9/dist-packages/torch/nn/functional.py:3734: UserWarning: nn.functional.upsample is deprecated. Use nn.functional.interpolate instead.\n",
            "  warnings.warn(\"nn.functional.upsample is deprecated. Use nn.functional.interpolate instead.\")\n"
          ]
        },
        {
          "output_type": "stream",
          "name": "stdout",
          "text": [
            "146.jpg\n"
          ]
        },
        {
          "output_type": "stream",
          "name": "stderr",
          "text": [
            "/usr/local/lib/python3.9/dist-packages/torch/nn/functional.py:3734: UserWarning: nn.functional.upsample is deprecated. Use nn.functional.interpolate instead.\n",
            "  warnings.warn(\"nn.functional.upsample is deprecated. Use nn.functional.interpolate instead.\")\n"
          ]
        },
        {
          "output_type": "stream",
          "name": "stdout",
          "text": [
            "122.jpg\n"
          ]
        },
        {
          "output_type": "stream",
          "name": "stderr",
          "text": [
            "/usr/local/lib/python3.9/dist-packages/torch/nn/functional.py:3734: UserWarning: nn.functional.upsample is deprecated. Use nn.functional.interpolate instead.\n",
            "  warnings.warn(\"nn.functional.upsample is deprecated. Use nn.functional.interpolate instead.\")\n"
          ]
        },
        {
          "output_type": "stream",
          "name": "stdout",
          "text": [
            "14.jpg\n"
          ]
        },
        {
          "output_type": "stream",
          "name": "stderr",
          "text": [
            "/usr/local/lib/python3.9/dist-packages/torch/nn/functional.py:3734: UserWarning: nn.functional.upsample is deprecated. Use nn.functional.interpolate instead.\n",
            "  warnings.warn(\"nn.functional.upsample is deprecated. Use nn.functional.interpolate instead.\")\n"
          ]
        },
        {
          "output_type": "stream",
          "name": "stdout",
          "text": [
            "136.jpg\n"
          ]
        },
        {
          "output_type": "stream",
          "name": "stderr",
          "text": [
            "/usr/local/lib/python3.9/dist-packages/torch/nn/functional.py:3734: UserWarning: nn.functional.upsample is deprecated. Use nn.functional.interpolate instead.\n",
            "  warnings.warn(\"nn.functional.upsample is deprecated. Use nn.functional.interpolate instead.\")\n"
          ]
        },
        {
          "output_type": "stream",
          "name": "stdout",
          "text": [
            "119.jpg\n"
          ]
        },
        {
          "output_type": "stream",
          "name": "stderr",
          "text": [
            "/usr/local/lib/python3.9/dist-packages/torch/nn/functional.py:3734: UserWarning: nn.functional.upsample is deprecated. Use nn.functional.interpolate instead.\n",
            "  warnings.warn(\"nn.functional.upsample is deprecated. Use nn.functional.interpolate instead.\")\n"
          ]
        },
        {
          "output_type": "stream",
          "name": "stdout",
          "text": [
            "143.jpg\n"
          ]
        },
        {
          "output_type": "stream",
          "name": "stderr",
          "text": [
            "/usr/local/lib/python3.9/dist-packages/torch/nn/functional.py:3734: UserWarning: nn.functional.upsample is deprecated. Use nn.functional.interpolate instead.\n",
            "  warnings.warn(\"nn.functional.upsample is deprecated. Use nn.functional.interpolate instead.\")\n"
          ]
        },
        {
          "output_type": "stream",
          "name": "stdout",
          "text": [
            "139.jpg\n"
          ]
        },
        {
          "output_type": "stream",
          "name": "stderr",
          "text": [
            "/usr/local/lib/python3.9/dist-packages/torch/nn/functional.py:3734: UserWarning: nn.functional.upsample is deprecated. Use nn.functional.interpolate instead.\n",
            "  warnings.warn(\"nn.functional.upsample is deprecated. Use nn.functional.interpolate instead.\")\n"
          ]
        },
        {
          "output_type": "stream",
          "name": "stdout",
          "text": [
            "144.jpg\n"
          ]
        },
        {
          "output_type": "stream",
          "name": "stderr",
          "text": [
            "/usr/local/lib/python3.9/dist-packages/torch/nn/functional.py:3734: UserWarning: nn.functional.upsample is deprecated. Use nn.functional.interpolate instead.\n",
            "  warnings.warn(\"nn.functional.upsample is deprecated. Use nn.functional.interpolate instead.\")\n"
          ]
        },
        {
          "output_type": "stream",
          "name": "stdout",
          "text": [
            "123.jpg\n"
          ]
        },
        {
          "output_type": "stream",
          "name": "stderr",
          "text": [
            "/usr/local/lib/python3.9/dist-packages/torch/nn/functional.py:3734: UserWarning: nn.functional.upsample is deprecated. Use nn.functional.interpolate instead.\n",
            "  warnings.warn(\"nn.functional.upsample is deprecated. Use nn.functional.interpolate instead.\")\n"
          ]
        },
        {
          "output_type": "stream",
          "name": "stdout",
          "text": [
            "127.jpg\n"
          ]
        },
        {
          "output_type": "stream",
          "name": "stderr",
          "text": [
            "/usr/local/lib/python3.9/dist-packages/torch/nn/functional.py:3734: UserWarning: nn.functional.upsample is deprecated. Use nn.functional.interpolate instead.\n",
            "  warnings.warn(\"nn.functional.upsample is deprecated. Use nn.functional.interpolate instead.\")\n"
          ]
        },
        {
          "output_type": "stream",
          "name": "stdout",
          "text": [
            "128.jpg\n"
          ]
        },
        {
          "output_type": "stream",
          "name": "stderr",
          "text": [
            "/usr/local/lib/python3.9/dist-packages/torch/nn/functional.py:3734: UserWarning: nn.functional.upsample is deprecated. Use nn.functional.interpolate instead.\n",
            "  warnings.warn(\"nn.functional.upsample is deprecated. Use nn.functional.interpolate instead.\")\n"
          ]
        },
        {
          "output_type": "stream",
          "name": "stdout",
          "text": [
            "124.jpg\n"
          ]
        },
        {
          "output_type": "stream",
          "name": "stderr",
          "text": [
            "/usr/local/lib/python3.9/dist-packages/torch/nn/functional.py:3734: UserWarning: nn.functional.upsample is deprecated. Use nn.functional.interpolate instead.\n",
            "  warnings.warn(\"nn.functional.upsample is deprecated. Use nn.functional.interpolate instead.\")\n"
          ]
        },
        {
          "output_type": "stream",
          "name": "stdout",
          "text": [
            "121.jpg\n"
          ]
        },
        {
          "output_type": "stream",
          "name": "stderr",
          "text": [
            "/usr/local/lib/python3.9/dist-packages/torch/nn/functional.py:3734: UserWarning: nn.functional.upsample is deprecated. Use nn.functional.interpolate instead.\n",
            "  warnings.warn(\"nn.functional.upsample is deprecated. Use nn.functional.interpolate instead.\")\n"
          ]
        },
        {
          "output_type": "stream",
          "name": "stdout",
          "text": [
            "145.jpg\n"
          ]
        },
        {
          "output_type": "stream",
          "name": "stderr",
          "text": [
            "/usr/local/lib/python3.9/dist-packages/torch/nn/functional.py:3734: UserWarning: nn.functional.upsample is deprecated. Use nn.functional.interpolate instead.\n",
            "  warnings.warn(\"nn.functional.upsample is deprecated. Use nn.functional.interpolate instead.\")\n"
          ]
        },
        {
          "output_type": "stream",
          "name": "stdout",
          "text": [
            "132.jpg\n"
          ]
        },
        {
          "output_type": "stream",
          "name": "stderr",
          "text": [
            "/usr/local/lib/python3.9/dist-packages/torch/nn/functional.py:3734: UserWarning: nn.functional.upsample is deprecated. Use nn.functional.interpolate instead.\n",
            "  warnings.warn(\"nn.functional.upsample is deprecated. Use nn.functional.interpolate instead.\")\n"
          ]
        },
        {
          "output_type": "stream",
          "name": "stdout",
          "text": [
            "126.jpg\n"
          ]
        },
        {
          "output_type": "stream",
          "name": "stderr",
          "text": [
            "/usr/local/lib/python3.9/dist-packages/torch/nn/functional.py:3734: UserWarning: nn.functional.upsample is deprecated. Use nn.functional.interpolate instead.\n",
            "  warnings.warn(\"nn.functional.upsample is deprecated. Use nn.functional.interpolate instead.\")\n"
          ]
        },
        {
          "output_type": "stream",
          "name": "stdout",
          "text": [
            "140.jpg\n"
          ]
        },
        {
          "output_type": "stream",
          "name": "stderr",
          "text": [
            "/usr/local/lib/python3.9/dist-packages/torch/nn/functional.py:3734: UserWarning: nn.functional.upsample is deprecated. Use nn.functional.interpolate instead.\n",
            "  warnings.warn(\"nn.functional.upsample is deprecated. Use nn.functional.interpolate instead.\")\n"
          ]
        },
        {
          "output_type": "stream",
          "name": "stdout",
          "text": [
            "138.jpg\n"
          ]
        },
        {
          "output_type": "stream",
          "name": "stderr",
          "text": [
            "/usr/local/lib/python3.9/dist-packages/torch/nn/functional.py:3734: UserWarning: nn.functional.upsample is deprecated. Use nn.functional.interpolate instead.\n",
            "  warnings.warn(\"nn.functional.upsample is deprecated. Use nn.functional.interpolate instead.\")\n"
          ]
        },
        {
          "output_type": "stream",
          "name": "stdout",
          "text": [
            "148.jpg\n"
          ]
        },
        {
          "output_type": "stream",
          "name": "stderr",
          "text": [
            "/usr/local/lib/python3.9/dist-packages/torch/nn/functional.py:3734: UserWarning: nn.functional.upsample is deprecated. Use nn.functional.interpolate instead.\n",
            "  warnings.warn(\"nn.functional.upsample is deprecated. Use nn.functional.interpolate instead.\")\n"
          ]
        },
        {
          "output_type": "stream",
          "name": "stdout",
          "text": [
            "152.jpg\n"
          ]
        },
        {
          "output_type": "stream",
          "name": "stderr",
          "text": [
            "/usr/local/lib/python3.9/dist-packages/torch/nn/functional.py:3734: UserWarning: nn.functional.upsample is deprecated. Use nn.functional.interpolate instead.\n",
            "  warnings.warn(\"nn.functional.upsample is deprecated. Use nn.functional.interpolate instead.\")\n"
          ]
        },
        {
          "output_type": "stream",
          "name": "stdout",
          "text": [
            "153.jpg\n"
          ]
        },
        {
          "output_type": "stream",
          "name": "stderr",
          "text": [
            "/usr/local/lib/python3.9/dist-packages/torch/nn/functional.py:3734: UserWarning: nn.functional.upsample is deprecated. Use nn.functional.interpolate instead.\n",
            "  warnings.warn(\"nn.functional.upsample is deprecated. Use nn.functional.interpolate instead.\")\n"
          ]
        },
        {
          "output_type": "stream",
          "name": "stdout",
          "text": [
            "168.jpg\n"
          ]
        },
        {
          "output_type": "stream",
          "name": "stderr",
          "text": [
            "/usr/local/lib/python3.9/dist-packages/torch/nn/functional.py:3734: UserWarning: nn.functional.upsample is deprecated. Use nn.functional.interpolate instead.\n",
            "  warnings.warn(\"nn.functional.upsample is deprecated. Use nn.functional.interpolate instead.\")\n"
          ]
        },
        {
          "output_type": "stream",
          "name": "stdout",
          "text": [
            "175.jpg\n"
          ]
        },
        {
          "output_type": "stream",
          "name": "stderr",
          "text": [
            "/usr/local/lib/python3.9/dist-packages/torch/nn/functional.py:3734: UserWarning: nn.functional.upsample is deprecated. Use nn.functional.interpolate instead.\n",
            "  warnings.warn(\"nn.functional.upsample is deprecated. Use nn.functional.interpolate instead.\")\n"
          ]
        },
        {
          "output_type": "stream",
          "name": "stdout",
          "text": [
            "156.jpg\n"
          ]
        },
        {
          "output_type": "stream",
          "name": "stderr",
          "text": [
            "/usr/local/lib/python3.9/dist-packages/torch/nn/functional.py:3734: UserWarning: nn.functional.upsample is deprecated. Use nn.functional.interpolate instead.\n",
            "  warnings.warn(\"nn.functional.upsample is deprecated. Use nn.functional.interpolate instead.\")\n"
          ]
        },
        {
          "output_type": "stream",
          "name": "stdout",
          "text": [
            "151.jpg\n"
          ]
        },
        {
          "output_type": "stream",
          "name": "stderr",
          "text": [
            "/usr/local/lib/python3.9/dist-packages/torch/nn/functional.py:3734: UserWarning: nn.functional.upsample is deprecated. Use nn.functional.interpolate instead.\n",
            "  warnings.warn(\"nn.functional.upsample is deprecated. Use nn.functional.interpolate instead.\")\n"
          ]
        },
        {
          "output_type": "stream",
          "name": "stdout",
          "text": [
            "158.jpg\n"
          ]
        },
        {
          "output_type": "stream",
          "name": "stderr",
          "text": [
            "/usr/local/lib/python3.9/dist-packages/torch/nn/functional.py:3734: UserWarning: nn.functional.upsample is deprecated. Use nn.functional.interpolate instead.\n",
            "  warnings.warn(\"nn.functional.upsample is deprecated. Use nn.functional.interpolate instead.\")\n"
          ]
        },
        {
          "output_type": "stream",
          "name": "stdout",
          "text": [
            "169.jpg\n"
          ]
        },
        {
          "output_type": "stream",
          "name": "stderr",
          "text": [
            "/usr/local/lib/python3.9/dist-packages/torch/nn/functional.py:3734: UserWarning: nn.functional.upsample is deprecated. Use nn.functional.interpolate instead.\n",
            "  warnings.warn(\"nn.functional.upsample is deprecated. Use nn.functional.interpolate instead.\")\n"
          ]
        },
        {
          "output_type": "stream",
          "name": "stdout",
          "text": [
            "164.jpg\n"
          ]
        },
        {
          "output_type": "stream",
          "name": "stderr",
          "text": [
            "/usr/local/lib/python3.9/dist-packages/torch/nn/functional.py:3734: UserWarning: nn.functional.upsample is deprecated. Use nn.functional.interpolate instead.\n",
            "  warnings.warn(\"nn.functional.upsample is deprecated. Use nn.functional.interpolate instead.\")\n"
          ]
        },
        {
          "output_type": "stream",
          "name": "stdout",
          "text": [
            "167.jpg\n"
          ]
        },
        {
          "output_type": "stream",
          "name": "stderr",
          "text": [
            "/usr/local/lib/python3.9/dist-packages/torch/nn/functional.py:3734: UserWarning: nn.functional.upsample is deprecated. Use nn.functional.interpolate instead.\n",
            "  warnings.warn(\"nn.functional.upsample is deprecated. Use nn.functional.interpolate instead.\")\n"
          ]
        },
        {
          "output_type": "stream",
          "name": "stdout",
          "text": [
            "163.jpg\n"
          ]
        },
        {
          "output_type": "stream",
          "name": "stderr",
          "text": [
            "/usr/local/lib/python3.9/dist-packages/torch/nn/functional.py:3734: UserWarning: nn.functional.upsample is deprecated. Use nn.functional.interpolate instead.\n",
            "  warnings.warn(\"nn.functional.upsample is deprecated. Use nn.functional.interpolate instead.\")\n"
          ]
        },
        {
          "output_type": "stream",
          "name": "stdout",
          "text": [
            "160.jpg\n"
          ]
        },
        {
          "output_type": "stream",
          "name": "stderr",
          "text": [
            "/usr/local/lib/python3.9/dist-packages/torch/nn/functional.py:3734: UserWarning: nn.functional.upsample is deprecated. Use nn.functional.interpolate instead.\n",
            "  warnings.warn(\"nn.functional.upsample is deprecated. Use nn.functional.interpolate instead.\")\n"
          ]
        },
        {
          "output_type": "stream",
          "name": "stdout",
          "text": [
            "174.jpg\n"
          ]
        },
        {
          "output_type": "stream",
          "name": "stderr",
          "text": [
            "/usr/local/lib/python3.9/dist-packages/torch/nn/functional.py:3734: UserWarning: nn.functional.upsample is deprecated. Use nn.functional.interpolate instead.\n",
            "  warnings.warn(\"nn.functional.upsample is deprecated. Use nn.functional.interpolate instead.\")\n"
          ]
        },
        {
          "output_type": "stream",
          "name": "stdout",
          "text": [
            "161.jpg\n"
          ]
        },
        {
          "output_type": "stream",
          "name": "stderr",
          "text": [
            "/usr/local/lib/python3.9/dist-packages/torch/nn/functional.py:3734: UserWarning: nn.functional.upsample is deprecated. Use nn.functional.interpolate instead.\n",
            "  warnings.warn(\"nn.functional.upsample is deprecated. Use nn.functional.interpolate instead.\")\n"
          ]
        },
        {
          "output_type": "stream",
          "name": "stdout",
          "text": [
            "147.jpg\n"
          ]
        },
        {
          "output_type": "stream",
          "name": "stderr",
          "text": [
            "/usr/local/lib/python3.9/dist-packages/torch/nn/functional.py:3734: UserWarning: nn.functional.upsample is deprecated. Use nn.functional.interpolate instead.\n",
            "  warnings.warn(\"nn.functional.upsample is deprecated. Use nn.functional.interpolate instead.\")\n"
          ]
        },
        {
          "output_type": "stream",
          "name": "stdout",
          "text": [
            "170.jpg\n"
          ]
        },
        {
          "output_type": "stream",
          "name": "stderr",
          "text": [
            "/usr/local/lib/python3.9/dist-packages/torch/nn/functional.py:3734: UserWarning: nn.functional.upsample is deprecated. Use nn.functional.interpolate instead.\n",
            "  warnings.warn(\"nn.functional.upsample is deprecated. Use nn.functional.interpolate instead.\")\n"
          ]
        },
        {
          "output_type": "stream",
          "name": "stdout",
          "text": [
            "155.jpg\n"
          ]
        },
        {
          "output_type": "stream",
          "name": "stderr",
          "text": [
            "/usr/local/lib/python3.9/dist-packages/torch/nn/functional.py:3734: UserWarning: nn.functional.upsample is deprecated. Use nn.functional.interpolate instead.\n",
            "  warnings.warn(\"nn.functional.upsample is deprecated. Use nn.functional.interpolate instead.\")\n"
          ]
        },
        {
          "output_type": "stream",
          "name": "stdout",
          "text": [
            "149.jpg\n"
          ]
        },
        {
          "output_type": "stream",
          "name": "stderr",
          "text": [
            "/usr/local/lib/python3.9/dist-packages/torch/nn/functional.py:3734: UserWarning: nn.functional.upsample is deprecated. Use nn.functional.interpolate instead.\n",
            "  warnings.warn(\"nn.functional.upsample is deprecated. Use nn.functional.interpolate instead.\")\n"
          ]
        },
        {
          "output_type": "stream",
          "name": "stdout",
          "text": [
            "166.jpg\n"
          ]
        },
        {
          "output_type": "stream",
          "name": "stderr",
          "text": [
            "/usr/local/lib/python3.9/dist-packages/torch/nn/functional.py:3734: UserWarning: nn.functional.upsample is deprecated. Use nn.functional.interpolate instead.\n",
            "  warnings.warn(\"nn.functional.upsample is deprecated. Use nn.functional.interpolate instead.\")\n"
          ]
        },
        {
          "output_type": "stream",
          "name": "stdout",
          "text": [
            "173.jpg\n"
          ]
        },
        {
          "output_type": "stream",
          "name": "stderr",
          "text": [
            "/usr/local/lib/python3.9/dist-packages/torch/nn/functional.py:3734: UserWarning: nn.functional.upsample is deprecated. Use nn.functional.interpolate instead.\n",
            "  warnings.warn(\"nn.functional.upsample is deprecated. Use nn.functional.interpolate instead.\")\n"
          ]
        },
        {
          "output_type": "stream",
          "name": "stdout",
          "text": [
            "17.jpg\n"
          ]
        },
        {
          "output_type": "stream",
          "name": "stderr",
          "text": [
            "/usr/local/lib/python3.9/dist-packages/torch/nn/functional.py:3734: UserWarning: nn.functional.upsample is deprecated. Use nn.functional.interpolate instead.\n",
            "  warnings.warn(\"nn.functional.upsample is deprecated. Use nn.functional.interpolate instead.\")\n"
          ]
        },
        {
          "output_type": "stream",
          "name": "stdout",
          "text": [
            "172.jpg\n"
          ]
        },
        {
          "output_type": "stream",
          "name": "stderr",
          "text": [
            "/usr/local/lib/python3.9/dist-packages/torch/nn/functional.py:3734: UserWarning: nn.functional.upsample is deprecated. Use nn.functional.interpolate instead.\n",
            "  warnings.warn(\"nn.functional.upsample is deprecated. Use nn.functional.interpolate instead.\")\n"
          ]
        },
        {
          "output_type": "stream",
          "name": "stdout",
          "text": [
            "157.jpg\n"
          ]
        },
        {
          "output_type": "stream",
          "name": "stderr",
          "text": [
            "/usr/local/lib/python3.9/dist-packages/torch/nn/functional.py:3734: UserWarning: nn.functional.upsample is deprecated. Use nn.functional.interpolate instead.\n",
            "  warnings.warn(\"nn.functional.upsample is deprecated. Use nn.functional.interpolate instead.\")\n"
          ]
        },
        {
          "output_type": "stream",
          "name": "stdout",
          "text": [
            "165.jpg\n"
          ]
        },
        {
          "output_type": "stream",
          "name": "stderr",
          "text": [
            "/usr/local/lib/python3.9/dist-packages/torch/nn/functional.py:3734: UserWarning: nn.functional.upsample is deprecated. Use nn.functional.interpolate instead.\n",
            "  warnings.warn(\"nn.functional.upsample is deprecated. Use nn.functional.interpolate instead.\")\n"
          ]
        },
        {
          "output_type": "stream",
          "name": "stdout",
          "text": [
            "15.jpg\n"
          ]
        },
        {
          "output_type": "stream",
          "name": "stderr",
          "text": [
            "/usr/local/lib/python3.9/dist-packages/torch/nn/functional.py:3734: UserWarning: nn.functional.upsample is deprecated. Use nn.functional.interpolate instead.\n",
            "  warnings.warn(\"nn.functional.upsample is deprecated. Use nn.functional.interpolate instead.\")\n"
          ]
        },
        {
          "output_type": "stream",
          "name": "stdout",
          "text": [
            "154.jpg\n"
          ]
        },
        {
          "output_type": "stream",
          "name": "stderr",
          "text": [
            "/usr/local/lib/python3.9/dist-packages/torch/nn/functional.py:3734: UserWarning: nn.functional.upsample is deprecated. Use nn.functional.interpolate instead.\n",
            "  warnings.warn(\"nn.functional.upsample is deprecated. Use nn.functional.interpolate instead.\")\n"
          ]
        },
        {
          "output_type": "stream",
          "name": "stdout",
          "text": [
            "171.jpg\n"
          ]
        },
        {
          "output_type": "stream",
          "name": "stderr",
          "text": [
            "/usr/local/lib/python3.9/dist-packages/torch/nn/functional.py:3734: UserWarning: nn.functional.upsample is deprecated. Use nn.functional.interpolate instead.\n",
            "  warnings.warn(\"nn.functional.upsample is deprecated. Use nn.functional.interpolate instead.\")\n"
          ]
        },
        {
          "output_type": "stream",
          "name": "stdout",
          "text": [
            "159.jpg\n"
          ]
        },
        {
          "output_type": "stream",
          "name": "stderr",
          "text": [
            "/usr/local/lib/python3.9/dist-packages/torch/nn/functional.py:3734: UserWarning: nn.functional.upsample is deprecated. Use nn.functional.interpolate instead.\n",
            "  warnings.warn(\"nn.functional.upsample is deprecated. Use nn.functional.interpolate instead.\")\n"
          ]
        },
        {
          "output_type": "stream",
          "name": "stdout",
          "text": [
            "16.jpg\n"
          ]
        },
        {
          "output_type": "stream",
          "name": "stderr",
          "text": [
            "/usr/local/lib/python3.9/dist-packages/torch/nn/functional.py:3734: UserWarning: nn.functional.upsample is deprecated. Use nn.functional.interpolate instead.\n",
            "  warnings.warn(\"nn.functional.upsample is deprecated. Use nn.functional.interpolate instead.\")\n"
          ]
        },
        {
          "output_type": "stream",
          "name": "stdout",
          "text": [
            "150.jpg\n"
          ]
        },
        {
          "output_type": "stream",
          "name": "stderr",
          "text": [
            "/usr/local/lib/python3.9/dist-packages/torch/nn/functional.py:3734: UserWarning: nn.functional.upsample is deprecated. Use nn.functional.interpolate instead.\n",
            "  warnings.warn(\"nn.functional.upsample is deprecated. Use nn.functional.interpolate instead.\")\n"
          ]
        },
        {
          "output_type": "stream",
          "name": "stdout",
          "text": [
            "162.jpg\n"
          ]
        },
        {
          "output_type": "stream",
          "name": "stderr",
          "text": [
            "/usr/local/lib/python3.9/dist-packages/torch/nn/functional.py:3734: UserWarning: nn.functional.upsample is deprecated. Use nn.functional.interpolate instead.\n",
            "  warnings.warn(\"nn.functional.upsample is deprecated. Use nn.functional.interpolate instead.\")\n"
          ]
        },
        {
          "output_type": "stream",
          "name": "stdout",
          "text": [
            "2.jpg\n"
          ]
        },
        {
          "output_type": "stream",
          "name": "stderr",
          "text": [
            "/usr/local/lib/python3.9/dist-packages/torch/nn/functional.py:3734: UserWarning: nn.functional.upsample is deprecated. Use nn.functional.interpolate instead.\n",
            "  warnings.warn(\"nn.functional.upsample is deprecated. Use nn.functional.interpolate instead.\")\n"
          ]
        },
        {
          "output_type": "stream",
          "name": "stdout",
          "text": [
            "186.jpg\n"
          ]
        },
        {
          "output_type": "stream",
          "name": "stderr",
          "text": [
            "/usr/local/lib/python3.9/dist-packages/torch/nn/functional.py:3734: UserWarning: nn.functional.upsample is deprecated. Use nn.functional.interpolate instead.\n",
            "  warnings.warn(\"nn.functional.upsample is deprecated. Use nn.functional.interpolate instead.\")\n"
          ]
        },
        {
          "output_type": "stream",
          "name": "stdout",
          "text": [
            "178.jpg\n"
          ]
        },
        {
          "output_type": "stream",
          "name": "stderr",
          "text": [
            "/usr/local/lib/python3.9/dist-packages/torch/nn/functional.py:3734: UserWarning: nn.functional.upsample is deprecated. Use nn.functional.interpolate instead.\n",
            "  warnings.warn(\"nn.functional.upsample is deprecated. Use nn.functional.interpolate instead.\")\n"
          ]
        },
        {
          "output_type": "stream",
          "name": "stdout",
          "text": [
            "183.jpg\n"
          ]
        },
        {
          "output_type": "stream",
          "name": "stderr",
          "text": [
            "/usr/local/lib/python3.9/dist-packages/torch/nn/functional.py:3734: UserWarning: nn.functional.upsample is deprecated. Use nn.functional.interpolate instead.\n",
            "  warnings.warn(\"nn.functional.upsample is deprecated. Use nn.functional.interpolate instead.\")\n"
          ]
        },
        {
          "output_type": "stream",
          "name": "stdout",
          "text": [
            "18.jpg\n"
          ]
        },
        {
          "output_type": "stream",
          "name": "stderr",
          "text": [
            "/usr/local/lib/python3.9/dist-packages/torch/nn/functional.py:3734: UserWarning: nn.functional.upsample is deprecated. Use nn.functional.interpolate instead.\n",
            "  warnings.warn(\"nn.functional.upsample is deprecated. Use nn.functional.interpolate instead.\")\n"
          ]
        },
        {
          "output_type": "stream",
          "name": "stdout",
          "text": [
            "187.jpg\n"
          ]
        },
        {
          "output_type": "stream",
          "name": "stderr",
          "text": [
            "/usr/local/lib/python3.9/dist-packages/torch/nn/functional.py:3734: UserWarning: nn.functional.upsample is deprecated. Use nn.functional.interpolate instead.\n",
            "  warnings.warn(\"nn.functional.upsample is deprecated. Use nn.functional.interpolate instead.\")\n"
          ]
        },
        {
          "output_type": "stream",
          "name": "stdout",
          "text": [
            "181.jpg\n"
          ]
        },
        {
          "output_type": "stream",
          "name": "stderr",
          "text": [
            "/usr/local/lib/python3.9/dist-packages/torch/nn/functional.py:3734: UserWarning: nn.functional.upsample is deprecated. Use nn.functional.interpolate instead.\n",
            "  warnings.warn(\"nn.functional.upsample is deprecated. Use nn.functional.interpolate instead.\")\n"
          ]
        },
        {
          "output_type": "stream",
          "name": "stdout",
          "text": [
            "190.jpg\n"
          ]
        },
        {
          "output_type": "stream",
          "name": "stderr",
          "text": [
            "/usr/local/lib/python3.9/dist-packages/torch/nn/functional.py:3734: UserWarning: nn.functional.upsample is deprecated. Use nn.functional.interpolate instead.\n",
            "  warnings.warn(\"nn.functional.upsample is deprecated. Use nn.functional.interpolate instead.\")\n"
          ]
        },
        {
          "output_type": "stream",
          "name": "stdout",
          "text": [
            "198.jpg\n"
          ]
        },
        {
          "output_type": "stream",
          "name": "stderr",
          "text": [
            "/usr/local/lib/python3.9/dist-packages/torch/nn/functional.py:3734: UserWarning: nn.functional.upsample is deprecated. Use nn.functional.interpolate instead.\n",
            "  warnings.warn(\"nn.functional.upsample is deprecated. Use nn.functional.interpolate instead.\")\n"
          ]
        },
        {
          "output_type": "stream",
          "name": "stdout",
          "text": [
            "180.jpg\n"
          ]
        },
        {
          "output_type": "stream",
          "name": "stderr",
          "text": [
            "/usr/local/lib/python3.9/dist-packages/torch/nn/functional.py:3734: UserWarning: nn.functional.upsample is deprecated. Use nn.functional.interpolate instead.\n",
            "  warnings.warn(\"nn.functional.upsample is deprecated. Use nn.functional.interpolate instead.\")\n"
          ]
        },
        {
          "output_type": "stream",
          "name": "stdout",
          "text": [
            "192.jpg\n"
          ]
        },
        {
          "output_type": "stream",
          "name": "stderr",
          "text": [
            "/usr/local/lib/python3.9/dist-packages/torch/nn/functional.py:3734: UserWarning: nn.functional.upsample is deprecated. Use nn.functional.interpolate instead.\n",
            "  warnings.warn(\"nn.functional.upsample is deprecated. Use nn.functional.interpolate instead.\")\n"
          ]
        },
        {
          "output_type": "stream",
          "name": "stdout",
          "text": [
            "195.jpg\n"
          ]
        },
        {
          "output_type": "stream",
          "name": "stderr",
          "text": [
            "/usr/local/lib/python3.9/dist-packages/torch/nn/functional.py:3734: UserWarning: nn.functional.upsample is deprecated. Use nn.functional.interpolate instead.\n",
            "  warnings.warn(\"nn.functional.upsample is deprecated. Use nn.functional.interpolate instead.\")\n"
          ]
        },
        {
          "output_type": "stream",
          "name": "stdout",
          "text": [
            "200.jpg\n"
          ]
        },
        {
          "output_type": "stream",
          "name": "stderr",
          "text": [
            "/usr/local/lib/python3.9/dist-packages/torch/nn/functional.py:3734: UserWarning: nn.functional.upsample is deprecated. Use nn.functional.interpolate instead.\n",
            "  warnings.warn(\"nn.functional.upsample is deprecated. Use nn.functional.interpolate instead.\")\n"
          ]
        },
        {
          "output_type": "stream",
          "name": "stdout",
          "text": [
            "191.jpg\n"
          ]
        },
        {
          "output_type": "stream",
          "name": "stderr",
          "text": [
            "/usr/local/lib/python3.9/dist-packages/torch/nn/functional.py:3734: UserWarning: nn.functional.upsample is deprecated. Use nn.functional.interpolate instead.\n",
            "  warnings.warn(\"nn.functional.upsample is deprecated. Use nn.functional.interpolate instead.\")\n"
          ]
        },
        {
          "output_type": "stream",
          "name": "stdout",
          "text": [
            "189.jpg\n"
          ]
        },
        {
          "output_type": "stream",
          "name": "stderr",
          "text": [
            "/usr/local/lib/python3.9/dist-packages/torch/nn/functional.py:3734: UserWarning: nn.functional.upsample is deprecated. Use nn.functional.interpolate instead.\n",
            "  warnings.warn(\"nn.functional.upsample is deprecated. Use nn.functional.interpolate instead.\")\n"
          ]
        },
        {
          "output_type": "stream",
          "name": "stdout",
          "text": [
            "185.jpg\n"
          ]
        },
        {
          "output_type": "stream",
          "name": "stderr",
          "text": [
            "/usr/local/lib/python3.9/dist-packages/torch/nn/functional.py:3734: UserWarning: nn.functional.upsample is deprecated. Use nn.functional.interpolate instead.\n",
            "  warnings.warn(\"nn.functional.upsample is deprecated. Use nn.functional.interpolate instead.\")\n"
          ]
        },
        {
          "output_type": "stream",
          "name": "stdout",
          "text": [
            "194.jpg\n"
          ]
        },
        {
          "output_type": "stream",
          "name": "stderr",
          "text": [
            "/usr/local/lib/python3.9/dist-packages/torch/nn/functional.py:3734: UserWarning: nn.functional.upsample is deprecated. Use nn.functional.interpolate instead.\n",
            "  warnings.warn(\"nn.functional.upsample is deprecated. Use nn.functional.interpolate instead.\")\n"
          ]
        },
        {
          "output_type": "stream",
          "name": "stdout",
          "text": [
            "20.jpg\n"
          ]
        },
        {
          "output_type": "stream",
          "name": "stderr",
          "text": [
            "/usr/local/lib/python3.9/dist-packages/torch/nn/functional.py:3734: UserWarning: nn.functional.upsample is deprecated. Use nn.functional.interpolate instead.\n",
            "  warnings.warn(\"nn.functional.upsample is deprecated. Use nn.functional.interpolate instead.\")\n"
          ]
        },
        {
          "output_type": "stream",
          "name": "stdout",
          "text": [
            "193.jpg\n"
          ]
        },
        {
          "output_type": "stream",
          "name": "stderr",
          "text": [
            "/usr/local/lib/python3.9/dist-packages/torch/nn/functional.py:3734: UserWarning: nn.functional.upsample is deprecated. Use nn.functional.interpolate instead.\n",
            "  warnings.warn(\"nn.functional.upsample is deprecated. Use nn.functional.interpolate instead.\")\n"
          ]
        },
        {
          "output_type": "stream",
          "name": "stdout",
          "text": [
            "188.jpg\n"
          ]
        },
        {
          "output_type": "stream",
          "name": "stderr",
          "text": [
            "/usr/local/lib/python3.9/dist-packages/torch/nn/functional.py:3734: UserWarning: nn.functional.upsample is deprecated. Use nn.functional.interpolate instead.\n",
            "  warnings.warn(\"nn.functional.upsample is deprecated. Use nn.functional.interpolate instead.\")\n"
          ]
        },
        {
          "output_type": "stream",
          "name": "stdout",
          "text": [
            "176.jpg\n"
          ]
        },
        {
          "output_type": "stream",
          "name": "stderr",
          "text": [
            "/usr/local/lib/python3.9/dist-packages/torch/nn/functional.py:3734: UserWarning: nn.functional.upsample is deprecated. Use nn.functional.interpolate instead.\n",
            "  warnings.warn(\"nn.functional.upsample is deprecated. Use nn.functional.interpolate instead.\")\n"
          ]
        },
        {
          "output_type": "stream",
          "name": "stdout",
          "text": [
            "19.jpg\n"
          ]
        },
        {
          "output_type": "stream",
          "name": "stderr",
          "text": [
            "/usr/local/lib/python3.9/dist-packages/torch/nn/functional.py:3734: UserWarning: nn.functional.upsample is deprecated. Use nn.functional.interpolate instead.\n",
            "  warnings.warn(\"nn.functional.upsample is deprecated. Use nn.functional.interpolate instead.\")\n"
          ]
        },
        {
          "output_type": "stream",
          "name": "stdout",
          "text": [
            "201.jpg\n"
          ]
        },
        {
          "output_type": "stream",
          "name": "stderr",
          "text": [
            "/usr/local/lib/python3.9/dist-packages/torch/nn/functional.py:3734: UserWarning: nn.functional.upsample is deprecated. Use nn.functional.interpolate instead.\n",
            "  warnings.warn(\"nn.functional.upsample is deprecated. Use nn.functional.interpolate instead.\")\n"
          ]
        },
        {
          "output_type": "stream",
          "name": "stdout",
          "text": [
            "197.jpg\n"
          ]
        },
        {
          "output_type": "stream",
          "name": "stderr",
          "text": [
            "/usr/local/lib/python3.9/dist-packages/torch/nn/functional.py:3734: UserWarning: nn.functional.upsample is deprecated. Use nn.functional.interpolate instead.\n",
            "  warnings.warn(\"nn.functional.upsample is deprecated. Use nn.functional.interpolate instead.\")\n"
          ]
        },
        {
          "output_type": "stream",
          "name": "stdout",
          "text": [
            "182.jpg\n"
          ]
        },
        {
          "output_type": "stream",
          "name": "stderr",
          "text": [
            "/usr/local/lib/python3.9/dist-packages/torch/nn/functional.py:3734: UserWarning: nn.functional.upsample is deprecated. Use nn.functional.interpolate instead.\n",
            "  warnings.warn(\"nn.functional.upsample is deprecated. Use nn.functional.interpolate instead.\")\n"
          ]
        },
        {
          "output_type": "stream",
          "name": "stdout",
          "text": [
            "184.jpg\n"
          ]
        },
        {
          "output_type": "stream",
          "name": "stderr",
          "text": [
            "/usr/local/lib/python3.9/dist-packages/torch/nn/functional.py:3734: UserWarning: nn.functional.upsample is deprecated. Use nn.functional.interpolate instead.\n",
            "  warnings.warn(\"nn.functional.upsample is deprecated. Use nn.functional.interpolate instead.\")\n"
          ]
        },
        {
          "output_type": "stream",
          "name": "stdout",
          "text": [
            "179.jpg\n"
          ]
        },
        {
          "output_type": "stream",
          "name": "stderr",
          "text": [
            "/usr/local/lib/python3.9/dist-packages/torch/nn/functional.py:3734: UserWarning: nn.functional.upsample is deprecated. Use nn.functional.interpolate instead.\n",
            "  warnings.warn(\"nn.functional.upsample is deprecated. Use nn.functional.interpolate instead.\")\n"
          ]
        },
        {
          "output_type": "stream",
          "name": "stdout",
          "text": [
            "177.jpg\n"
          ]
        },
        {
          "output_type": "stream",
          "name": "stderr",
          "text": [
            "/usr/local/lib/python3.9/dist-packages/torch/nn/functional.py:3734: UserWarning: nn.functional.upsample is deprecated. Use nn.functional.interpolate instead.\n",
            "  warnings.warn(\"nn.functional.upsample is deprecated. Use nn.functional.interpolate instead.\")\n"
          ]
        },
        {
          "output_type": "stream",
          "name": "stdout",
          "text": [
            "196.jpg\n"
          ]
        },
        {
          "output_type": "stream",
          "name": "stderr",
          "text": [
            "/usr/local/lib/python3.9/dist-packages/torch/nn/functional.py:3734: UserWarning: nn.functional.upsample is deprecated. Use nn.functional.interpolate instead.\n",
            "  warnings.warn(\"nn.functional.upsample is deprecated. Use nn.functional.interpolate instead.\")\n"
          ]
        },
        {
          "output_type": "stream",
          "name": "stdout",
          "text": [
            "199.jpg\n"
          ]
        },
        {
          "output_type": "stream",
          "name": "stderr",
          "text": [
            "/usr/local/lib/python3.9/dist-packages/torch/nn/functional.py:3734: UserWarning: nn.functional.upsample is deprecated. Use nn.functional.interpolate instead.\n",
            "  warnings.warn(\"nn.functional.upsample is deprecated. Use nn.functional.interpolate instead.\")\n"
          ]
        },
        {
          "output_type": "stream",
          "name": "stdout",
          "text": [
            "224.jpg\n"
          ]
        },
        {
          "output_type": "stream",
          "name": "stderr",
          "text": [
            "/usr/local/lib/python3.9/dist-packages/torch/nn/functional.py:3734: UserWarning: nn.functional.upsample is deprecated. Use nn.functional.interpolate instead.\n",
            "  warnings.warn(\"nn.functional.upsample is deprecated. Use nn.functional.interpolate instead.\")\n"
          ]
        },
        {
          "output_type": "stream",
          "name": "stdout",
          "text": [
            "22.jpg\n"
          ]
        },
        {
          "output_type": "stream",
          "name": "stderr",
          "text": [
            "/usr/local/lib/python3.9/dist-packages/torch/nn/functional.py:3734: UserWarning: nn.functional.upsample is deprecated. Use nn.functional.interpolate instead.\n",
            "  warnings.warn(\"nn.functional.upsample is deprecated. Use nn.functional.interpolate instead.\")\n"
          ]
        },
        {
          "output_type": "stream",
          "name": "stdout",
          "text": [
            "223.jpg\n"
          ]
        },
        {
          "output_type": "stream",
          "name": "stderr",
          "text": [
            "/usr/local/lib/python3.9/dist-packages/torch/nn/functional.py:3734: UserWarning: nn.functional.upsample is deprecated. Use nn.functional.interpolate instead.\n",
            "  warnings.warn(\"nn.functional.upsample is deprecated. Use nn.functional.interpolate instead.\")\n"
          ]
        },
        {
          "output_type": "stream",
          "name": "stdout",
          "text": [
            "204.jpg\n"
          ]
        },
        {
          "output_type": "stream",
          "name": "stderr",
          "text": [
            "/usr/local/lib/python3.9/dist-packages/torch/nn/functional.py:3734: UserWarning: nn.functional.upsample is deprecated. Use nn.functional.interpolate instead.\n",
            "  warnings.warn(\"nn.functional.upsample is deprecated. Use nn.functional.interpolate instead.\")\n"
          ]
        },
        {
          "output_type": "stream",
          "name": "stdout",
          "text": [
            "203.jpg\n"
          ]
        },
        {
          "output_type": "stream",
          "name": "stderr",
          "text": [
            "/usr/local/lib/python3.9/dist-packages/torch/nn/functional.py:3734: UserWarning: nn.functional.upsample is deprecated. Use nn.functional.interpolate instead.\n",
            "  warnings.warn(\"nn.functional.upsample is deprecated. Use nn.functional.interpolate instead.\")\n"
          ]
        },
        {
          "output_type": "stream",
          "name": "stdout",
          "text": [
            "205.jpg\n"
          ]
        },
        {
          "output_type": "stream",
          "name": "stderr",
          "text": [
            "/usr/local/lib/python3.9/dist-packages/torch/nn/functional.py:3734: UserWarning: nn.functional.upsample is deprecated. Use nn.functional.interpolate instead.\n",
            "  warnings.warn(\"nn.functional.upsample is deprecated. Use nn.functional.interpolate instead.\")\n"
          ]
        },
        {
          "output_type": "stream",
          "name": "stdout",
          "text": [
            "208.jpg\n"
          ]
        },
        {
          "output_type": "stream",
          "name": "stderr",
          "text": [
            "/usr/local/lib/python3.9/dist-packages/torch/nn/functional.py:3734: UserWarning: nn.functional.upsample is deprecated. Use nn.functional.interpolate instead.\n",
            "  warnings.warn(\"nn.functional.upsample is deprecated. Use nn.functional.interpolate instead.\")\n"
          ]
        },
        {
          "output_type": "stream",
          "name": "stdout",
          "text": [
            "209.jpg\n"
          ]
        },
        {
          "output_type": "stream",
          "name": "stderr",
          "text": [
            "/usr/local/lib/python3.9/dist-packages/torch/nn/functional.py:3734: UserWarning: nn.functional.upsample is deprecated. Use nn.functional.interpolate instead.\n",
            "  warnings.warn(\"nn.functional.upsample is deprecated. Use nn.functional.interpolate instead.\")\n"
          ]
        },
        {
          "output_type": "stream",
          "name": "stdout",
          "text": [
            "220.jpg\n"
          ]
        },
        {
          "output_type": "stream",
          "name": "stderr",
          "text": [
            "/usr/local/lib/python3.9/dist-packages/torch/nn/functional.py:3734: UserWarning: nn.functional.upsample is deprecated. Use nn.functional.interpolate instead.\n",
            "  warnings.warn(\"nn.functional.upsample is deprecated. Use nn.functional.interpolate instead.\")\n"
          ]
        },
        {
          "output_type": "stream",
          "name": "stdout",
          "text": [
            "207.jpg\n"
          ]
        },
        {
          "output_type": "stream",
          "name": "stderr",
          "text": [
            "/usr/local/lib/python3.9/dist-packages/torch/nn/functional.py:3734: UserWarning: nn.functional.upsample is deprecated. Use nn.functional.interpolate instead.\n",
            "  warnings.warn(\"nn.functional.upsample is deprecated. Use nn.functional.interpolate instead.\")\n"
          ]
        },
        {
          "output_type": "stream",
          "name": "stdout",
          "text": [
            "216.jpg\n"
          ]
        },
        {
          "output_type": "stream",
          "name": "stderr",
          "text": [
            "/usr/local/lib/python3.9/dist-packages/torch/nn/functional.py:3734: UserWarning: nn.functional.upsample is deprecated. Use nn.functional.interpolate instead.\n",
            "  warnings.warn(\"nn.functional.upsample is deprecated. Use nn.functional.interpolate instead.\")\n"
          ]
        },
        {
          "output_type": "stream",
          "name": "stdout",
          "text": [
            "225.jpg\n"
          ]
        },
        {
          "output_type": "stream",
          "name": "stderr",
          "text": [
            "/usr/local/lib/python3.9/dist-packages/torch/nn/functional.py:3734: UserWarning: nn.functional.upsample is deprecated. Use nn.functional.interpolate instead.\n",
            "  warnings.warn(\"nn.functional.upsample is deprecated. Use nn.functional.interpolate instead.\")\n"
          ]
        },
        {
          "output_type": "stream",
          "name": "stdout",
          "text": [
            "218.jpg\n"
          ]
        },
        {
          "output_type": "stream",
          "name": "stderr",
          "text": [
            "/usr/local/lib/python3.9/dist-packages/torch/nn/functional.py:3734: UserWarning: nn.functional.upsample is deprecated. Use nn.functional.interpolate instead.\n",
            "  warnings.warn(\"nn.functional.upsample is deprecated. Use nn.functional.interpolate instead.\")\n"
          ]
        },
        {
          "output_type": "stream",
          "name": "stdout",
          "text": [
            "219.jpg\n"
          ]
        },
        {
          "output_type": "stream",
          "name": "stderr",
          "text": [
            "/usr/local/lib/python3.9/dist-packages/torch/nn/functional.py:3734: UserWarning: nn.functional.upsample is deprecated. Use nn.functional.interpolate instead.\n",
            "  warnings.warn(\"nn.functional.upsample is deprecated. Use nn.functional.interpolate instead.\")\n"
          ]
        },
        {
          "output_type": "stream",
          "name": "stdout",
          "text": [
            "221.jpg\n"
          ]
        },
        {
          "output_type": "stream",
          "name": "stderr",
          "text": [
            "/usr/local/lib/python3.9/dist-packages/torch/nn/functional.py:3734: UserWarning: nn.functional.upsample is deprecated. Use nn.functional.interpolate instead.\n",
            "  warnings.warn(\"nn.functional.upsample is deprecated. Use nn.functional.interpolate instead.\")\n"
          ]
        },
        {
          "output_type": "stream",
          "name": "stdout",
          "text": [
            "206.jpg\n"
          ]
        },
        {
          "output_type": "stream",
          "name": "stderr",
          "text": [
            "/usr/local/lib/python3.9/dist-packages/torch/nn/functional.py:3734: UserWarning: nn.functional.upsample is deprecated. Use nn.functional.interpolate instead.\n",
            "  warnings.warn(\"nn.functional.upsample is deprecated. Use nn.functional.interpolate instead.\")\n"
          ]
        },
        {
          "output_type": "stream",
          "name": "stdout",
          "text": [
            "222.jpg\n"
          ]
        },
        {
          "output_type": "stream",
          "name": "stderr",
          "text": [
            "/usr/local/lib/python3.9/dist-packages/torch/nn/functional.py:3734: UserWarning: nn.functional.upsample is deprecated. Use nn.functional.interpolate instead.\n",
            "  warnings.warn(\"nn.functional.upsample is deprecated. Use nn.functional.interpolate instead.\")\n"
          ]
        },
        {
          "output_type": "stream",
          "name": "stdout",
          "text": [
            "217.jpg\n"
          ]
        },
        {
          "output_type": "stream",
          "name": "stderr",
          "text": [
            "/usr/local/lib/python3.9/dist-packages/torch/nn/functional.py:3734: UserWarning: nn.functional.upsample is deprecated. Use nn.functional.interpolate instead.\n",
            "  warnings.warn(\"nn.functional.upsample is deprecated. Use nn.functional.interpolate instead.\")\n"
          ]
        },
        {
          "output_type": "stream",
          "name": "stdout",
          "text": [
            "21.jpg\n"
          ]
        },
        {
          "output_type": "stream",
          "name": "stderr",
          "text": [
            "/usr/local/lib/python3.9/dist-packages/torch/nn/functional.py:3734: UserWarning: nn.functional.upsample is deprecated. Use nn.functional.interpolate instead.\n",
            "  warnings.warn(\"nn.functional.upsample is deprecated. Use nn.functional.interpolate instead.\")\n"
          ]
        },
        {
          "output_type": "stream",
          "name": "stdout",
          "text": [
            "202.jpg\n"
          ]
        },
        {
          "output_type": "stream",
          "name": "stderr",
          "text": [
            "/usr/local/lib/python3.9/dist-packages/torch/nn/functional.py:3734: UserWarning: nn.functional.upsample is deprecated. Use nn.functional.interpolate instead.\n",
            "  warnings.warn(\"nn.functional.upsample is deprecated. Use nn.functional.interpolate instead.\")\n"
          ]
        },
        {
          "output_type": "stream",
          "name": "stdout",
          "text": [
            "211.jpg\n"
          ]
        },
        {
          "output_type": "stream",
          "name": "stderr",
          "text": [
            "/usr/local/lib/python3.9/dist-packages/torch/nn/functional.py:3734: UserWarning: nn.functional.upsample is deprecated. Use nn.functional.interpolate instead.\n",
            "  warnings.warn(\"nn.functional.upsample is deprecated. Use nn.functional.interpolate instead.\")\n"
          ]
        },
        {
          "output_type": "stream",
          "name": "stdout",
          "text": [
            "213.jpg\n"
          ]
        },
        {
          "output_type": "stream",
          "name": "stderr",
          "text": [
            "/usr/local/lib/python3.9/dist-packages/torch/nn/functional.py:3734: UserWarning: nn.functional.upsample is deprecated. Use nn.functional.interpolate instead.\n",
            "  warnings.warn(\"nn.functional.upsample is deprecated. Use nn.functional.interpolate instead.\")\n"
          ]
        },
        {
          "output_type": "stream",
          "name": "stdout",
          "text": [
            "214.jpg\n"
          ]
        },
        {
          "output_type": "stream",
          "name": "stderr",
          "text": [
            "/usr/local/lib/python3.9/dist-packages/torch/nn/functional.py:3734: UserWarning: nn.functional.upsample is deprecated. Use nn.functional.interpolate instead.\n",
            "  warnings.warn(\"nn.functional.upsample is deprecated. Use nn.functional.interpolate instead.\")\n"
          ]
        },
        {
          "output_type": "stream",
          "name": "stdout",
          "text": [
            "212.jpg\n"
          ]
        },
        {
          "output_type": "stream",
          "name": "stderr",
          "text": [
            "/usr/local/lib/python3.9/dist-packages/torch/nn/functional.py:3734: UserWarning: nn.functional.upsample is deprecated. Use nn.functional.interpolate instead.\n",
            "  warnings.warn(\"nn.functional.upsample is deprecated. Use nn.functional.interpolate instead.\")\n"
          ]
        },
        {
          "output_type": "stream",
          "name": "stdout",
          "text": [
            "215.jpg\n"
          ]
        },
        {
          "output_type": "stream",
          "name": "stderr",
          "text": [
            "/usr/local/lib/python3.9/dist-packages/torch/nn/functional.py:3734: UserWarning: nn.functional.upsample is deprecated. Use nn.functional.interpolate instead.\n",
            "  warnings.warn(\"nn.functional.upsample is deprecated. Use nn.functional.interpolate instead.\")\n"
          ]
        },
        {
          "output_type": "stream",
          "name": "stdout",
          "text": [
            "210.jpg\n"
          ]
        },
        {
          "output_type": "stream",
          "name": "stderr",
          "text": [
            "/usr/local/lib/python3.9/dist-packages/torch/nn/functional.py:3734: UserWarning: nn.functional.upsample is deprecated. Use nn.functional.interpolate instead.\n",
            "  warnings.warn(\"nn.functional.upsample is deprecated. Use nn.functional.interpolate instead.\")\n"
          ]
        },
        {
          "output_type": "stream",
          "name": "stdout",
          "text": [
            "229.jpg\n"
          ]
        },
        {
          "output_type": "stream",
          "name": "stderr",
          "text": [
            "/usr/local/lib/python3.9/dist-packages/torch/nn/functional.py:3734: UserWarning: nn.functional.upsample is deprecated. Use nn.functional.interpolate instead.\n",
            "  warnings.warn(\"nn.functional.upsample is deprecated. Use nn.functional.interpolate instead.\")\n"
          ]
        },
        {
          "output_type": "stream",
          "name": "stdout",
          "text": [
            "248.jpg\n"
          ]
        },
        {
          "output_type": "stream",
          "name": "stderr",
          "text": [
            "/usr/local/lib/python3.9/dist-packages/torch/nn/functional.py:3734: UserWarning: nn.functional.upsample is deprecated. Use nn.functional.interpolate instead.\n",
            "  warnings.warn(\"nn.functional.upsample is deprecated. Use nn.functional.interpolate instead.\")\n"
          ]
        },
        {
          "output_type": "stream",
          "name": "stdout",
          "text": [
            "231.jpg\n"
          ]
        },
        {
          "output_type": "stream",
          "name": "stderr",
          "text": [
            "/usr/local/lib/python3.9/dist-packages/torch/nn/functional.py:3734: UserWarning: nn.functional.upsample is deprecated. Use nn.functional.interpolate instead.\n",
            "  warnings.warn(\"nn.functional.upsample is deprecated. Use nn.functional.interpolate instead.\")\n"
          ]
        },
        {
          "output_type": "stream",
          "name": "stdout",
          "text": [
            "234.jpg\n"
          ]
        },
        {
          "output_type": "stream",
          "name": "stderr",
          "text": [
            "/usr/local/lib/python3.9/dist-packages/torch/nn/functional.py:3734: UserWarning: nn.functional.upsample is deprecated. Use nn.functional.interpolate instead.\n",
            "  warnings.warn(\"nn.functional.upsample is deprecated. Use nn.functional.interpolate instead.\")\n"
          ]
        },
        {
          "output_type": "stream",
          "name": "stdout",
          "text": [
            "244.jpg\n"
          ]
        },
        {
          "output_type": "stream",
          "name": "stderr",
          "text": [
            "/usr/local/lib/python3.9/dist-packages/torch/nn/functional.py:3734: UserWarning: nn.functional.upsample is deprecated. Use nn.functional.interpolate instead.\n",
            "  warnings.warn(\"nn.functional.upsample is deprecated. Use nn.functional.interpolate instead.\")\n"
          ]
        },
        {
          "output_type": "stream",
          "name": "stdout",
          "text": [
            "245.jpg\n"
          ]
        },
        {
          "output_type": "stream",
          "name": "stderr",
          "text": [
            "/usr/local/lib/python3.9/dist-packages/torch/nn/functional.py:3734: UserWarning: nn.functional.upsample is deprecated. Use nn.functional.interpolate instead.\n",
            "  warnings.warn(\"nn.functional.upsample is deprecated. Use nn.functional.interpolate instead.\")\n"
          ]
        },
        {
          "output_type": "stream",
          "name": "stdout",
          "text": [
            "251.jpg\n"
          ]
        },
        {
          "output_type": "stream",
          "name": "stderr",
          "text": [
            "/usr/local/lib/python3.9/dist-packages/torch/nn/functional.py:3734: UserWarning: nn.functional.upsample is deprecated. Use nn.functional.interpolate instead.\n",
            "  warnings.warn(\"nn.functional.upsample is deprecated. Use nn.functional.interpolate instead.\")\n"
          ]
        },
        {
          "output_type": "stream",
          "name": "stdout",
          "text": [
            "250.jpg\n"
          ]
        },
        {
          "output_type": "stream",
          "name": "stderr",
          "text": [
            "/usr/local/lib/python3.9/dist-packages/torch/nn/functional.py:3734: UserWarning: nn.functional.upsample is deprecated. Use nn.functional.interpolate instead.\n",
            "  warnings.warn(\"nn.functional.upsample is deprecated. Use nn.functional.interpolate instead.\")\n"
          ]
        },
        {
          "output_type": "stream",
          "name": "stdout",
          "text": [
            "241.jpg\n"
          ]
        },
        {
          "output_type": "stream",
          "name": "stderr",
          "text": [
            "/usr/local/lib/python3.9/dist-packages/torch/nn/functional.py:3734: UserWarning: nn.functional.upsample is deprecated. Use nn.functional.interpolate instead.\n",
            "  warnings.warn(\"nn.functional.upsample is deprecated. Use nn.functional.interpolate instead.\")\n"
          ]
        },
        {
          "output_type": "stream",
          "name": "stdout",
          "text": [
            "239.jpg\n"
          ]
        },
        {
          "output_type": "stream",
          "name": "stderr",
          "text": [
            "/usr/local/lib/python3.9/dist-packages/torch/nn/functional.py:3734: UserWarning: nn.functional.upsample is deprecated. Use nn.functional.interpolate instead.\n",
            "  warnings.warn(\"nn.functional.upsample is deprecated. Use nn.functional.interpolate instead.\")\n"
          ]
        },
        {
          "output_type": "stream",
          "name": "stdout",
          "text": [
            "230.jpg\n"
          ]
        },
        {
          "output_type": "stream",
          "name": "stderr",
          "text": [
            "/usr/local/lib/python3.9/dist-packages/torch/nn/functional.py:3734: UserWarning: nn.functional.upsample is deprecated. Use nn.functional.interpolate instead.\n",
            "  warnings.warn(\"nn.functional.upsample is deprecated. Use nn.functional.interpolate instead.\")\n"
          ]
        },
        {
          "output_type": "stream",
          "name": "stdout",
          "text": [
            "246.jpg\n"
          ]
        },
        {
          "output_type": "stream",
          "name": "stderr",
          "text": [
            "/usr/local/lib/python3.9/dist-packages/torch/nn/functional.py:3734: UserWarning: nn.functional.upsample is deprecated. Use nn.functional.interpolate instead.\n",
            "  warnings.warn(\"nn.functional.upsample is deprecated. Use nn.functional.interpolate instead.\")\n"
          ]
        },
        {
          "output_type": "stream",
          "name": "stdout",
          "text": [
            "235.jpg\n"
          ]
        },
        {
          "output_type": "stream",
          "name": "stderr",
          "text": [
            "/usr/local/lib/python3.9/dist-packages/torch/nn/functional.py:3734: UserWarning: nn.functional.upsample is deprecated. Use nn.functional.interpolate instead.\n",
            "  warnings.warn(\"nn.functional.upsample is deprecated. Use nn.functional.interpolate instead.\")\n"
          ]
        },
        {
          "output_type": "stream",
          "name": "stdout",
          "text": [
            "228.jpg\n"
          ]
        },
        {
          "output_type": "stream",
          "name": "stderr",
          "text": [
            "/usr/local/lib/python3.9/dist-packages/torch/nn/functional.py:3734: UserWarning: nn.functional.upsample is deprecated. Use nn.functional.interpolate instead.\n",
            "  warnings.warn(\"nn.functional.upsample is deprecated. Use nn.functional.interpolate instead.\")\n"
          ]
        },
        {
          "output_type": "stream",
          "name": "stdout",
          "text": [
            "227.jpg\n"
          ]
        },
        {
          "output_type": "stream",
          "name": "stderr",
          "text": [
            "/usr/local/lib/python3.9/dist-packages/torch/nn/functional.py:3734: UserWarning: nn.functional.upsample is deprecated. Use nn.functional.interpolate instead.\n",
            "  warnings.warn(\"nn.functional.upsample is deprecated. Use nn.functional.interpolate instead.\")\n"
          ]
        },
        {
          "output_type": "stream",
          "name": "stdout",
          "text": [
            "24.jpg\n"
          ]
        },
        {
          "output_type": "stream",
          "name": "stderr",
          "text": [
            "/usr/local/lib/python3.9/dist-packages/torch/nn/functional.py:3734: UserWarning: nn.functional.upsample is deprecated. Use nn.functional.interpolate instead.\n",
            "  warnings.warn(\"nn.functional.upsample is deprecated. Use nn.functional.interpolate instead.\")\n"
          ]
        },
        {
          "output_type": "stream",
          "name": "stdout",
          "text": [
            "233.jpg\n"
          ]
        },
        {
          "output_type": "stream",
          "name": "stderr",
          "text": [
            "/usr/local/lib/python3.9/dist-packages/torch/nn/functional.py:3734: UserWarning: nn.functional.upsample is deprecated. Use nn.functional.interpolate instead.\n",
            "  warnings.warn(\"nn.functional.upsample is deprecated. Use nn.functional.interpolate instead.\")\n"
          ]
        },
        {
          "output_type": "stream",
          "name": "stdout",
          "text": [
            "243.jpg\n"
          ]
        },
        {
          "output_type": "stream",
          "name": "stderr",
          "text": [
            "/usr/local/lib/python3.9/dist-packages/torch/nn/functional.py:3734: UserWarning: nn.functional.upsample is deprecated. Use nn.functional.interpolate instead.\n",
            "  warnings.warn(\"nn.functional.upsample is deprecated. Use nn.functional.interpolate instead.\")\n"
          ]
        },
        {
          "output_type": "stream",
          "name": "stdout",
          "text": [
            "226.jpg\n"
          ]
        },
        {
          "output_type": "stream",
          "name": "stderr",
          "text": [
            "/usr/local/lib/python3.9/dist-packages/torch/nn/functional.py:3734: UserWarning: nn.functional.upsample is deprecated. Use nn.functional.interpolate instead.\n",
            "  warnings.warn(\"nn.functional.upsample is deprecated. Use nn.functional.interpolate instead.\")\n"
          ]
        },
        {
          "output_type": "stream",
          "name": "stdout",
          "text": [
            "240.jpg\n"
          ]
        },
        {
          "output_type": "stream",
          "name": "stderr",
          "text": [
            "/usr/local/lib/python3.9/dist-packages/torch/nn/functional.py:3734: UserWarning: nn.functional.upsample is deprecated. Use nn.functional.interpolate instead.\n",
            "  warnings.warn(\"nn.functional.upsample is deprecated. Use nn.functional.interpolate instead.\")\n"
          ]
        },
        {
          "output_type": "stream",
          "name": "stdout",
          "text": [
            "249.jpg\n"
          ]
        },
        {
          "output_type": "stream",
          "name": "stderr",
          "text": [
            "/usr/local/lib/python3.9/dist-packages/torch/nn/functional.py:3734: UserWarning: nn.functional.upsample is deprecated. Use nn.functional.interpolate instead.\n",
            "  warnings.warn(\"nn.functional.upsample is deprecated. Use nn.functional.interpolate instead.\")\n"
          ]
        },
        {
          "output_type": "stream",
          "name": "stdout",
          "text": [
            "236.jpg\n"
          ]
        },
        {
          "output_type": "stream",
          "name": "stderr",
          "text": [
            "/usr/local/lib/python3.9/dist-packages/torch/nn/functional.py:3734: UserWarning: nn.functional.upsample is deprecated. Use nn.functional.interpolate instead.\n",
            "  warnings.warn(\"nn.functional.upsample is deprecated. Use nn.functional.interpolate instead.\")\n"
          ]
        },
        {
          "output_type": "stream",
          "name": "stdout",
          "text": [
            "247.jpg\n"
          ]
        },
        {
          "output_type": "stream",
          "name": "stderr",
          "text": [
            "/usr/local/lib/python3.9/dist-packages/torch/nn/functional.py:3734: UserWarning: nn.functional.upsample is deprecated. Use nn.functional.interpolate instead.\n",
            "  warnings.warn(\"nn.functional.upsample is deprecated. Use nn.functional.interpolate instead.\")\n"
          ]
        },
        {
          "output_type": "stream",
          "name": "stdout",
          "text": [
            "252.jpg\n"
          ]
        },
        {
          "output_type": "stream",
          "name": "stderr",
          "text": [
            "/usr/local/lib/python3.9/dist-packages/torch/nn/functional.py:3734: UserWarning: nn.functional.upsample is deprecated. Use nn.functional.interpolate instead.\n",
            "  warnings.warn(\"nn.functional.upsample is deprecated. Use nn.functional.interpolate instead.\")\n"
          ]
        },
        {
          "output_type": "stream",
          "name": "stdout",
          "text": [
            "23.jpg\n"
          ]
        },
        {
          "output_type": "stream",
          "name": "stderr",
          "text": [
            "/usr/local/lib/python3.9/dist-packages/torch/nn/functional.py:3734: UserWarning: nn.functional.upsample is deprecated. Use nn.functional.interpolate instead.\n",
            "  warnings.warn(\"nn.functional.upsample is deprecated. Use nn.functional.interpolate instead.\")\n"
          ]
        },
        {
          "output_type": "stream",
          "name": "stdout",
          "text": [
            "238.jpg\n"
          ]
        },
        {
          "output_type": "stream",
          "name": "stderr",
          "text": [
            "/usr/local/lib/python3.9/dist-packages/torch/nn/functional.py:3734: UserWarning: nn.functional.upsample is deprecated. Use nn.functional.interpolate instead.\n",
            "  warnings.warn(\"nn.functional.upsample is deprecated. Use nn.functional.interpolate instead.\")\n"
          ]
        },
        {
          "output_type": "stream",
          "name": "stdout",
          "text": [
            "232.jpg\n"
          ]
        },
        {
          "output_type": "stream",
          "name": "stderr",
          "text": [
            "/usr/local/lib/python3.9/dist-packages/torch/nn/functional.py:3734: UserWarning: nn.functional.upsample is deprecated. Use nn.functional.interpolate instead.\n",
            "  warnings.warn(\"nn.functional.upsample is deprecated. Use nn.functional.interpolate instead.\")\n"
          ]
        },
        {
          "output_type": "stream",
          "name": "stdout",
          "text": [
            "25.jpg\n"
          ]
        },
        {
          "output_type": "stream",
          "name": "stderr",
          "text": [
            "/usr/local/lib/python3.9/dist-packages/torch/nn/functional.py:3734: UserWarning: nn.functional.upsample is deprecated. Use nn.functional.interpolate instead.\n",
            "  warnings.warn(\"nn.functional.upsample is deprecated. Use nn.functional.interpolate instead.\")\n"
          ]
        },
        {
          "output_type": "stream",
          "name": "stdout",
          "text": [
            "242.jpg\n"
          ]
        },
        {
          "output_type": "stream",
          "name": "stderr",
          "text": [
            "/usr/local/lib/python3.9/dist-packages/torch/nn/functional.py:3734: UserWarning: nn.functional.upsample is deprecated. Use nn.functional.interpolate instead.\n",
            "  warnings.warn(\"nn.functional.upsample is deprecated. Use nn.functional.interpolate instead.\")\n"
          ]
        },
        {
          "output_type": "stream",
          "name": "stdout",
          "text": [
            "237.jpg\n"
          ]
        },
        {
          "output_type": "stream",
          "name": "stderr",
          "text": [
            "/usr/local/lib/python3.9/dist-packages/torch/nn/functional.py:3734: UserWarning: nn.functional.upsample is deprecated. Use nn.functional.interpolate instead.\n",
            "  warnings.warn(\"nn.functional.upsample is deprecated. Use nn.functional.interpolate instead.\")\n"
          ]
        },
        {
          "output_type": "stream",
          "name": "stdout",
          "text": [
            "265.jpg\n"
          ]
        },
        {
          "output_type": "stream",
          "name": "stderr",
          "text": [
            "/usr/local/lib/python3.9/dist-packages/torch/nn/functional.py:3734: UserWarning: nn.functional.upsample is deprecated. Use nn.functional.interpolate instead.\n",
            "  warnings.warn(\"nn.functional.upsample is deprecated. Use nn.functional.interpolate instead.\")\n"
          ]
        },
        {
          "output_type": "stream",
          "name": "stdout",
          "text": [
            "253.jpg\n"
          ]
        },
        {
          "output_type": "stream",
          "name": "stderr",
          "text": [
            "/usr/local/lib/python3.9/dist-packages/torch/nn/functional.py:3734: UserWarning: nn.functional.upsample is deprecated. Use nn.functional.interpolate instead.\n",
            "  warnings.warn(\"nn.functional.upsample is deprecated. Use nn.functional.interpolate instead.\")\n"
          ]
        },
        {
          "output_type": "stream",
          "name": "stdout",
          "text": [
            "254.jpg\n"
          ]
        },
        {
          "output_type": "stream",
          "name": "stderr",
          "text": [
            "/usr/local/lib/python3.9/dist-packages/torch/nn/functional.py:3734: UserWarning: nn.functional.upsample is deprecated. Use nn.functional.interpolate instead.\n",
            "  warnings.warn(\"nn.functional.upsample is deprecated. Use nn.functional.interpolate instead.\")\n"
          ]
        },
        {
          "output_type": "stream",
          "name": "stdout",
          "text": [
            "263.jpg\n"
          ]
        },
        {
          "output_type": "stream",
          "name": "stderr",
          "text": [
            "/usr/local/lib/python3.9/dist-packages/torch/nn/functional.py:3734: UserWarning: nn.functional.upsample is deprecated. Use nn.functional.interpolate instead.\n",
            "  warnings.warn(\"nn.functional.upsample is deprecated. Use nn.functional.interpolate instead.\")\n"
          ]
        },
        {
          "output_type": "stream",
          "name": "stdout",
          "text": [
            "267.jpg\n"
          ]
        },
        {
          "output_type": "stream",
          "name": "stderr",
          "text": [
            "/usr/local/lib/python3.9/dist-packages/torch/nn/functional.py:3734: UserWarning: nn.functional.upsample is deprecated. Use nn.functional.interpolate instead.\n",
            "  warnings.warn(\"nn.functional.upsample is deprecated. Use nn.functional.interpolate instead.\")\n"
          ]
        },
        {
          "output_type": "stream",
          "name": "stdout",
          "text": [
            "269.jpg\n"
          ]
        },
        {
          "output_type": "stream",
          "name": "stderr",
          "text": [
            "/usr/local/lib/python3.9/dist-packages/torch/nn/functional.py:3734: UserWarning: nn.functional.upsample is deprecated. Use nn.functional.interpolate instead.\n",
            "  warnings.warn(\"nn.functional.upsample is deprecated. Use nn.functional.interpolate instead.\")\n"
          ]
        },
        {
          "output_type": "stream",
          "name": "stdout",
          "text": [
            "261.jpg\n"
          ]
        },
        {
          "output_type": "stream",
          "name": "stderr",
          "text": [
            "/usr/local/lib/python3.9/dist-packages/torch/nn/functional.py:3734: UserWarning: nn.functional.upsample is deprecated. Use nn.functional.interpolate instead.\n",
            "  warnings.warn(\"nn.functional.upsample is deprecated. Use nn.functional.interpolate instead.\")\n"
          ]
        },
        {
          "output_type": "stream",
          "name": "stdout",
          "text": [
            "270.jpg\n"
          ]
        },
        {
          "output_type": "stream",
          "name": "stderr",
          "text": [
            "/usr/local/lib/python3.9/dist-packages/torch/nn/functional.py:3734: UserWarning: nn.functional.upsample is deprecated. Use nn.functional.interpolate instead.\n",
            "  warnings.warn(\"nn.functional.upsample is deprecated. Use nn.functional.interpolate instead.\")\n"
          ]
        },
        {
          "output_type": "stream",
          "name": "stdout",
          "text": [
            "272.jpg\n"
          ]
        },
        {
          "output_type": "stream",
          "name": "stderr",
          "text": [
            "/usr/local/lib/python3.9/dist-packages/torch/nn/functional.py:3734: UserWarning: nn.functional.upsample is deprecated. Use nn.functional.interpolate instead.\n",
            "  warnings.warn(\"nn.functional.upsample is deprecated. Use nn.functional.interpolate instead.\")\n"
          ]
        },
        {
          "output_type": "stream",
          "name": "stdout",
          "text": [
            "274.jpg\n"
          ]
        },
        {
          "output_type": "stream",
          "name": "stderr",
          "text": [
            "/usr/local/lib/python3.9/dist-packages/torch/nn/functional.py:3734: UserWarning: nn.functional.upsample is deprecated. Use nn.functional.interpolate instead.\n",
            "  warnings.warn(\"nn.functional.upsample is deprecated. Use nn.functional.interpolate instead.\")\n"
          ]
        },
        {
          "output_type": "stream",
          "name": "stdout",
          "text": [
            "266.jpg\n"
          ]
        },
        {
          "output_type": "stream",
          "name": "stderr",
          "text": [
            "/usr/local/lib/python3.9/dist-packages/torch/nn/functional.py:3734: UserWarning: nn.functional.upsample is deprecated. Use nn.functional.interpolate instead.\n",
            "  warnings.warn(\"nn.functional.upsample is deprecated. Use nn.functional.interpolate instead.\")\n"
          ]
        },
        {
          "output_type": "stream",
          "name": "stdout",
          "text": [
            "256.jpg\n"
          ]
        },
        {
          "output_type": "stream",
          "name": "stderr",
          "text": [
            "/usr/local/lib/python3.9/dist-packages/torch/nn/functional.py:3734: UserWarning: nn.functional.upsample is deprecated. Use nn.functional.interpolate instead.\n",
            "  warnings.warn(\"nn.functional.upsample is deprecated. Use nn.functional.interpolate instead.\")\n"
          ]
        },
        {
          "output_type": "stream",
          "name": "stdout",
          "text": [
            "260.jpg\n"
          ]
        },
        {
          "output_type": "stream",
          "name": "stderr",
          "text": [
            "/usr/local/lib/python3.9/dist-packages/torch/nn/functional.py:3734: UserWarning: nn.functional.upsample is deprecated. Use nn.functional.interpolate instead.\n",
            "  warnings.warn(\"nn.functional.upsample is deprecated. Use nn.functional.interpolate instead.\")\n"
          ]
        },
        {
          "output_type": "stream",
          "name": "stdout",
          "text": [
            "259.jpg\n"
          ]
        },
        {
          "output_type": "stream",
          "name": "stderr",
          "text": [
            "/usr/local/lib/python3.9/dist-packages/torch/nn/functional.py:3734: UserWarning: nn.functional.upsample is deprecated. Use nn.functional.interpolate instead.\n",
            "  warnings.warn(\"nn.functional.upsample is deprecated. Use nn.functional.interpolate instead.\")\n"
          ]
        },
        {
          "output_type": "stream",
          "name": "stdout",
          "text": [
            "258.jpg\n"
          ]
        },
        {
          "output_type": "stream",
          "name": "stderr",
          "text": [
            "/usr/local/lib/python3.9/dist-packages/torch/nn/functional.py:3734: UserWarning: nn.functional.upsample is deprecated. Use nn.functional.interpolate instead.\n",
            "  warnings.warn(\"nn.functional.upsample is deprecated. Use nn.functional.interpolate instead.\")\n"
          ]
        },
        {
          "output_type": "stream",
          "name": "stdout",
          "text": [
            "276.jpg\n"
          ]
        },
        {
          "output_type": "stream",
          "name": "stderr",
          "text": [
            "/usr/local/lib/python3.9/dist-packages/torch/nn/functional.py:3734: UserWarning: nn.functional.upsample is deprecated. Use nn.functional.interpolate instead.\n",
            "  warnings.warn(\"nn.functional.upsample is deprecated. Use nn.functional.interpolate instead.\")\n"
          ]
        },
        {
          "output_type": "stream",
          "name": "stdout",
          "text": [
            "257.jpg\n"
          ]
        },
        {
          "output_type": "stream",
          "name": "stderr",
          "text": [
            "/usr/local/lib/python3.9/dist-packages/torch/nn/functional.py:3734: UserWarning: nn.functional.upsample is deprecated. Use nn.functional.interpolate instead.\n",
            "  warnings.warn(\"nn.functional.upsample is deprecated. Use nn.functional.interpolate instead.\")\n"
          ]
        },
        {
          "output_type": "stream",
          "name": "stdout",
          "text": [
            "275.jpg\n"
          ]
        },
        {
          "output_type": "stream",
          "name": "stderr",
          "text": [
            "/usr/local/lib/python3.9/dist-packages/torch/nn/functional.py:3734: UserWarning: nn.functional.upsample is deprecated. Use nn.functional.interpolate instead.\n",
            "  warnings.warn(\"nn.functional.upsample is deprecated. Use nn.functional.interpolate instead.\")\n"
          ]
        },
        {
          "output_type": "stream",
          "name": "stdout",
          "text": [
            "277.jpg\n"
          ]
        },
        {
          "output_type": "stream",
          "name": "stderr",
          "text": [
            "/usr/local/lib/python3.9/dist-packages/torch/nn/functional.py:3734: UserWarning: nn.functional.upsample is deprecated. Use nn.functional.interpolate instead.\n",
            "  warnings.warn(\"nn.functional.upsample is deprecated. Use nn.functional.interpolate instead.\")\n"
          ]
        },
        {
          "output_type": "stream",
          "name": "stdout",
          "text": [
            "262.jpg\n"
          ]
        },
        {
          "output_type": "stream",
          "name": "stderr",
          "text": [
            "/usr/local/lib/python3.9/dist-packages/torch/nn/functional.py:3734: UserWarning: nn.functional.upsample is deprecated. Use nn.functional.interpolate instead.\n",
            "  warnings.warn(\"nn.functional.upsample is deprecated. Use nn.functional.interpolate instead.\")\n"
          ]
        },
        {
          "output_type": "stream",
          "name": "stdout",
          "text": [
            "255.jpg\n"
          ]
        },
        {
          "output_type": "stream",
          "name": "stderr",
          "text": [
            "/usr/local/lib/python3.9/dist-packages/torch/nn/functional.py:3734: UserWarning: nn.functional.upsample is deprecated. Use nn.functional.interpolate instead.\n",
            "  warnings.warn(\"nn.functional.upsample is deprecated. Use nn.functional.interpolate instead.\")\n"
          ]
        },
        {
          "output_type": "stream",
          "name": "stdout",
          "text": [
            "271.jpg\n"
          ]
        },
        {
          "output_type": "stream",
          "name": "stderr",
          "text": [
            "/usr/local/lib/python3.9/dist-packages/torch/nn/functional.py:3734: UserWarning: nn.functional.upsample is deprecated. Use nn.functional.interpolate instead.\n",
            "  warnings.warn(\"nn.functional.upsample is deprecated. Use nn.functional.interpolate instead.\")\n"
          ]
        },
        {
          "output_type": "stream",
          "name": "stdout",
          "text": [
            "26.jpg\n"
          ]
        },
        {
          "output_type": "stream",
          "name": "stderr",
          "text": [
            "/usr/local/lib/python3.9/dist-packages/torch/nn/functional.py:3734: UserWarning: nn.functional.upsample is deprecated. Use nn.functional.interpolate instead.\n",
            "  warnings.warn(\"nn.functional.upsample is deprecated. Use nn.functional.interpolate instead.\")\n"
          ]
        },
        {
          "output_type": "stream",
          "name": "stdout",
          "text": [
            "268.jpg\n"
          ]
        },
        {
          "output_type": "stream",
          "name": "stderr",
          "text": [
            "/usr/local/lib/python3.9/dist-packages/torch/nn/functional.py:3734: UserWarning: nn.functional.upsample is deprecated. Use nn.functional.interpolate instead.\n",
            "  warnings.warn(\"nn.functional.upsample is deprecated. Use nn.functional.interpolate instead.\")\n"
          ]
        },
        {
          "output_type": "stream",
          "name": "stdout",
          "text": [
            "273.jpg\n"
          ]
        },
        {
          "output_type": "stream",
          "name": "stderr",
          "text": [
            "/usr/local/lib/python3.9/dist-packages/torch/nn/functional.py:3734: UserWarning: nn.functional.upsample is deprecated. Use nn.functional.interpolate instead.\n",
            "  warnings.warn(\"nn.functional.upsample is deprecated. Use nn.functional.interpolate instead.\")\n"
          ]
        },
        {
          "output_type": "stream",
          "name": "stdout",
          "text": [
            "27.jpg\n"
          ]
        },
        {
          "output_type": "stream",
          "name": "stderr",
          "text": [
            "/usr/local/lib/python3.9/dist-packages/torch/nn/functional.py:3734: UserWarning: nn.functional.upsample is deprecated. Use nn.functional.interpolate instead.\n",
            "  warnings.warn(\"nn.functional.upsample is deprecated. Use nn.functional.interpolate instead.\")\n"
          ]
        },
        {
          "output_type": "stream",
          "name": "stdout",
          "text": [
            "264.jpg\n"
          ]
        },
        {
          "output_type": "stream",
          "name": "stderr",
          "text": [
            "/usr/local/lib/python3.9/dist-packages/torch/nn/functional.py:3734: UserWarning: nn.functional.upsample is deprecated. Use nn.functional.interpolate instead.\n",
            "  warnings.warn(\"nn.functional.upsample is deprecated. Use nn.functional.interpolate instead.\")\n"
          ]
        },
        {
          "output_type": "stream",
          "name": "stdout",
          "text": [
            "287.jpg\n"
          ]
        },
        {
          "output_type": "stream",
          "name": "stderr",
          "text": [
            "/usr/local/lib/python3.9/dist-packages/torch/nn/functional.py:3734: UserWarning: nn.functional.upsample is deprecated. Use nn.functional.interpolate instead.\n",
            "  warnings.warn(\"nn.functional.upsample is deprecated. Use nn.functional.interpolate instead.\")\n"
          ]
        },
        {
          "output_type": "stream",
          "name": "stdout",
          "text": [
            "298.jpg\n"
          ]
        },
        {
          "output_type": "stream",
          "name": "stderr",
          "text": [
            "/usr/local/lib/python3.9/dist-packages/torch/nn/functional.py:3734: UserWarning: nn.functional.upsample is deprecated. Use nn.functional.interpolate instead.\n",
            "  warnings.warn(\"nn.functional.upsample is deprecated. Use nn.functional.interpolate instead.\")\n"
          ]
        },
        {
          "output_type": "stream",
          "name": "stdout",
          "text": [
            "294.jpg\n"
          ]
        },
        {
          "output_type": "stream",
          "name": "stderr",
          "text": [
            "/usr/local/lib/python3.9/dist-packages/torch/nn/functional.py:3734: UserWarning: nn.functional.upsample is deprecated. Use nn.functional.interpolate instead.\n",
            "  warnings.warn(\"nn.functional.upsample is deprecated. Use nn.functional.interpolate instead.\")\n"
          ]
        },
        {
          "output_type": "stream",
          "name": "stdout",
          "text": [
            "282.jpg\n"
          ]
        },
        {
          "output_type": "stream",
          "name": "stderr",
          "text": [
            "/usr/local/lib/python3.9/dist-packages/torch/nn/functional.py:3734: UserWarning: nn.functional.upsample is deprecated. Use nn.functional.interpolate instead.\n",
            "  warnings.warn(\"nn.functional.upsample is deprecated. Use nn.functional.interpolate instead.\")\n"
          ]
        },
        {
          "output_type": "stream",
          "name": "stdout",
          "text": [
            "299.jpg\n"
          ]
        },
        {
          "output_type": "stream",
          "name": "stderr",
          "text": [
            "/usr/local/lib/python3.9/dist-packages/torch/nn/functional.py:3734: UserWarning: nn.functional.upsample is deprecated. Use nn.functional.interpolate instead.\n",
            "  warnings.warn(\"nn.functional.upsample is deprecated. Use nn.functional.interpolate instead.\")\n"
          ]
        },
        {
          "output_type": "stream",
          "name": "stdout",
          "text": [
            "29.jpg\n"
          ]
        },
        {
          "output_type": "stream",
          "name": "stderr",
          "text": [
            "/usr/local/lib/python3.9/dist-packages/torch/nn/functional.py:3734: UserWarning: nn.functional.upsample is deprecated. Use nn.functional.interpolate instead.\n",
            "  warnings.warn(\"nn.functional.upsample is deprecated. Use nn.functional.interpolate instead.\")\n"
          ]
        },
        {
          "output_type": "stream",
          "name": "stdout",
          "text": [
            "288.jpg\n"
          ]
        },
        {
          "output_type": "stream",
          "name": "stderr",
          "text": [
            "/usr/local/lib/python3.9/dist-packages/torch/nn/functional.py:3734: UserWarning: nn.functional.upsample is deprecated. Use nn.functional.interpolate instead.\n",
            "  warnings.warn(\"nn.functional.upsample is deprecated. Use nn.functional.interpolate instead.\")\n"
          ]
        },
        {
          "output_type": "stream",
          "name": "stdout",
          "text": [
            "285.jpg\n"
          ]
        },
        {
          "output_type": "stream",
          "name": "stderr",
          "text": [
            "/usr/local/lib/python3.9/dist-packages/torch/nn/functional.py:3734: UserWarning: nn.functional.upsample is deprecated. Use nn.functional.interpolate instead.\n",
            "  warnings.warn(\"nn.functional.upsample is deprecated. Use nn.functional.interpolate instead.\")\n"
          ]
        },
        {
          "output_type": "stream",
          "name": "stdout",
          "text": [
            "284.jpg\n"
          ]
        },
        {
          "output_type": "stream",
          "name": "stderr",
          "text": [
            "/usr/local/lib/python3.9/dist-packages/torch/nn/functional.py:3734: UserWarning: nn.functional.upsample is deprecated. Use nn.functional.interpolate instead.\n",
            "  warnings.warn(\"nn.functional.upsample is deprecated. Use nn.functional.interpolate instead.\")\n"
          ]
        },
        {
          "output_type": "stream",
          "name": "stdout",
          "text": [
            "281.jpg\n"
          ]
        },
        {
          "output_type": "stream",
          "name": "stderr",
          "text": [
            "/usr/local/lib/python3.9/dist-packages/torch/nn/functional.py:3734: UserWarning: nn.functional.upsample is deprecated. Use nn.functional.interpolate instead.\n",
            "  warnings.warn(\"nn.functional.upsample is deprecated. Use nn.functional.interpolate instead.\")\n"
          ]
        },
        {
          "output_type": "stream",
          "name": "stdout",
          "text": [
            "295.jpg\n"
          ]
        },
        {
          "output_type": "stream",
          "name": "stderr",
          "text": [
            "/usr/local/lib/python3.9/dist-packages/torch/nn/functional.py:3734: UserWarning: nn.functional.upsample is deprecated. Use nn.functional.interpolate instead.\n",
            "  warnings.warn(\"nn.functional.upsample is deprecated. Use nn.functional.interpolate instead.\")\n"
          ]
        },
        {
          "output_type": "stream",
          "name": "stdout",
          "text": [
            "28.jpg\n"
          ]
        },
        {
          "output_type": "stream",
          "name": "stderr",
          "text": [
            "/usr/local/lib/python3.9/dist-packages/torch/nn/functional.py:3734: UserWarning: nn.functional.upsample is deprecated. Use nn.functional.interpolate instead.\n",
            "  warnings.warn(\"nn.functional.upsample is deprecated. Use nn.functional.interpolate instead.\")\n"
          ]
        },
        {
          "output_type": "stream",
          "name": "stdout",
          "text": [
            "286.jpg\n"
          ]
        },
        {
          "output_type": "stream",
          "name": "stderr",
          "text": [
            "/usr/local/lib/python3.9/dist-packages/torch/nn/functional.py:3734: UserWarning: nn.functional.upsample is deprecated. Use nn.functional.interpolate instead.\n",
            "  warnings.warn(\"nn.functional.upsample is deprecated. Use nn.functional.interpolate instead.\")\n"
          ]
        },
        {
          "output_type": "stream",
          "name": "stdout",
          "text": [
            "296.jpg\n"
          ]
        },
        {
          "output_type": "stream",
          "name": "stderr",
          "text": [
            "/usr/local/lib/python3.9/dist-packages/torch/nn/functional.py:3734: UserWarning: nn.functional.upsample is deprecated. Use nn.functional.interpolate instead.\n",
            "  warnings.warn(\"nn.functional.upsample is deprecated. Use nn.functional.interpolate instead.\")\n"
          ]
        },
        {
          "output_type": "stream",
          "name": "stdout",
          "text": [
            "297.jpg\n"
          ]
        },
        {
          "output_type": "stream",
          "name": "stderr",
          "text": [
            "/usr/local/lib/python3.9/dist-packages/torch/nn/functional.py:3734: UserWarning: nn.functional.upsample is deprecated. Use nn.functional.interpolate instead.\n",
            "  warnings.warn(\"nn.functional.upsample is deprecated. Use nn.functional.interpolate instead.\")\n"
          ]
        },
        {
          "output_type": "stream",
          "name": "stdout",
          "text": [
            "3.jpg\n"
          ]
        },
        {
          "output_type": "stream",
          "name": "stderr",
          "text": [
            "/usr/local/lib/python3.9/dist-packages/torch/nn/functional.py:3734: UserWarning: nn.functional.upsample is deprecated. Use nn.functional.interpolate instead.\n",
            "  warnings.warn(\"nn.functional.upsample is deprecated. Use nn.functional.interpolate instead.\")\n"
          ]
        },
        {
          "output_type": "stream",
          "name": "stdout",
          "text": [
            "289.jpg\n"
          ]
        },
        {
          "output_type": "stream",
          "name": "stderr",
          "text": [
            "/usr/local/lib/python3.9/dist-packages/torch/nn/functional.py:3734: UserWarning: nn.functional.upsample is deprecated. Use nn.functional.interpolate instead.\n",
            "  warnings.warn(\"nn.functional.upsample is deprecated. Use nn.functional.interpolate instead.\")\n"
          ]
        },
        {
          "output_type": "stream",
          "name": "stdout",
          "text": [
            "290.jpg\n"
          ]
        },
        {
          "output_type": "stream",
          "name": "stderr",
          "text": [
            "/usr/local/lib/python3.9/dist-packages/torch/nn/functional.py:3734: UserWarning: nn.functional.upsample is deprecated. Use nn.functional.interpolate instead.\n",
            "  warnings.warn(\"nn.functional.upsample is deprecated. Use nn.functional.interpolate instead.\")\n"
          ]
        },
        {
          "output_type": "stream",
          "name": "stdout",
          "text": [
            "279.jpg\n"
          ]
        },
        {
          "output_type": "stream",
          "name": "stderr",
          "text": [
            "/usr/local/lib/python3.9/dist-packages/torch/nn/functional.py:3734: UserWarning: nn.functional.upsample is deprecated. Use nn.functional.interpolate instead.\n",
            "  warnings.warn(\"nn.functional.upsample is deprecated. Use nn.functional.interpolate instead.\")\n"
          ]
        },
        {
          "output_type": "stream",
          "name": "stdout",
          "text": [
            "300.jpg\n"
          ]
        },
        {
          "output_type": "stream",
          "name": "stderr",
          "text": [
            "/usr/local/lib/python3.9/dist-packages/torch/nn/functional.py:3734: UserWarning: nn.functional.upsample is deprecated. Use nn.functional.interpolate instead.\n",
            "  warnings.warn(\"nn.functional.upsample is deprecated. Use nn.functional.interpolate instead.\")\n"
          ]
        },
        {
          "output_type": "stream",
          "name": "stdout",
          "text": [
            "30.jpg\n"
          ]
        },
        {
          "output_type": "stream",
          "name": "stderr",
          "text": [
            "/usr/local/lib/python3.9/dist-packages/torch/nn/functional.py:3734: UserWarning: nn.functional.upsample is deprecated. Use nn.functional.interpolate instead.\n",
            "  warnings.warn(\"nn.functional.upsample is deprecated. Use nn.functional.interpolate instead.\")\n"
          ]
        },
        {
          "output_type": "stream",
          "name": "stdout",
          "text": [
            "292.jpg\n"
          ]
        },
        {
          "output_type": "stream",
          "name": "stderr",
          "text": [
            "/usr/local/lib/python3.9/dist-packages/torch/nn/functional.py:3734: UserWarning: nn.functional.upsample is deprecated. Use nn.functional.interpolate instead.\n",
            "  warnings.warn(\"nn.functional.upsample is deprecated. Use nn.functional.interpolate instead.\")\n"
          ]
        },
        {
          "output_type": "stream",
          "name": "stdout",
          "text": [
            "301.jpg\n"
          ]
        },
        {
          "output_type": "stream",
          "name": "stderr",
          "text": [
            "/usr/local/lib/python3.9/dist-packages/torch/nn/functional.py:3734: UserWarning: nn.functional.upsample is deprecated. Use nn.functional.interpolate instead.\n",
            "  warnings.warn(\"nn.functional.upsample is deprecated. Use nn.functional.interpolate instead.\")\n"
          ]
        },
        {
          "output_type": "stream",
          "name": "stdout",
          "text": [
            "280.jpg\n"
          ]
        },
        {
          "output_type": "stream",
          "name": "stderr",
          "text": [
            "/usr/local/lib/python3.9/dist-packages/torch/nn/functional.py:3734: UserWarning: nn.functional.upsample is deprecated. Use nn.functional.interpolate instead.\n",
            "  warnings.warn(\"nn.functional.upsample is deprecated. Use nn.functional.interpolate instead.\")\n"
          ]
        },
        {
          "output_type": "stream",
          "name": "stdout",
          "text": [
            "278.jpg\n"
          ]
        },
        {
          "output_type": "stream",
          "name": "stderr",
          "text": [
            "/usr/local/lib/python3.9/dist-packages/torch/nn/functional.py:3734: UserWarning: nn.functional.upsample is deprecated. Use nn.functional.interpolate instead.\n",
            "  warnings.warn(\"nn.functional.upsample is deprecated. Use nn.functional.interpolate instead.\")\n"
          ]
        },
        {
          "output_type": "stream",
          "name": "stdout",
          "text": [
            "283.jpg\n"
          ]
        },
        {
          "output_type": "stream",
          "name": "stderr",
          "text": [
            "/usr/local/lib/python3.9/dist-packages/torch/nn/functional.py:3734: UserWarning: nn.functional.upsample is deprecated. Use nn.functional.interpolate instead.\n",
            "  warnings.warn(\"nn.functional.upsample is deprecated. Use nn.functional.interpolate instead.\")\n"
          ]
        },
        {
          "output_type": "stream",
          "name": "stdout",
          "text": [
            "291.jpg\n"
          ]
        },
        {
          "output_type": "stream",
          "name": "stderr",
          "text": [
            "/usr/local/lib/python3.9/dist-packages/torch/nn/functional.py:3734: UserWarning: nn.functional.upsample is deprecated. Use nn.functional.interpolate instead.\n",
            "  warnings.warn(\"nn.functional.upsample is deprecated. Use nn.functional.interpolate instead.\")\n"
          ]
        },
        {
          "output_type": "stream",
          "name": "stdout",
          "text": [
            "293.jpg\n"
          ]
        },
        {
          "output_type": "stream",
          "name": "stderr",
          "text": [
            "/usr/local/lib/python3.9/dist-packages/torch/nn/functional.py:3734: UserWarning: nn.functional.upsample is deprecated. Use nn.functional.interpolate instead.\n",
            "  warnings.warn(\"nn.functional.upsample is deprecated. Use nn.functional.interpolate instead.\")\n"
          ]
        },
        {
          "output_type": "stream",
          "name": "stdout",
          "text": [
            "316.jpg\n"
          ]
        },
        {
          "output_type": "stream",
          "name": "stderr",
          "text": [
            "/usr/local/lib/python3.9/dist-packages/torch/nn/functional.py:3734: UserWarning: nn.functional.upsample is deprecated. Use nn.functional.interpolate instead.\n",
            "  warnings.warn(\"nn.functional.upsample is deprecated. Use nn.functional.interpolate instead.\")\n"
          ]
        },
        {
          "output_type": "stream",
          "name": "stdout",
          "text": [
            "312.jpg\n"
          ]
        },
        {
          "output_type": "stream",
          "name": "stderr",
          "text": [
            "/usr/local/lib/python3.9/dist-packages/torch/nn/functional.py:3734: UserWarning: nn.functional.upsample is deprecated. Use nn.functional.interpolate instead.\n",
            "  warnings.warn(\"nn.functional.upsample is deprecated. Use nn.functional.interpolate instead.\")\n"
          ]
        },
        {
          "output_type": "stream",
          "name": "stdout",
          "text": [
            "307.jpg\n"
          ]
        },
        {
          "output_type": "stream",
          "name": "stderr",
          "text": [
            "/usr/local/lib/python3.9/dist-packages/torch/nn/functional.py:3734: UserWarning: nn.functional.upsample is deprecated. Use nn.functional.interpolate instead.\n",
            "  warnings.warn(\"nn.functional.upsample is deprecated. Use nn.functional.interpolate instead.\")\n"
          ]
        },
        {
          "output_type": "stream",
          "name": "stdout",
          "text": [
            "313.jpg\n"
          ]
        },
        {
          "output_type": "stream",
          "name": "stderr",
          "text": [
            "/usr/local/lib/python3.9/dist-packages/torch/nn/functional.py:3734: UserWarning: nn.functional.upsample is deprecated. Use nn.functional.interpolate instead.\n",
            "  warnings.warn(\"nn.functional.upsample is deprecated. Use nn.functional.interpolate instead.\")\n"
          ]
        },
        {
          "output_type": "stream",
          "name": "stdout",
          "text": [
            "309.jpg\n"
          ]
        },
        {
          "output_type": "stream",
          "name": "stderr",
          "text": [
            "/usr/local/lib/python3.9/dist-packages/torch/nn/functional.py:3734: UserWarning: nn.functional.upsample is deprecated. Use nn.functional.interpolate instead.\n",
            "  warnings.warn(\"nn.functional.upsample is deprecated. Use nn.functional.interpolate instead.\")\n"
          ]
        },
        {
          "output_type": "stream",
          "name": "stdout",
          "text": [
            "4.jpg\n"
          ]
        },
        {
          "output_type": "stream",
          "name": "stderr",
          "text": [
            "/usr/local/lib/python3.9/dist-packages/torch/nn/functional.py:3734: UserWarning: nn.functional.upsample is deprecated. Use nn.functional.interpolate instead.\n",
            "  warnings.warn(\"nn.functional.upsample is deprecated. Use nn.functional.interpolate instead.\")\n"
          ]
        },
        {
          "output_type": "stream",
          "name": "stdout",
          "text": [
            "314.jpg\n"
          ]
        },
        {
          "output_type": "stream",
          "name": "stderr",
          "text": [
            "/usr/local/lib/python3.9/dist-packages/torch/nn/functional.py:3734: UserWarning: nn.functional.upsample is deprecated. Use nn.functional.interpolate instead.\n",
            "  warnings.warn(\"nn.functional.upsample is deprecated. Use nn.functional.interpolate instead.\")\n"
          ]
        },
        {
          "output_type": "stream",
          "name": "stdout",
          "text": [
            "42.jpg\n"
          ]
        },
        {
          "output_type": "stream",
          "name": "stderr",
          "text": [
            "/usr/local/lib/python3.9/dist-packages/torch/nn/functional.py:3734: UserWarning: nn.functional.upsample is deprecated. Use nn.functional.interpolate instead.\n",
            "  warnings.warn(\"nn.functional.upsample is deprecated. Use nn.functional.interpolate instead.\")\n"
          ]
        },
        {
          "output_type": "stream",
          "name": "stdout",
          "text": [
            "308.jpg\n"
          ]
        },
        {
          "output_type": "stream",
          "name": "stderr",
          "text": [
            "/usr/local/lib/python3.9/dist-packages/torch/nn/functional.py:3734: UserWarning: nn.functional.upsample is deprecated. Use nn.functional.interpolate instead.\n",
            "  warnings.warn(\"nn.functional.upsample is deprecated. Use nn.functional.interpolate instead.\")\n"
          ]
        },
        {
          "output_type": "stream",
          "name": "stdout",
          "text": [
            "303.jpg\n"
          ]
        },
        {
          "output_type": "stream",
          "name": "stderr",
          "text": [
            "/usr/local/lib/python3.9/dist-packages/torch/nn/functional.py:3734: UserWarning: nn.functional.upsample is deprecated. Use nn.functional.interpolate instead.\n",
            "  warnings.warn(\"nn.functional.upsample is deprecated. Use nn.functional.interpolate instead.\")\n"
          ]
        },
        {
          "output_type": "stream",
          "name": "stdout",
          "text": [
            "39.jpg\n"
          ]
        },
        {
          "output_type": "stream",
          "name": "stderr",
          "text": [
            "/usr/local/lib/python3.9/dist-packages/torch/nn/functional.py:3734: UserWarning: nn.functional.upsample is deprecated. Use nn.functional.interpolate instead.\n",
            "  warnings.warn(\"nn.functional.upsample is deprecated. Use nn.functional.interpolate instead.\")\n"
          ]
        },
        {
          "output_type": "stream",
          "name": "stdout",
          "text": [
            "306.jpg\n"
          ]
        },
        {
          "output_type": "stream",
          "name": "stderr",
          "text": [
            "/usr/local/lib/python3.9/dist-packages/torch/nn/functional.py:3734: UserWarning: nn.functional.upsample is deprecated. Use nn.functional.interpolate instead.\n",
            "  warnings.warn(\"nn.functional.upsample is deprecated. Use nn.functional.interpolate instead.\")\n"
          ]
        },
        {
          "output_type": "stream",
          "name": "stdout",
          "text": [
            "304.jpg\n"
          ]
        },
        {
          "output_type": "stream",
          "name": "stderr",
          "text": [
            "/usr/local/lib/python3.9/dist-packages/torch/nn/functional.py:3734: UserWarning: nn.functional.upsample is deprecated. Use nn.functional.interpolate instead.\n",
            "  warnings.warn(\"nn.functional.upsample is deprecated. Use nn.functional.interpolate instead.\")\n"
          ]
        },
        {
          "output_type": "stream",
          "name": "stdout",
          "text": [
            "35.jpg\n"
          ]
        },
        {
          "output_type": "stream",
          "name": "stderr",
          "text": [
            "/usr/local/lib/python3.9/dist-packages/torch/nn/functional.py:3734: UserWarning: nn.functional.upsample is deprecated. Use nn.functional.interpolate instead.\n",
            "  warnings.warn(\"nn.functional.upsample is deprecated. Use nn.functional.interpolate instead.\")\n"
          ]
        },
        {
          "output_type": "stream",
          "name": "stdout",
          "text": [
            "34.jpg\n"
          ]
        },
        {
          "output_type": "stream",
          "name": "stderr",
          "text": [
            "/usr/local/lib/python3.9/dist-packages/torch/nn/functional.py:3734: UserWarning: nn.functional.upsample is deprecated. Use nn.functional.interpolate instead.\n",
            "  warnings.warn(\"nn.functional.upsample is deprecated. Use nn.functional.interpolate instead.\")\n"
          ]
        },
        {
          "output_type": "stream",
          "name": "stdout",
          "text": [
            "305.jpg\n"
          ]
        },
        {
          "output_type": "stream",
          "name": "stderr",
          "text": [
            "/usr/local/lib/python3.9/dist-packages/torch/nn/functional.py:3734: UserWarning: nn.functional.upsample is deprecated. Use nn.functional.interpolate instead.\n",
            "  warnings.warn(\"nn.functional.upsample is deprecated. Use nn.functional.interpolate instead.\")\n"
          ]
        },
        {
          "output_type": "stream",
          "name": "stdout",
          "text": [
            "38.jpg\n"
          ]
        },
        {
          "output_type": "stream",
          "name": "stderr",
          "text": [
            "/usr/local/lib/python3.9/dist-packages/torch/nn/functional.py:3734: UserWarning: nn.functional.upsample is deprecated. Use nn.functional.interpolate instead.\n",
            "  warnings.warn(\"nn.functional.upsample is deprecated. Use nn.functional.interpolate instead.\")\n"
          ]
        },
        {
          "output_type": "stream",
          "name": "stdout",
          "text": [
            "36.jpg\n"
          ]
        },
        {
          "output_type": "stream",
          "name": "stderr",
          "text": [
            "/usr/local/lib/python3.9/dist-packages/torch/nn/functional.py:3734: UserWarning: nn.functional.upsample is deprecated. Use nn.functional.interpolate instead.\n",
            "  warnings.warn(\"nn.functional.upsample is deprecated. Use nn.functional.interpolate instead.\")\n"
          ]
        },
        {
          "output_type": "stream",
          "name": "stdout",
          "text": [
            "315.jpg\n"
          ]
        },
        {
          "output_type": "stream",
          "name": "stderr",
          "text": [
            "/usr/local/lib/python3.9/dist-packages/torch/nn/functional.py:3734: UserWarning: nn.functional.upsample is deprecated. Use nn.functional.interpolate instead.\n",
            "  warnings.warn(\"nn.functional.upsample is deprecated. Use nn.functional.interpolate instead.\")\n"
          ]
        },
        {
          "output_type": "stream",
          "name": "stdout",
          "text": [
            "310.jpg\n"
          ]
        },
        {
          "output_type": "stream",
          "name": "stderr",
          "text": [
            "/usr/local/lib/python3.9/dist-packages/torch/nn/functional.py:3734: UserWarning: nn.functional.upsample is deprecated. Use nn.functional.interpolate instead.\n",
            "  warnings.warn(\"nn.functional.upsample is deprecated. Use nn.functional.interpolate instead.\")\n"
          ]
        },
        {
          "output_type": "stream",
          "name": "stdout",
          "text": [
            "32.jpg\n"
          ]
        },
        {
          "output_type": "stream",
          "name": "stderr",
          "text": [
            "/usr/local/lib/python3.9/dist-packages/torch/nn/functional.py:3734: UserWarning: nn.functional.upsample is deprecated. Use nn.functional.interpolate instead.\n",
            "  warnings.warn(\"nn.functional.upsample is deprecated. Use nn.functional.interpolate instead.\")\n"
          ]
        },
        {
          "output_type": "stream",
          "name": "stdout",
          "text": [
            "302.jpg\n"
          ]
        },
        {
          "output_type": "stream",
          "name": "stderr",
          "text": [
            "/usr/local/lib/python3.9/dist-packages/torch/nn/functional.py:3734: UserWarning: nn.functional.upsample is deprecated. Use nn.functional.interpolate instead.\n",
            "  warnings.warn(\"nn.functional.upsample is deprecated. Use nn.functional.interpolate instead.\")\n"
          ]
        },
        {
          "output_type": "stream",
          "name": "stdout",
          "text": [
            "311.jpg\n"
          ]
        },
        {
          "output_type": "stream",
          "name": "stderr",
          "text": [
            "/usr/local/lib/python3.9/dist-packages/torch/nn/functional.py:3734: UserWarning: nn.functional.upsample is deprecated. Use nn.functional.interpolate instead.\n",
            "  warnings.warn(\"nn.functional.upsample is deprecated. Use nn.functional.interpolate instead.\")\n"
          ]
        },
        {
          "output_type": "stream",
          "name": "stdout",
          "text": [
            "33.jpg\n"
          ]
        },
        {
          "output_type": "stream",
          "name": "stderr",
          "text": [
            "/usr/local/lib/python3.9/dist-packages/torch/nn/functional.py:3734: UserWarning: nn.functional.upsample is deprecated. Use nn.functional.interpolate instead.\n",
            "  warnings.warn(\"nn.functional.upsample is deprecated. Use nn.functional.interpolate instead.\")\n"
          ]
        },
        {
          "output_type": "stream",
          "name": "stdout",
          "text": [
            "41.jpg\n"
          ]
        },
        {
          "output_type": "stream",
          "name": "stderr",
          "text": [
            "/usr/local/lib/python3.9/dist-packages/torch/nn/functional.py:3734: UserWarning: nn.functional.upsample is deprecated. Use nn.functional.interpolate instead.\n",
            "  warnings.warn(\"nn.functional.upsample is deprecated. Use nn.functional.interpolate instead.\")\n"
          ]
        },
        {
          "output_type": "stream",
          "name": "stdout",
          "text": [
            "31.jpg\n"
          ]
        },
        {
          "output_type": "stream",
          "name": "stderr",
          "text": [
            "/usr/local/lib/python3.9/dist-packages/torch/nn/functional.py:3734: UserWarning: nn.functional.upsample is deprecated. Use nn.functional.interpolate instead.\n",
            "  warnings.warn(\"nn.functional.upsample is deprecated. Use nn.functional.interpolate instead.\")\n"
          ]
        },
        {
          "output_type": "stream",
          "name": "stdout",
          "text": [
            "40.jpg\n"
          ]
        },
        {
          "output_type": "stream",
          "name": "stderr",
          "text": [
            "/usr/local/lib/python3.9/dist-packages/torch/nn/functional.py:3734: UserWarning: nn.functional.upsample is deprecated. Use nn.functional.interpolate instead.\n",
            "  warnings.warn(\"nn.functional.upsample is deprecated. Use nn.functional.interpolate instead.\")\n"
          ]
        },
        {
          "output_type": "stream",
          "name": "stdout",
          "text": [
            "37.jpg\n"
          ]
        },
        {
          "output_type": "stream",
          "name": "stderr",
          "text": [
            "/usr/local/lib/python3.9/dist-packages/torch/nn/functional.py:3734: UserWarning: nn.functional.upsample is deprecated. Use nn.functional.interpolate instead.\n",
            "  warnings.warn(\"nn.functional.upsample is deprecated. Use nn.functional.interpolate instead.\")\n"
          ]
        },
        {
          "output_type": "stream",
          "name": "stdout",
          "text": [
            "62.jpg\n"
          ]
        },
        {
          "output_type": "stream",
          "name": "stderr",
          "text": [
            "/usr/local/lib/python3.9/dist-packages/torch/nn/functional.py:3734: UserWarning: nn.functional.upsample is deprecated. Use nn.functional.interpolate instead.\n",
            "  warnings.warn(\"nn.functional.upsample is deprecated. Use nn.functional.interpolate instead.\")\n"
          ]
        },
        {
          "output_type": "stream",
          "name": "stdout",
          "text": [
            "45.jpg\n"
          ]
        },
        {
          "output_type": "stream",
          "name": "stderr",
          "text": [
            "/usr/local/lib/python3.9/dist-packages/torch/nn/functional.py:3734: UserWarning: nn.functional.upsample is deprecated. Use nn.functional.interpolate instead.\n",
            "  warnings.warn(\"nn.functional.upsample is deprecated. Use nn.functional.interpolate instead.\")\n"
          ]
        },
        {
          "output_type": "stream",
          "name": "stdout",
          "text": [
            "50.jpg\n"
          ]
        },
        {
          "output_type": "stream",
          "name": "stderr",
          "text": [
            "/usr/local/lib/python3.9/dist-packages/torch/nn/functional.py:3734: UserWarning: nn.functional.upsample is deprecated. Use nn.functional.interpolate instead.\n",
            "  warnings.warn(\"nn.functional.upsample is deprecated. Use nn.functional.interpolate instead.\")\n"
          ]
        },
        {
          "output_type": "stream",
          "name": "stdout",
          "text": [
            "69.jpg\n"
          ]
        },
        {
          "output_type": "stream",
          "name": "stderr",
          "text": [
            "/usr/local/lib/python3.9/dist-packages/torch/nn/functional.py:3734: UserWarning: nn.functional.upsample is deprecated. Use nn.functional.interpolate instead.\n",
            "  warnings.warn(\"nn.functional.upsample is deprecated. Use nn.functional.interpolate instead.\")\n"
          ]
        },
        {
          "output_type": "stream",
          "name": "stdout",
          "text": [
            "48.jpg\n"
          ]
        },
        {
          "output_type": "stream",
          "name": "stderr",
          "text": [
            "/usr/local/lib/python3.9/dist-packages/torch/nn/functional.py:3734: UserWarning: nn.functional.upsample is deprecated. Use nn.functional.interpolate instead.\n",
            "  warnings.warn(\"nn.functional.upsample is deprecated. Use nn.functional.interpolate instead.\")\n"
          ]
        },
        {
          "output_type": "stream",
          "name": "stdout",
          "text": [
            "59.jpg\n"
          ]
        },
        {
          "output_type": "stream",
          "name": "stderr",
          "text": [
            "/usr/local/lib/python3.9/dist-packages/torch/nn/functional.py:3734: UserWarning: nn.functional.upsample is deprecated. Use nn.functional.interpolate instead.\n",
            "  warnings.warn(\"nn.functional.upsample is deprecated. Use nn.functional.interpolate instead.\")\n"
          ]
        },
        {
          "output_type": "stream",
          "name": "stdout",
          "text": [
            "61.jpg\n"
          ]
        },
        {
          "output_type": "stream",
          "name": "stderr",
          "text": [
            "/usr/local/lib/python3.9/dist-packages/torch/nn/functional.py:3734: UserWarning: nn.functional.upsample is deprecated. Use nn.functional.interpolate instead.\n",
            "  warnings.warn(\"nn.functional.upsample is deprecated. Use nn.functional.interpolate instead.\")\n"
          ]
        },
        {
          "output_type": "stream",
          "name": "stdout",
          "text": [
            "44.jpg\n"
          ]
        },
        {
          "output_type": "stream",
          "name": "stderr",
          "text": [
            "/usr/local/lib/python3.9/dist-packages/torch/nn/functional.py:3734: UserWarning: nn.functional.upsample is deprecated. Use nn.functional.interpolate instead.\n",
            "  warnings.warn(\"nn.functional.upsample is deprecated. Use nn.functional.interpolate instead.\")\n"
          ]
        },
        {
          "output_type": "stream",
          "name": "stdout",
          "text": [
            "7.jpg\n"
          ]
        },
        {
          "output_type": "stream",
          "name": "stderr",
          "text": [
            "/usr/local/lib/python3.9/dist-packages/torch/nn/functional.py:3734: UserWarning: nn.functional.upsample is deprecated. Use nn.functional.interpolate instead.\n",
            "  warnings.warn(\"nn.functional.upsample is deprecated. Use nn.functional.interpolate instead.\")\n"
          ]
        },
        {
          "output_type": "stream",
          "name": "stdout",
          "text": [
            "53.jpg\n"
          ]
        },
        {
          "output_type": "stream",
          "name": "stderr",
          "text": [
            "/usr/local/lib/python3.9/dist-packages/torch/nn/functional.py:3734: UserWarning: nn.functional.upsample is deprecated. Use nn.functional.interpolate instead.\n",
            "  warnings.warn(\"nn.functional.upsample is deprecated. Use nn.functional.interpolate instead.\")\n"
          ]
        },
        {
          "output_type": "stream",
          "name": "stdout",
          "text": [
            "67.jpg\n"
          ]
        },
        {
          "output_type": "stream",
          "name": "stderr",
          "text": [
            "/usr/local/lib/python3.9/dist-packages/torch/nn/functional.py:3734: UserWarning: nn.functional.upsample is deprecated. Use nn.functional.interpolate instead.\n",
            "  warnings.warn(\"nn.functional.upsample is deprecated. Use nn.functional.interpolate instead.\")\n"
          ]
        },
        {
          "output_type": "stream",
          "name": "stdout",
          "text": [
            "6.jpg\n"
          ]
        },
        {
          "output_type": "stream",
          "name": "stderr",
          "text": [
            "/usr/local/lib/python3.9/dist-packages/torch/nn/functional.py:3734: UserWarning: nn.functional.upsample is deprecated. Use nn.functional.interpolate instead.\n",
            "  warnings.warn(\"nn.functional.upsample is deprecated. Use nn.functional.interpolate instead.\")\n"
          ]
        },
        {
          "output_type": "stream",
          "name": "stdout",
          "text": [
            "58.jpg\n"
          ]
        },
        {
          "output_type": "stream",
          "name": "stderr",
          "text": [
            "/usr/local/lib/python3.9/dist-packages/torch/nn/functional.py:3734: UserWarning: nn.functional.upsample is deprecated. Use nn.functional.interpolate instead.\n",
            "  warnings.warn(\"nn.functional.upsample is deprecated. Use nn.functional.interpolate instead.\")\n"
          ]
        },
        {
          "output_type": "stream",
          "name": "stdout",
          "text": [
            "5.jpg\n"
          ]
        },
        {
          "output_type": "stream",
          "name": "stderr",
          "text": [
            "/usr/local/lib/python3.9/dist-packages/torch/nn/functional.py:3734: UserWarning: nn.functional.upsample is deprecated. Use nn.functional.interpolate instead.\n",
            "  warnings.warn(\"nn.functional.upsample is deprecated. Use nn.functional.interpolate instead.\")\n"
          ]
        },
        {
          "output_type": "stream",
          "name": "stdout",
          "text": [
            "43.jpg\n"
          ]
        },
        {
          "output_type": "stream",
          "name": "stderr",
          "text": [
            "/usr/local/lib/python3.9/dist-packages/torch/nn/functional.py:3734: UserWarning: nn.functional.upsample is deprecated. Use nn.functional.interpolate instead.\n",
            "  warnings.warn(\"nn.functional.upsample is deprecated. Use nn.functional.interpolate instead.\")\n"
          ]
        },
        {
          "output_type": "stream",
          "name": "stdout",
          "text": [
            "55.jpg\n"
          ]
        },
        {
          "output_type": "stream",
          "name": "stderr",
          "text": [
            "/usr/local/lib/python3.9/dist-packages/torch/nn/functional.py:3734: UserWarning: nn.functional.upsample is deprecated. Use nn.functional.interpolate instead.\n",
            "  warnings.warn(\"nn.functional.upsample is deprecated. Use nn.functional.interpolate instead.\")\n"
          ]
        },
        {
          "output_type": "stream",
          "name": "stdout",
          "text": [
            "56.jpg\n"
          ]
        },
        {
          "output_type": "stream",
          "name": "stderr",
          "text": [
            "/usr/local/lib/python3.9/dist-packages/torch/nn/functional.py:3734: UserWarning: nn.functional.upsample is deprecated. Use nn.functional.interpolate instead.\n",
            "  warnings.warn(\"nn.functional.upsample is deprecated. Use nn.functional.interpolate instead.\")\n"
          ]
        },
        {
          "output_type": "stream",
          "name": "stdout",
          "text": [
            "63.jpg\n"
          ]
        },
        {
          "output_type": "stream",
          "name": "stderr",
          "text": [
            "/usr/local/lib/python3.9/dist-packages/torch/nn/functional.py:3734: UserWarning: nn.functional.upsample is deprecated. Use nn.functional.interpolate instead.\n",
            "  warnings.warn(\"nn.functional.upsample is deprecated. Use nn.functional.interpolate instead.\")\n"
          ]
        },
        {
          "output_type": "stream",
          "name": "stdout",
          "text": [
            "57.jpg\n"
          ]
        },
        {
          "output_type": "stream",
          "name": "stderr",
          "text": [
            "/usr/local/lib/python3.9/dist-packages/torch/nn/functional.py:3734: UserWarning: nn.functional.upsample is deprecated. Use nn.functional.interpolate instead.\n",
            "  warnings.warn(\"nn.functional.upsample is deprecated. Use nn.functional.interpolate instead.\")\n"
          ]
        },
        {
          "output_type": "stream",
          "name": "stdout",
          "text": [
            "52.jpg\n"
          ]
        },
        {
          "output_type": "stream",
          "name": "stderr",
          "text": [
            "/usr/local/lib/python3.9/dist-packages/torch/nn/functional.py:3734: UserWarning: nn.functional.upsample is deprecated. Use nn.functional.interpolate instead.\n",
            "  warnings.warn(\"nn.functional.upsample is deprecated. Use nn.functional.interpolate instead.\")\n"
          ]
        },
        {
          "output_type": "stream",
          "name": "stdout",
          "text": [
            "51.jpg\n"
          ]
        },
        {
          "output_type": "stream",
          "name": "stderr",
          "text": [
            "/usr/local/lib/python3.9/dist-packages/torch/nn/functional.py:3734: UserWarning: nn.functional.upsample is deprecated. Use nn.functional.interpolate instead.\n",
            "  warnings.warn(\"nn.functional.upsample is deprecated. Use nn.functional.interpolate instead.\")\n"
          ]
        },
        {
          "output_type": "stream",
          "name": "stdout",
          "text": [
            "54.jpg\n"
          ]
        },
        {
          "output_type": "stream",
          "name": "stderr",
          "text": [
            "/usr/local/lib/python3.9/dist-packages/torch/nn/functional.py:3734: UserWarning: nn.functional.upsample is deprecated. Use nn.functional.interpolate instead.\n",
            "  warnings.warn(\"nn.functional.upsample is deprecated. Use nn.functional.interpolate instead.\")\n"
          ]
        },
        {
          "output_type": "stream",
          "name": "stdout",
          "text": [
            "46.jpg\n"
          ]
        },
        {
          "output_type": "stream",
          "name": "stderr",
          "text": [
            "/usr/local/lib/python3.9/dist-packages/torch/nn/functional.py:3734: UserWarning: nn.functional.upsample is deprecated. Use nn.functional.interpolate instead.\n",
            "  warnings.warn(\"nn.functional.upsample is deprecated. Use nn.functional.interpolate instead.\")\n"
          ]
        },
        {
          "output_type": "stream",
          "name": "stdout",
          "text": [
            "66.jpg\n"
          ]
        },
        {
          "output_type": "stream",
          "name": "stderr",
          "text": [
            "/usr/local/lib/python3.9/dist-packages/torch/nn/functional.py:3734: UserWarning: nn.functional.upsample is deprecated. Use nn.functional.interpolate instead.\n",
            "  warnings.warn(\"nn.functional.upsample is deprecated. Use nn.functional.interpolate instead.\")\n"
          ]
        },
        {
          "output_type": "stream",
          "name": "stdout",
          "text": [
            "68.jpg\n"
          ]
        },
        {
          "output_type": "stream",
          "name": "stderr",
          "text": [
            "/usr/local/lib/python3.9/dist-packages/torch/nn/functional.py:3734: UserWarning: nn.functional.upsample is deprecated. Use nn.functional.interpolate instead.\n",
            "  warnings.warn(\"nn.functional.upsample is deprecated. Use nn.functional.interpolate instead.\")\n"
          ]
        },
        {
          "output_type": "stream",
          "name": "stdout",
          "text": [
            "64.jpg\n"
          ]
        },
        {
          "output_type": "stream",
          "name": "stderr",
          "text": [
            "/usr/local/lib/python3.9/dist-packages/torch/nn/functional.py:3734: UserWarning: nn.functional.upsample is deprecated. Use nn.functional.interpolate instead.\n",
            "  warnings.warn(\"nn.functional.upsample is deprecated. Use nn.functional.interpolate instead.\")\n"
          ]
        },
        {
          "output_type": "stream",
          "name": "stdout",
          "text": [
            "60.jpg\n"
          ]
        },
        {
          "output_type": "stream",
          "name": "stderr",
          "text": [
            "/usr/local/lib/python3.9/dist-packages/torch/nn/functional.py:3734: UserWarning: nn.functional.upsample is deprecated. Use nn.functional.interpolate instead.\n",
            "  warnings.warn(\"nn.functional.upsample is deprecated. Use nn.functional.interpolate instead.\")\n"
          ]
        },
        {
          "output_type": "stream",
          "name": "stdout",
          "text": [
            "65.jpg\n"
          ]
        },
        {
          "output_type": "stream",
          "name": "stderr",
          "text": [
            "/usr/local/lib/python3.9/dist-packages/torch/nn/functional.py:3734: UserWarning: nn.functional.upsample is deprecated. Use nn.functional.interpolate instead.\n",
            "  warnings.warn(\"nn.functional.upsample is deprecated. Use nn.functional.interpolate instead.\")\n"
          ]
        },
        {
          "output_type": "stream",
          "name": "stdout",
          "text": [
            "49.jpg\n"
          ]
        },
        {
          "output_type": "stream",
          "name": "stderr",
          "text": [
            "/usr/local/lib/python3.9/dist-packages/torch/nn/functional.py:3734: UserWarning: nn.functional.upsample is deprecated. Use nn.functional.interpolate instead.\n",
            "  warnings.warn(\"nn.functional.upsample is deprecated. Use nn.functional.interpolate instead.\")\n"
          ]
        },
        {
          "output_type": "stream",
          "name": "stdout",
          "text": [
            "47.jpg\n"
          ]
        },
        {
          "output_type": "stream",
          "name": "stderr",
          "text": [
            "/usr/local/lib/python3.9/dist-packages/torch/nn/functional.py:3734: UserWarning: nn.functional.upsample is deprecated. Use nn.functional.interpolate instead.\n",
            "  warnings.warn(\"nn.functional.upsample is deprecated. Use nn.functional.interpolate instead.\")\n"
          ]
        },
        {
          "output_type": "stream",
          "name": "stdout",
          "text": [
            "70.jpg\n"
          ]
        },
        {
          "output_type": "stream",
          "name": "stderr",
          "text": [
            "/usr/local/lib/python3.9/dist-packages/torch/nn/functional.py:3734: UserWarning: nn.functional.upsample is deprecated. Use nn.functional.interpolate instead.\n",
            "  warnings.warn(\"nn.functional.upsample is deprecated. Use nn.functional.interpolate instead.\")\n"
          ]
        },
        {
          "output_type": "stream",
          "name": "stdout",
          "text": [
            "76.jpg\n"
          ]
        },
        {
          "output_type": "stream",
          "name": "stderr",
          "text": [
            "/usr/local/lib/python3.9/dist-packages/torch/nn/functional.py:3734: UserWarning: nn.functional.upsample is deprecated. Use nn.functional.interpolate instead.\n",
            "  warnings.warn(\"nn.functional.upsample is deprecated. Use nn.functional.interpolate instead.\")\n"
          ]
        },
        {
          "output_type": "stream",
          "name": "stdout",
          "text": [
            "92.jpg\n"
          ]
        },
        {
          "output_type": "stream",
          "name": "stderr",
          "text": [
            "/usr/local/lib/python3.9/dist-packages/torch/nn/functional.py:3734: UserWarning: nn.functional.upsample is deprecated. Use nn.functional.interpolate instead.\n",
            "  warnings.warn(\"nn.functional.upsample is deprecated. Use nn.functional.interpolate instead.\")\n"
          ]
        },
        {
          "output_type": "stream",
          "name": "stdout",
          "text": [
            "90.jpg\n"
          ]
        },
        {
          "output_type": "stream",
          "name": "stderr",
          "text": [
            "/usr/local/lib/python3.9/dist-packages/torch/nn/functional.py:3734: UserWarning: nn.functional.upsample is deprecated. Use nn.functional.interpolate instead.\n",
            "  warnings.warn(\"nn.functional.upsample is deprecated. Use nn.functional.interpolate instead.\")\n"
          ]
        },
        {
          "output_type": "stream",
          "name": "stdout",
          "text": [
            "73.jpg\n"
          ]
        },
        {
          "output_type": "stream",
          "name": "stderr",
          "text": [
            "/usr/local/lib/python3.9/dist-packages/torch/nn/functional.py:3734: UserWarning: nn.functional.upsample is deprecated. Use nn.functional.interpolate instead.\n",
            "  warnings.warn(\"nn.functional.upsample is deprecated. Use nn.functional.interpolate instead.\")\n"
          ]
        },
        {
          "output_type": "stream",
          "name": "stdout",
          "text": [
            "8.jpg\n"
          ]
        },
        {
          "output_type": "stream",
          "name": "stderr",
          "text": [
            "/usr/local/lib/python3.9/dist-packages/torch/nn/functional.py:3734: UserWarning: nn.functional.upsample is deprecated. Use nn.functional.interpolate instead.\n",
            "  warnings.warn(\"nn.functional.upsample is deprecated. Use nn.functional.interpolate instead.\")\n"
          ]
        },
        {
          "output_type": "stream",
          "name": "stdout",
          "text": [
            "75.jpg\n"
          ]
        },
        {
          "output_type": "stream",
          "name": "stderr",
          "text": [
            "/usr/local/lib/python3.9/dist-packages/torch/nn/functional.py:3734: UserWarning: nn.functional.upsample is deprecated. Use nn.functional.interpolate instead.\n",
            "  warnings.warn(\"nn.functional.upsample is deprecated. Use nn.functional.interpolate instead.\")\n"
          ]
        },
        {
          "output_type": "stream",
          "name": "stdout",
          "text": [
            "78.jpg\n"
          ]
        },
        {
          "output_type": "stream",
          "name": "stderr",
          "text": [
            "/usr/local/lib/python3.9/dist-packages/torch/nn/functional.py:3734: UserWarning: nn.functional.upsample is deprecated. Use nn.functional.interpolate instead.\n",
            "  warnings.warn(\"nn.functional.upsample is deprecated. Use nn.functional.interpolate instead.\")\n"
          ]
        },
        {
          "output_type": "stream",
          "name": "stdout",
          "text": [
            "77.jpg\n"
          ]
        },
        {
          "output_type": "stream",
          "name": "stderr",
          "text": [
            "/usr/local/lib/python3.9/dist-packages/torch/nn/functional.py:3734: UserWarning: nn.functional.upsample is deprecated. Use nn.functional.interpolate instead.\n",
            "  warnings.warn(\"nn.functional.upsample is deprecated. Use nn.functional.interpolate instead.\")\n"
          ]
        },
        {
          "output_type": "stream",
          "name": "stdout",
          "text": [
            "72.jpg\n"
          ]
        },
        {
          "output_type": "stream",
          "name": "stderr",
          "text": [
            "/usr/local/lib/python3.9/dist-packages/torch/nn/functional.py:3734: UserWarning: nn.functional.upsample is deprecated. Use nn.functional.interpolate instead.\n",
            "  warnings.warn(\"nn.functional.upsample is deprecated. Use nn.functional.interpolate instead.\")\n"
          ]
        },
        {
          "output_type": "stream",
          "name": "stdout",
          "text": [
            "89.jpg\n"
          ]
        },
        {
          "output_type": "stream",
          "name": "stderr",
          "text": [
            "/usr/local/lib/python3.9/dist-packages/torch/nn/functional.py:3734: UserWarning: nn.functional.upsample is deprecated. Use nn.functional.interpolate instead.\n",
            "  warnings.warn(\"nn.functional.upsample is deprecated. Use nn.functional.interpolate instead.\")\n"
          ]
        },
        {
          "output_type": "stream",
          "name": "stdout",
          "text": [
            "91.jpg\n"
          ]
        },
        {
          "output_type": "stream",
          "name": "stderr",
          "text": [
            "/usr/local/lib/python3.9/dist-packages/torch/nn/functional.py:3734: UserWarning: nn.functional.upsample is deprecated. Use nn.functional.interpolate instead.\n",
            "  warnings.warn(\"nn.functional.upsample is deprecated. Use nn.functional.interpolate instead.\")\n"
          ]
        },
        {
          "output_type": "stream",
          "name": "stdout",
          "text": [
            "84.jpg\n"
          ]
        },
        {
          "output_type": "stream",
          "name": "stderr",
          "text": [
            "/usr/local/lib/python3.9/dist-packages/torch/nn/functional.py:3734: UserWarning: nn.functional.upsample is deprecated. Use nn.functional.interpolate instead.\n",
            "  warnings.warn(\"nn.functional.upsample is deprecated. Use nn.functional.interpolate instead.\")\n"
          ]
        },
        {
          "output_type": "stream",
          "name": "stdout",
          "text": [
            "87.jpg\n"
          ]
        },
        {
          "output_type": "stream",
          "name": "stderr",
          "text": [
            "/usr/local/lib/python3.9/dist-packages/torch/nn/functional.py:3734: UserWarning: nn.functional.upsample is deprecated. Use nn.functional.interpolate instead.\n",
            "  warnings.warn(\"nn.functional.upsample is deprecated. Use nn.functional.interpolate instead.\")\n"
          ]
        },
        {
          "output_type": "stream",
          "name": "stdout",
          "text": [
            "85.jpg\n"
          ]
        },
        {
          "output_type": "stream",
          "name": "stderr",
          "text": [
            "/usr/local/lib/python3.9/dist-packages/torch/nn/functional.py:3734: UserWarning: nn.functional.upsample is deprecated. Use nn.functional.interpolate instead.\n",
            "  warnings.warn(\"nn.functional.upsample is deprecated. Use nn.functional.interpolate instead.\")\n"
          ]
        },
        {
          "output_type": "stream",
          "name": "stdout",
          "text": [
            "86.jpg\n"
          ]
        },
        {
          "output_type": "stream",
          "name": "stderr",
          "text": [
            "/usr/local/lib/python3.9/dist-packages/torch/nn/functional.py:3734: UserWarning: nn.functional.upsample is deprecated. Use nn.functional.interpolate instead.\n",
            "  warnings.warn(\"nn.functional.upsample is deprecated. Use nn.functional.interpolate instead.\")\n"
          ]
        },
        {
          "output_type": "stream",
          "name": "stdout",
          "text": [
            "81.jpg\n"
          ]
        },
        {
          "output_type": "stream",
          "name": "stderr",
          "text": [
            "/usr/local/lib/python3.9/dist-packages/torch/nn/functional.py:3734: UserWarning: nn.functional.upsample is deprecated. Use nn.functional.interpolate instead.\n",
            "  warnings.warn(\"nn.functional.upsample is deprecated. Use nn.functional.interpolate instead.\")\n"
          ]
        },
        {
          "output_type": "stream",
          "name": "stdout",
          "text": [
            "9.jpg\n"
          ]
        },
        {
          "output_type": "stream",
          "name": "stderr",
          "text": [
            "/usr/local/lib/python3.9/dist-packages/torch/nn/functional.py:3734: UserWarning: nn.functional.upsample is deprecated. Use nn.functional.interpolate instead.\n",
            "  warnings.warn(\"nn.functional.upsample is deprecated. Use nn.functional.interpolate instead.\")\n"
          ]
        },
        {
          "output_type": "stream",
          "name": "stdout",
          "text": [
            "74.jpg\n"
          ]
        },
        {
          "output_type": "stream",
          "name": "stderr",
          "text": [
            "/usr/local/lib/python3.9/dist-packages/torch/nn/functional.py:3734: UserWarning: nn.functional.upsample is deprecated. Use nn.functional.interpolate instead.\n",
            "  warnings.warn(\"nn.functional.upsample is deprecated. Use nn.functional.interpolate instead.\")\n"
          ]
        },
        {
          "output_type": "stream",
          "name": "stdout",
          "text": [
            "83.jpg\n"
          ]
        },
        {
          "output_type": "stream",
          "name": "stderr",
          "text": [
            "/usr/local/lib/python3.9/dist-packages/torch/nn/functional.py:3734: UserWarning: nn.functional.upsample is deprecated. Use nn.functional.interpolate instead.\n",
            "  warnings.warn(\"nn.functional.upsample is deprecated. Use nn.functional.interpolate instead.\")\n"
          ]
        },
        {
          "output_type": "stream",
          "name": "stdout",
          "text": [
            "79.jpg\n"
          ]
        },
        {
          "output_type": "stream",
          "name": "stderr",
          "text": [
            "/usr/local/lib/python3.9/dist-packages/torch/nn/functional.py:3734: UserWarning: nn.functional.upsample is deprecated. Use nn.functional.interpolate instead.\n",
            "  warnings.warn(\"nn.functional.upsample is deprecated. Use nn.functional.interpolate instead.\")\n"
          ]
        },
        {
          "output_type": "stream",
          "name": "stdout",
          "text": [
            "94.jpg\n"
          ]
        },
        {
          "output_type": "stream",
          "name": "stderr",
          "text": [
            "/usr/local/lib/python3.9/dist-packages/torch/nn/functional.py:3734: UserWarning: nn.functional.upsample is deprecated. Use nn.functional.interpolate instead.\n",
            "  warnings.warn(\"nn.functional.upsample is deprecated. Use nn.functional.interpolate instead.\")\n"
          ]
        },
        {
          "output_type": "stream",
          "name": "stdout",
          "text": [
            "88.jpg\n"
          ]
        },
        {
          "output_type": "stream",
          "name": "stderr",
          "text": [
            "/usr/local/lib/python3.9/dist-packages/torch/nn/functional.py:3734: UserWarning: nn.functional.upsample is deprecated. Use nn.functional.interpolate instead.\n",
            "  warnings.warn(\"nn.functional.upsample is deprecated. Use nn.functional.interpolate instead.\")\n"
          ]
        },
        {
          "output_type": "stream",
          "name": "stdout",
          "text": [
            "80.jpg\n"
          ]
        },
        {
          "output_type": "stream",
          "name": "stderr",
          "text": [
            "/usr/local/lib/python3.9/dist-packages/torch/nn/functional.py:3734: UserWarning: nn.functional.upsample is deprecated. Use nn.functional.interpolate instead.\n",
            "  warnings.warn(\"nn.functional.upsample is deprecated. Use nn.functional.interpolate instead.\")\n"
          ]
        },
        {
          "output_type": "stream",
          "name": "stdout",
          "text": [
            "93.jpg\n"
          ]
        },
        {
          "output_type": "stream",
          "name": "stderr",
          "text": [
            "/usr/local/lib/python3.9/dist-packages/torch/nn/functional.py:3734: UserWarning: nn.functional.upsample is deprecated. Use nn.functional.interpolate instead.\n",
            "  warnings.warn(\"nn.functional.upsample is deprecated. Use nn.functional.interpolate instead.\")\n"
          ]
        },
        {
          "output_type": "stream",
          "name": "stdout",
          "text": [
            "71.jpg\n"
          ]
        },
        {
          "output_type": "stream",
          "name": "stderr",
          "text": [
            "/usr/local/lib/python3.9/dist-packages/torch/nn/functional.py:3734: UserWarning: nn.functional.upsample is deprecated. Use nn.functional.interpolate instead.\n",
            "  warnings.warn(\"nn.functional.upsample is deprecated. Use nn.functional.interpolate instead.\")\n"
          ]
        },
        {
          "output_type": "stream",
          "name": "stdout",
          "text": [
            "82.jpg\n"
          ]
        },
        {
          "output_type": "stream",
          "name": "stderr",
          "text": [
            "/usr/local/lib/python3.9/dist-packages/torch/nn/functional.py:3734: UserWarning: nn.functional.upsample is deprecated. Use nn.functional.interpolate instead.\n",
            "  warnings.warn(\"nn.functional.upsample is deprecated. Use nn.functional.interpolate instead.\")\n"
          ]
        },
        {
          "output_type": "stream",
          "name": "stdout",
          "text": [
            "97.jpg\n"
          ]
        },
        {
          "output_type": "stream",
          "name": "stderr",
          "text": [
            "/usr/local/lib/python3.9/dist-packages/torch/nn/functional.py:3734: UserWarning: nn.functional.upsample is deprecated. Use nn.functional.interpolate instead.\n",
            "  warnings.warn(\"nn.functional.upsample is deprecated. Use nn.functional.interpolate instead.\")\n"
          ]
        },
        {
          "output_type": "stream",
          "name": "stdout",
          "text": [
            "98.jpg\n"
          ]
        },
        {
          "output_type": "stream",
          "name": "stderr",
          "text": [
            "/usr/local/lib/python3.9/dist-packages/torch/nn/functional.py:3734: UserWarning: nn.functional.upsample is deprecated. Use nn.functional.interpolate instead.\n",
            "  warnings.warn(\"nn.functional.upsample is deprecated. Use nn.functional.interpolate instead.\")\n"
          ]
        },
        {
          "output_type": "stream",
          "name": "stdout",
          "text": [
            "96.jpg\n"
          ]
        },
        {
          "output_type": "stream",
          "name": "stderr",
          "text": [
            "/usr/local/lib/python3.9/dist-packages/torch/nn/functional.py:3734: UserWarning: nn.functional.upsample is deprecated. Use nn.functional.interpolate instead.\n",
            "  warnings.warn(\"nn.functional.upsample is deprecated. Use nn.functional.interpolate instead.\")\n"
          ]
        },
        {
          "output_type": "stream",
          "name": "stdout",
          "text": [
            "95.jpg\n"
          ]
        },
        {
          "output_type": "stream",
          "name": "stderr",
          "text": [
            "/usr/local/lib/python3.9/dist-packages/torch/nn/functional.py:3734: UserWarning: nn.functional.upsample is deprecated. Use nn.functional.interpolate instead.\n",
            "  warnings.warn(\"nn.functional.upsample is deprecated. Use nn.functional.interpolate instead.\")\n"
          ]
        },
        {
          "output_type": "stream",
          "name": "stdout",
          "text": [
            "99.jpg\n"
          ]
        },
        {
          "output_type": "stream",
          "name": "stderr",
          "text": [
            "/usr/local/lib/python3.9/dist-packages/torch/nn/functional.py:3734: UserWarning: nn.functional.upsample is deprecated. Use nn.functional.interpolate instead.\n",
            "  warnings.warn(\"nn.functional.upsample is deprecated. Use nn.functional.interpolate instead.\")\n"
          ]
        }
      ],
      "source": [
        "import matplotlib.pyplot as plt\n",
        "import matplotlib\n",
        "import os\n",
        "import random\n",
        "import torch\n",
        "from torch.autograd import Variable\n",
        "import torchvision.transforms as standard_transforms\n",
        "import misc.transforms as own_transforms\n",
        "import pandas as pd\n",
        "\n",
        "from models.CC import CrowdCounter\n",
        "from config import cfg as default_cfg\n",
        "from misc.utils import *\n",
        "import scipy.io as sio\n",
        "from PIL import Image, ImageOps\n",
        "\n",
        "torch.cuda.set_device(0)\n",
        "torch.backends.cudnn.benchmark = True\n",
        "\n",
        "exp_name = \"../SHHB_results\"\n",
        "if not os.path.exists(exp_name):\n",
        "    os.mkdir(exp_name)\n",
        "\n",
        "if not os.path.exists(exp_name + \"/pred\"):\n",
        "    os.mkdir(exp_name + \"/pred\")\n",
        "\n",
        "if not os.path.exists(exp_name + \"/gt\"):\n",
        "    os.mkdir(exp_name + \"/gt\")\n",
        "\n",
        "mean_std = (\n",
        "    [0.452016860247, 0.447249650955, 0.431981861591],\n",
        "    [0.23242045939, 0.224925786257, 0.221840232611],\n",
        ")\n",
        "img_transform = standard_transforms.Compose(\n",
        "    [standard_transforms.ToTensor(), standard_transforms.Normalize(*mean_std)]\n",
        ")\n",
        "restore = standard_transforms.Compose(\n",
        "    [own_transforms.DeNormalize(*mean_std), standard_transforms.ToPILImage()]\n",
        ")\n",
        "pil_to_tensor = standard_transforms.ToTensor()\n",
        "\n",
        "dataRoot = drive_path + \"/MyDrive/C3/ProcessedData/shanghaitech_part_B/test\"\n",
        "## Modify the model path everytime\n",
        "model_path = drive_path + \"/MyDrive/C3/\" + \"latest_state_lap_lr5e-6.pth\"\n",
        "\n",
        "\n",
        "def main(num_samples=100):\n",
        "    file_list = [filename for root, dirs, filename in os.walk(dataRoot + \"/img/\")]\n",
        "    gts_list = []\n",
        "    preds_list = []\n",
        "    logvars_list = []\n",
        "    for i in range(0, num_samples):\n",
        "      gts, preds, logvars = test(file_list[0], model_path)\n",
        "      gts_list.append(gts)\n",
        "      preds_list.append(preds)\n",
        "      logvars_list.append(logvars)\n",
        "    return (gts_list, preds_list, logvars_list)\n",
        "\n",
        "def test(file_list, model_path):\n",
        "    net = CrowdCounter_aleatoric(cfg.GPU_ID, 'CSRNet_aleatoric_dropout')\n",
        "    latest_state = torch.load(model_path)\n",
        "    net.load_state_dict(latest_state[\"net\"])\n",
        "    net.cuda()\n",
        "    #net.eval() #Uncomment if not using Dropout for MC Dropout\n",
        "    net.train() #Comment if not using Dropout for MC Dropout\n",
        "\n",
        "    f1 = plt.figure(1)\n",
        "\n",
        "    gts = []\n",
        "    preds = []\n",
        "    logvars = []\n",
        "\n",
        "    for filename in file_list:\n",
        "        print(filename)\n",
        "        imgname = dataRoot + \"/img/\" + filename\n",
        "        filename_no_ext = filename.split(\".\")[0]\n",
        "\n",
        "        denname = dataRoot + \"/den/\" + filename_no_ext + \".csv\"\n",
        "\n",
        "        den = pd.read_csv(denname, sep=\",\", header=None).values\n",
        "        den = den.astype(np.float32, copy=False)\n",
        "\n",
        "        img = Image.open(imgname)\n",
        "\n",
        "        if img.mode == \"L\":\n",
        "            img = img.convert(\"RGB\")\n",
        "\n",
        "        img = img_transform(img)\n",
        "\n",
        "        gt = np.sum(den)\n",
        "        with torch.no_grad():\n",
        "            img = Variable(img[None, :, :, :]).cuda()\n",
        "            pred_map, logvar = net.test_forward(img)\n",
        "            gts.append(gt)\n",
        "            preds.append(pred_map[0].sum().data /100.)\n",
        "            logvars.append(logvar[0].mean().data)\n",
        "\n",
        "        sio.savemat(\n",
        "            exp_name + \"/pred/\" + filename_no_ext + \".mat\",\n",
        "            {\"data\": pred_map.squeeze().cpu().numpy() / 100.0},\n",
        "        )\n",
        "        sio.savemat(exp_name + \"/gt/\" + filename_no_ext + \".mat\", {\"data\": den})\n",
        "\n",
        "        pred_map = pred_map.cpu().data.numpy()[0, 0, :, :]\n",
        "\n",
        "        pred = np.sum(pred_map) / 100.0\n",
        "        pred_map = pred_map / np.max(pred_map + 1e-20)\n",
        "\n",
        "        den = den / np.max(den + 1e-20)\n",
        "\n",
        "        den_frame = plt.gca()\n",
        "        plt.imshow(den, \"jet\")\n",
        "        den_frame.axes.get_yaxis().set_visible(False)\n",
        "        den_frame.axes.get_xaxis().set_visible(False)\n",
        "        den_frame.spines[\"top\"].set_visible(False)\n",
        "        den_frame.spines[\"bottom\"].set_visible(False)\n",
        "        den_frame.spines[\"left\"].set_visible(False)\n",
        "        den_frame.spines[\"right\"].set_visible(False)\n",
        "        plt.savefig(\n",
        "            '/content/drive/MyDrive/C3/results_LAPLACE_lr5e-6/' + filename_no_ext + \"_gt_\" + str(int(gt)) + \".png\",\n",
        "            #Saving results to local drive to avoid losing files when disconnecting from colab environment\n",
        "            bbox_inches=\"tight\",\n",
        "            pad_inches=0,\n",
        "            dpi=150,\n",
        "        )\n",
        "\n",
        "        plt.close()\n",
        "\n",
        "        pred_frame = plt.gca()\n",
        "        plt.imshow(pred_map, \"jet\")\n",
        "        pred_frame.axes.get_yaxis().set_visible(False)\n",
        "        pred_frame.axes.get_xaxis().set_visible(False)\n",
        "        pred_frame.spines[\"top\"].set_visible(False)\n",
        "        pred_frame.spines[\"bottom\"].set_visible(False)\n",
        "        pred_frame.spines[\"left\"].set_visible(False)\n",
        "        pred_frame.spines[\"right\"].set_visible(False)\n",
        "        plt.savefig(\n",
        "            '/content/drive/MyDrive/C3/results_LAPLACE_lr5e-6/' + filename_no_ext + \"_pred_\" + str(float(pred)) + \".png\",\n",
        "            bbox_inches=\"tight\",\n",
        "            pad_inches=0,\n",
        "            dpi=150,\n",
        "        )\n",
        "\n",
        "        plt.close()\n",
        "\n",
        "        diff = den - pred_map\n",
        "\n",
        "        diff_frame = plt.gca()\n",
        "        plt.imshow(diff, \"jet\")\n",
        "        plt.colorbar()\n",
        "        diff_frame.axes.get_yaxis().set_visible(False)\n",
        "        diff_frame.axes.get_xaxis().set_visible(False)\n",
        "        diff_frame.spines[\"top\"].set_visible(False)\n",
        "        diff_frame.spines[\"bottom\"].set_visible(False)\n",
        "        diff_frame.spines[\"left\"].set_visible(False)\n",
        "        diff_frame.spines[\"right\"].set_visible(False)\n",
        "        plt.savefig(\n",
        "            '/content/drive/MyDrive/C3/results_LAPLACE_lr5e-6/' + filename_no_ext + \"_diff.png\",\n",
        "            bbox_inches=\"tight\",\n",
        "            pad_inches=0,\n",
        "            dpi=150,\n",
        "        )\n",
        "\n",
        "        plt.close()\n",
        "\n",
        "    return (gts, preds, logvars)\n",
        "\n",
        "gts_list_LAPLACE, preds_list_LAPLACE, logvars_list_LAPLACE = main()"
      ]
    },
    {
      "cell_type": "markdown",
      "source": [
        "# Bayesian Loss"
      ],
      "metadata": {
        "id": "PntciESxWz9b"
      }
    },
    {
      "cell_type": "code",
      "source": [
        "model = torch.load(drive_path + '/MyDrive/C3/best_model_shb.pth')"
      ],
      "metadata": {
        "id": "8EP9aEhlYCWG"
      },
      "execution_count": null,
      "outputs": []
    },
    {
      "cell_type": "code",
      "source": [
        "model.keys()"
      ],
      "metadata": {
        "colab": {
          "base_uri": "https://localhost:8080/"
        },
        "id": "0fqcpgM9aMP2",
        "outputId": "52e4d24b-93b2-45a7-860e-bb9b19c9cff5"
      },
      "execution_count": null,
      "outputs": [
        {
          "output_type": "execute_result",
          "data": {
            "text/plain": [
              "odict_keys(['features.0.weight', 'features.0.bias', 'features.2.weight', 'features.2.bias', 'features.5.weight', 'features.5.bias', 'features.7.weight', 'features.7.bias', 'features.10.weight', 'features.10.bias', 'features.12.weight', 'features.12.bias', 'features.14.weight', 'features.14.bias', 'features.16.weight', 'features.16.bias', 'features.19.weight', 'features.19.bias', 'features.21.weight', 'features.21.bias', 'features.23.weight', 'features.23.bias', 'features.25.weight', 'features.25.bias', 'features.28.weight', 'features.28.bias', 'features.30.weight', 'features.30.bias', 'features.32.weight', 'features.32.bias', 'features.34.weight', 'features.34.bias', 'reg_layer.0.weight', 'reg_layer.0.bias', 'reg_layer.2.weight', 'reg_layer.2.bias', 'reg_layer.4.weight', 'reg_layer.4.bias'])"
            ]
          },
          "metadata": {},
          "execution_count": 6
        }
      ]
    },
    {
      "cell_type": "code",
      "source": [
        "drive_path + '/MyDrive/C3/ProcessedData/shanghaitech_part_B'"
      ],
      "metadata": {
        "colab": {
          "base_uri": "https://localhost:8080/",
          "height": 35
        },
        "id": "ROJL5LLngBTo",
        "outputId": "26825fbf-805b-488e-ae04-8f373cef77c9"
      },
      "execution_count": null,
      "outputs": [
        {
          "output_type": "execute_result",
          "data": {
            "text/plain": [
              "'/content/drive/MyDrive/C3/ProcessedData/shanghaitech_part_B'"
            ],
            "application/vnd.google.colaboratory.intrinsic+json": {
              "type": "string"
            }
          },
          "metadata": {},
          "execution_count": 7
        }
      ]
    },
    {
      "cell_type": "code",
      "source": [
        "!python3 preprocess_dataset.py --origin-dir /content/drive/MyDrive/C3/UCF-QNRF_ECCV18/UCF-QNRF_ECCV18 --data-dir /content/drive/MyDrive/C3"
      ],
      "metadata": {
        "colab": {
          "base_uri": "https://localhost:8080/"
        },
        "id": "GgL1cldPbvKy",
        "outputId": "d1ffea46-75d2-4220-c95b-fc845b61270a"
      },
      "execution_count": null,
      "outputs": [
        {
          "output_type": "stream",
          "name": "stdout",
          "text": [
            "img_0932.jpg\n",
            "img_0933.jpg\n",
            "img_0935.jpg\n",
            "img_0936.jpg\n",
            "img_0937.jpg\n",
            "img_0941.jpg\n",
            "img_0942.jpg\n",
            "img_0945.jpg\n",
            "img_0947.jpg\n",
            "img_0948.jpg\n",
            "img_0950.jpg\n",
            "img_0007.jpg\n",
            "img_0012.jpg\n",
            "img_0027.jpg\n",
            "img_0033.jpg\n",
            "img_0038.jpg\n",
            "img_0042.jpg\n",
            "img_0054.jpg\n",
            "img_0062.jpg\n",
            "img_0065.jpg\n",
            "img_0067.jpg\n",
            "img_0068.jpg\n",
            "img_0086.jpg\n",
            "img_0091.jpg\n",
            "img_0097.jpg\n",
            "img_0103.jpg\n",
            "img_0114.jpg\n",
            "img_0116.jpg\n",
            "img_0119.jpg\n",
            "img_0125.jpg\n",
            "img_0128.jpg\n",
            "img_0152.jpg\n",
            "img_0157.jpg\n",
            "img_0190.jpg\n",
            "img_0191.jpg\n",
            "img_0221.jpg\n",
            "img_0250.jpg\n",
            "img_0251.jpg\n",
            "img_0257.jpg\n",
            "img_0268.jpg\n",
            "img_0280.jpg\n",
            "img_0289.jpg\n",
            "img_0291.jpg\n",
            "img_0302.jpg\n",
            "img_0303.jpg\n",
            "img_0338.jpg\n",
            "img_0339.jpg\n",
            "img_0344.jpg\n",
            "img_0347.jpg\n",
            "img_0357.jpg\n",
            "img_0379.jpg\n",
            "img_0382.jpg\n",
            "img_0385.jpg\n",
            "img_0416.jpg\n",
            "img_0441.jpg\n",
            "img_0470.jpg\n",
            "img_0472.jpg\n",
            "img_0477.jpg\n",
            "img_0485.jpg\n",
            "img_0489.jpg\n",
            "img_0505.jpg\n",
            "img_0510.jpg\n",
            "img_0514.jpg\n",
            "img_0521.jpg\n",
            "Traceback (most recent call last):\n",
            "  File \"preprocess_dataset.py\", line 90, in <module>\n",
            "    im.save(im_save_path)\n",
            "  File \"/usr/local/lib/python3.8/dist-packages/PIL/Image.py\", line 2240, in save\n",
            "    save_handler(self, fp, filename)\n",
            "  File \"/usr/local/lib/python3.8/dist-packages/PIL/JpegImagePlugin.py\", line 782, in _save\n",
            "    ImageFile._save(im, fp, [(\"jpeg\", (0, 0) + im.size, 0, rawmode)], bufsize)\n",
            "  File \"/usr/local/lib/python3.8/dist-packages/PIL/ImageFile.py\", line 536, in _save\n",
            "    s = e.encode_to_file(fh, bufsize)\n",
            "KeyboardInterrupt\n",
            "^C\n"
          ]
        }
      ]
    },
    {
      "cell_type": "code",
      "source": [
        "!python train_bay.py --data-dir /content/drive/MyDrive/C3 --save-dir /content/drive/MyDrive/C3"
      ],
      "metadata": {
        "id": "eWzfOSwAKL7y",
        "colab": {
          "base_uri": "https://localhost:8080/"
        },
        "outputId": "4cdd2b32-796e-494f-c57e-ad8a17ad3b18"
      },
      "execution_count": null,
      "outputs": [
        {
          "output_type": "stream",
          "name": "stdout",
          "text": [
            "1\n",
            "03-13 22:42:12 data_dir: /content/drive/MyDrive/C3\n",
            "03-13 22:42:12 save_dir: /content/drive/MyDrive/C3\n",
            "03-13 22:42:12 lr: 1e-05\n",
            "03-13 22:42:12 weight_decay: 0.0001\n",
            "03-13 22:42:12 resume: \n",
            "03-13 22:42:12 max_model_num: 1\n",
            "03-13 22:42:12 max_epoch: 1000\n",
            "03-13 22:42:12 val_epoch: 5\n",
            "03-13 22:42:12 val_start: 600\n",
            "03-13 22:42:12 batch_size: 1\n",
            "03-13 22:42:12 device: 0\n",
            "03-13 22:42:12 num_workers: 8\n",
            "03-13 22:42:12 is_gray: False\n",
            "03-13 22:42:12 crop_size: 512\n",
            "03-13 22:42:12 downsample_ratio: 8\n",
            "03-13 22:42:12 use_background: True\n",
            "03-13 22:42:12 sigma: 8.0\n",
            "03-13 22:42:12 background_ratio: 1.0\n",
            "03-13 22:42:13 using 1 gpus\n",
            "/usr/local/lib/python3.9/dist-packages/torch/utils/data/dataloader.py:554: UserWarning: This DataLoader will create 8 worker processes in total. Our suggested max number of worker in current system is 2, which is smaller than what this DataLoader is going to create. Please be aware that excessive worker creation might get DataLoader running slow or even freeze, lower the worker number to avoid potential slowness/freeze if necessary.\n",
            "  warnings.warn(_create_warning_msg(\n",
            "Downloading: \"https://download.pytorch.org/models/vgg19-dcbb9e9d.pth\" to /root/.cache/torch/hub/checkpoints/vgg19-dcbb9e9d.pth\n",
            "100% 548M/548M [00:02<00:00, 229MB/s]\n",
            "importing model data\n",
            "03-13 22:42:33 -----Epoch 0/999-----\n",
            "/usr/local/lib/python3.9/dist-packages/torch/nn/functional.py:4070: UserWarning: nn.functional.upsample_bilinear is deprecated. Use nn.functional.interpolate instead.\n",
            "  warnings.warn(\"nn.functional.upsample_bilinear is deprecated. Use nn.functional.interpolate instead.\")\n",
            "03-13 22:45:44 Epoch 0 Train, Loss: 95.71, MSE: 158.14 MAE: 70.86, Cost 190.8 sec\n",
            "model saved\n",
            "03-13 22:45:45 -----Epoch 1/999-----\n",
            "03-13 22:47:59 Epoch 1 Train, Loss: 73.90, MSE: 143.17 MAE: 54.15, Cost 134.2 sec\n",
            "model saved\n",
            "03-13 22:48:00 -----Epoch 2/999-----\n",
            "03-13 22:50:14 Epoch 2 Train, Loss: 63.92, MSE: 122.21 MAE: 43.71, Cost 133.9 sec\n",
            "model saved\n",
            "03-13 22:50:14 -----Epoch 3/999-----\n",
            "03-13 22:52:29 Epoch 3 Train, Loss: 56.00, MSE: 96.45 MAE: 36.10, Cost 134.4 sec\n",
            "model saved\n",
            "03-13 22:52:29 -----Epoch 4/999-----\n",
            "03-13 22:54:42 Epoch 4 Train, Loss: 60.30, MSE: 122.93 MAE: 41.43, Cost 132.8 sec\n",
            "model saved\n",
            "03-13 22:54:43 -----Epoch 5/999-----\n",
            "03-13 22:56:57 Epoch 5 Train, Loss: 55.86, MSE: 115.28 MAE: 36.11, Cost 133.9 sec\n",
            "model saved\n",
            "03-13 22:56:58 -----Epoch 6/999-----\n",
            "03-13 22:59:10 Epoch 6 Train, Loss: 55.32, MSE: 109.84 MAE: 35.25, Cost 132.8 sec\n",
            "model saved\n",
            "03-13 22:59:11 -----Epoch 7/999-----\n",
            "03-13 23:01:24 Epoch 7 Train, Loss: 53.06, MSE: 86.16 MAE: 31.94, Cost 133.0 sec\n",
            "model saved\n",
            "03-13 23:01:25 -----Epoch 8/999-----\n",
            "03-13 23:03:39 Epoch 8 Train, Loss: 53.69, MSE: 90.64 MAE: 33.50, Cost 133.7 sec\n",
            "model saved\n",
            "03-13 23:03:40 -----Epoch 9/999-----\n",
            "03-13 23:05:53 Epoch 9 Train, Loss: 46.24, MSE: 67.30 MAE: 26.24, Cost 133.9 sec\n",
            "model saved\n",
            "03-13 23:05:54 -----Epoch 10/999-----\n",
            "03-13 23:08:08 Epoch 10 Train, Loss: 48.38, MSE: 64.18 MAE: 27.25, Cost 133.5 sec\n",
            "model saved\n",
            "03-13 23:08:08 -----Epoch 11/999-----\n",
            "03-13 23:10:23 Epoch 11 Train, Loss: 46.96, MSE: 81.17 MAE: 27.88, Cost 134.6 sec\n",
            "model saved\n",
            "03-13 23:10:24 -----Epoch 12/999-----\n",
            "03-13 23:12:38 Epoch 12 Train, Loss: 47.21, MSE: 67.65 MAE: 27.99, Cost 134.4 sec\n",
            "model saved\n",
            "03-13 23:12:39 -----Epoch 13/999-----\n",
            "03-13 23:14:54 Epoch 13 Train, Loss: 48.00, MSE: 75.54 MAE: 28.12, Cost 134.7 sec\n",
            "model saved\n",
            "03-13 23:14:54 -----Epoch 14/999-----\n",
            "03-13 23:17:09 Epoch 14 Train, Loss: 43.98, MSE: 67.95 MAE: 24.40, Cost 134.8 sec\n",
            "model saved\n",
            "03-13 23:17:10 -----Epoch 15/999-----\n",
            "03-13 23:19:24 Epoch 15 Train, Loss: 46.77, MSE: 80.58 MAE: 27.44, Cost 133.9 sec\n",
            "model saved\n",
            "03-13 23:19:25 -----Epoch 16/999-----\n",
            "03-13 23:21:39 Epoch 16 Train, Loss: 47.55, MSE: 91.94 MAE: 28.17, Cost 134.0 sec\n",
            "model saved\n",
            "03-13 23:21:40 -----Epoch 17/999-----\n",
            "03-13 23:23:54 Epoch 17 Train, Loss: 42.07, MSE: 49.01 MAE: 21.81, Cost 133.5 sec\n",
            "model saved\n",
            "03-13 23:23:55 -----Epoch 18/999-----\n",
            "03-13 23:26:08 Epoch 18 Train, Loss: 43.90, MSE: 71.17 MAE: 24.78, Cost 133.5 sec\n",
            "model saved\n",
            "03-13 23:26:09 -----Epoch 19/999-----\n",
            "03-13 23:28:22 Epoch 19 Train, Loss: 43.70, MSE: 70.46 MAE: 24.84, Cost 133.4 sec\n",
            "model saved\n",
            "03-13 23:28:23 -----Epoch 20/999-----\n",
            "03-13 23:30:38 Epoch 20 Train, Loss: 43.37, MSE: 76.03 MAE: 24.21, Cost 134.5 sec\n",
            "model saved\n",
            "03-13 23:30:38 -----Epoch 21/999-----\n",
            "03-13 23:32:53 Epoch 21 Train, Loss: 43.64, MSE: 71.12 MAE: 25.54, Cost 134.2 sec\n",
            "model saved\n",
            "03-13 23:32:53 -----Epoch 22/999-----\n",
            "Traceback (most recent call last):\n",
            "  File \"/content/Project-Crowd-Counting-C-3-Framework/train_bay.py\", line 59, in <module>\n",
            "    trainer.train()\n",
            "  File \"/content/Project-Crowd-Counting-C-3-Framework/utils/regression_trainer.py\", line 97, in train\n",
            "    self.train_epoch()\n",
            "  File \"/content/Project-Crowd-Counting-C-3-Framework/utils/regression_trainer.py\", line 134, in train_epoch\n",
            "    pre_count = torch.sum(outputs.view(N, -1), dim=1).detach().cpu().numpy()\n",
            "KeyboardInterrupt\n",
            "^C\n"
          ]
        }
      ]
    },
    {
      "cell_type": "code",
      "source": [
        "!python test_bay.py --data-dir /content/drive/MyDrive/C3 --save-dir /content/drive/MyDrive/C3"
      ],
      "metadata": {
        "id": "lyOrYkRihEVk",
        "colab": {
          "base_uri": "https://localhost:8080/"
        },
        "outputId": "0b4ae84d-8406-44af-e288-f4daf5f49eea"
      },
      "execution_count": null,
      "outputs": [
        {
          "output_type": "stream",
          "name": "stdout",
          "text": [
            "/usr/local/lib/python3.9/dist-packages/torch/utils/data/dataloader.py:554: UserWarning: This DataLoader will create 8 worker processes in total. Our suggested max number of worker in current system is 2, which is smaller than what this DataLoader is going to create. Please be aware that excessive worker creation might get DataLoader running slow or even freeze, lower the worker number to avoid potential slowness/freeze if necessary.\n",
            "  warnings.warn(_create_warning_msg(\n",
            "/usr/local/lib/python3.9/dist-packages/torch/nn/functional.py:4070: UserWarning: nn.functional.upsample_bilinear is deprecated. Use nn.functional.interpolate instead.\n",
            "  warnings.warn(\"nn.functional.upsample_bilinear is deprecated. Use nn.functional.interpolate instead.\")\n",
            "('img_0001',) -317.4150390625 975 1292.4150390625\n",
            "('img_0002',) 234.6561279296875 923 688.3438720703125\n",
            "('img_0003',) -17.498046875 350 367.498046875\n",
            "('img_0004',) -4.5587158203125 183 187.5587158203125\n",
            "('img_0005',) -12.600021362304688 103 115.60002136230469\n",
            "('img_0006',) -32.51531982421875 436 468.51531982421875\n",
            "('img_0007',) -10.956703186035156 77 87.95670318603516\n",
            "('img_0008',) -14.476181030273438 92 106.47618103027344\n",
            "('img_0009',) -3.472412109375 237 240.472412109375\n",
            "('img_0010',) -27.8931884765625 564 591.8931884765625\n",
            "('img_0011',) 6.6641845703125 540 533.3358154296875\n",
            "('img_0012',) 16.932373046875 434 417.067626953125\n",
            "('img_0013',) -63.37158203125 1528 1591.37158203125\n",
            "('img_0014',) -27.637939453125 225 252.637939453125\n",
            "('img_0015',) -3.51409912109375 413 416.51409912109375\n",
            "('img_0016',) 121.8319091796875 853 731.1680908203125\n",
            "('img_0017',) 11.42596435546875 191 179.57403564453125\n",
            "('img_0018',) -56.12504577636719 141 197.1250457763672\n",
            "('img_0019',) -67.29582214355469 137 204.2958221435547\n",
            "('img_0020',) -12.851181030273438 133 145.85118103027344\n",
            "('img_0021',) -21.121627807617188 127 148.1216278076172\n",
            "('img_0022',) -37.792724609375 479 516.792724609375\n",
            "('img_0023',) -87.069580078125 274 361.069580078125\n",
            "('img_0024',) 4.363037109375 385 380.636962890625\n",
            "('img_0025',) 30.816925048828125 318 287.1830749511719\n",
            "('img_0026',) -12.104194641113281 113 125.10419464111328\n",
            "('img_0027',) -81.35888671875 181 262.35888671875\n",
            "('img_0028',) -33.25750732421875 405 438.25750732421875\n",
            "('img_0029',) -22.608001708984375 450 472.6080017089844\n",
            "('img_0030',) 11.953948974609375 367 355.0460510253906\n",
            "('img_0031',) 54.62225341796875 394 339.37774658203125\n",
            "('img_0032',) -177.7249755859375 674 851.7249755859375\n",
            "('img_0033',) -10.541046142578125 129 139.54104614257812\n",
            "('img_0034',) 20.638992309570312 221 200.3610076904297\n",
            "('img_0035',) -12.759521484375 1018 1030.759521484375\n",
            "('img_0036',) -8.82379150390625 302 310.82379150390625\n",
            "('img_0037',) 524.3221435546875 2530 2005.6778564453125\n",
            "('img_0038',) -27.49493408203125 297 324.49493408203125\n",
            "('img_0039',) -1.478302001953125 88 89.47830200195312\n",
            "('img_0040',) 5.3472747802734375 201 195.65272521972656\n",
            "('img_0041',) 22.6470947265625 960 937.3529052734375\n",
            "('img_0042',) -18.7071533203125 130 148.7071533203125\n",
            "('img_0043',) -9.529312133789062 155 164.52931213378906\n",
            "('img_0044',) -5.5816650390625 169 174.5816650390625\n",
            "('img_0045',) -45.09906005859375 153 198.09906005859375\n",
            "('img_0046',) -5.26751708984375 177 182.26751708984375\n",
            "('img_0047',) -48.59014892578125 100 148.59014892578125\n",
            "('img_0048',) 15.141357421875 1211 1195.858642578125\n",
            "('img_0049',) 385.765380859375 2494 2108.234619140625\n",
            "('img_0050',) 10.943756103515625 425 414.0562438964844\n",
            "('img_0051',) -17.65087890625 187 204.65087890625\n",
            "('img_0052',) 34.94342803955078 139 104.05657196044922\n",
            "('img_0053',) -7.29833984375 953 960.29833984375\n",
            "('img_0054',) 154.37860107421875 597 442.62139892578125\n",
            "('img_0055',) -57.98126220703125 361 418.98126220703125\n",
            "('img_0056',) -24.443359375 194 218.443359375\n",
            "('img_0057',) 83.43402099609375 687 603.5659790039062\n",
            "('img_0058',) -92.36474609375 4535 4627.36474609375\n",
            "('img_0059',) 22.50640869140625 452 429.49359130859375\n",
            "('img_0060',) -23.4559326171875 227 250.4559326171875\n",
            "('img_0061',) 9.995147705078125 234 224.00485229492188\n",
            "('img_0062',) 282.011474609375 2638 2355.988525390625\n",
            "('img_0063',) 607.3355712890625 1149 541.6644287109375\n",
            "('img_0064',) 57.25244140625 1357 1299.74755859375\n",
            "('img_0065',) -23.44085693359375 490 513.4408569335938\n",
            "('img_0066',) 174.952392578125 2980 2805.047607421875\n",
            "('img_0067',) -10.259521484375 255 265.259521484375\n",
            "('img_0068',) 57.611846923828125 363 305.3881530761719\n",
            "('img_0069',) 54.034271240234375 547 492.9657287597656\n",
            "('img_0070',) 7.12640380859375 232 224.87359619140625\n",
            "('img_0071',) -262.56103515625 1236 1498.56103515625\n",
            "('img_0072',) -84.19088745117188 241 325.1908874511719\n",
            "('img_0073',) -50.3671875 481 531.3671875\n",
            "('img_0074',) -22.9388427734375 704 726.9388427734375\n",
            "('img_0075',) 44.520050048828125 253 208.47994995117188\n",
            "('img_0076',) 135.041015625 489 353.958984375\n",
            "('img_0077',) 4.2322998046875 203 198.7677001953125\n",
            "('img_0078',) -89.914794921875 1116 1205.914794921875\n",
            "('img_0079',) -10.6158447265625 1974 1984.6158447265625\n",
            "('img_0080',) 35.14862060546875 347 311.85137939453125\n",
            "('img_0081',) 7.5276641845703125 121 113.47233581542969\n",
            "('img_0082',) 166.47799682617188 337 170.52200317382812\n",
            "('img_0083',) 109.21875 693 583.78125\n",
            "('img_0084',) 51.70977783203125 322 270.29022216796875\n",
            "('img_0085',) 4.63360595703125 283 278.36639404296875\n",
            "('img_0086',) -15.3065185546875 176 191.3065185546875\n",
            "('img_0087',) 132.37045288085938 626 493.6295471191406\n",
            "('img_0088',) 6.032562255859375 197 190.96743774414062\n",
            "('img_0089',) 74.94873046875 1557 1482.05126953125\n",
            "('img_0090',) -4.1563720703125 792 796.1563720703125\n",
            "('img_0091',) 75.80999755859375 636 560.1900024414062\n",
            "('img_0092',) 124.49163818359375 645 520.5083618164062\n",
            "('img_0093',) 386.382080078125 1929 1542.617919921875\n",
            "('img_0094',) -12.765045166015625 146 158.76504516601562\n",
            "('img_0095',) -36.790252685546875 370 406.7902526855469\n",
            "('img_0096',) -6.89447021484375 107 113.89447021484375\n",
            "('img_0097',) 125.59188842773438 431 305.4081115722656\n",
            "('img_0098',) 45.77214050292969 249 203.2278594970703\n",
            "('img_0099',) 101.22438049316406 302 200.77561950683594\n",
            "('img_0100',) 12.65057373046875 231 218.34942626953125\n",
            "('img_0101',) 19.441619873046875 175 155.55838012695312\n",
            "('img_0102',) 15.328109741210938 264 248.67189025878906\n",
            "('img_0103',) -145.28125 505 650.28125\n",
            "('img_0104',) -207.43115234375 1387 1594.43115234375\n",
            "('img_0105',) -1.1773681640625 166 167.1773681640625\n",
            "('img_0106',) 563.794921875 1443 879.205078125\n",
            "('img_0107',) -4.5745849609375 334 338.5745849609375\n",
            "('img_0108',) 17.97509765625 188 170.02490234375\n",
            "('img_0109',) 123.2001953125 441 317.7998046875\n",
            "('img_0110',) -5.794708251953125 459 464.7947082519531\n",
            "('img_0111',) 36.78242492675781 157 120.21757507324219\n",
            "('img_0112',) -39.7354736328125 1166 1205.7354736328125\n",
            "('img_0113',) 457.21728515625 1278 820.78271484375\n",
            "('img_0114',) -54.680419921875 799 853.680419921875\n",
            "('img_0115',) -34.64935302734375 291 325.64935302734375\n",
            "('img_0116',) -53.758056640625 759 812.758056640625\n",
            "('img_0117',) -21.976806640625 736 757.976806640625\n",
            "('img_0118',) 97.3885498046875 964 866.6114501953125\n",
            "('img_0119',) -30.09429931640625 723 753.0942993164062\n",
            "('img_0120',) -124.3880615234375 763 887.3880615234375\n",
            "('img_0121',) -2.6711883544921875 150 152.6711883544922\n",
            "('img_0122',) 12.45489501953125 499 486.54510498046875\n",
            "('img_0123',) 109.32916259765625 485 375.67083740234375\n",
            "('img_0124',) -25.9412841796875 757 782.9412841796875\n",
            "('img_0125',) 228.419921875 1256 1027.580078125\n",
            "('img_0126',) 22.56475830078125 305 282.43524169921875\n",
            "('img_0127',) -25.854522705078125 408 433.8545227050781\n",
            "('img_0128',) 472.3702392578125 811 338.6297607421875\n",
            "('img_0129',) 2.45428466796875 311 308.54571533203125\n",
            "('img_0130',) -122.78228759765625 456 578.7822875976562\n",
            "('img_0131',) 74.087158203125 475 400.912841796875\n",
            "('img_0132',) 9.830535888671875 294 284.1694641113281\n",
            "('img_0133',) 41.51983642578125 944 902.4801635742188\n",
            "('img_0134',) 12.625091552734375 152 139.37490844726562\n",
            "('img_0135',) 18.6202392578125 314 295.3797607421875\n",
            "('img_0136',) -82.6199951171875 652 734.6199951171875\n",
            "('img_0137',) 89.3759765625 751 661.6240234375\n",
            "('img_0138',) 9.3460693359375 632 622.6539306640625\n",
            "('img_0139',) -85.74554443359375 428 513.7455444335938\n",
            "('img_0140',) 10.570343017578125 398 387.4296569824219\n",
            "('img_0141',) 8.190597534179688 171 162.8094024658203\n",
            "('img_0142',) -21.40325927734375 353 374.40325927734375\n",
            "('img_0143',) 39.02978515625 810 770.97021484375\n",
            "('img_0144',) -35.0498046875 446 481.0498046875\n",
            "('img_0145',) 7.3215484619140625 160 152.67845153808594\n",
            "('img_0146',) 41.69586181640625 387 345.30413818359375\n",
            "('img_0147',) -14.290283203125 135 149.290283203125\n",
            "('img_0148',) 124.63555908203125 819 694.3644409179688\n",
            "('img_0149',) 21.67327880859375 390 368.32672119140625\n",
            "('img_0150',) -62.18096923828125 396 458.18096923828125\n",
            "('img_0151',) 278.05194091796875 648 369.94805908203125\n",
            "('img_0152',) 172.5286865234375 900 727.4713134765625\n",
            "('img_0153',) 158.00930786132812 641 482.9906921386719\n",
            "('img_0154',) -5.590087890625 354 359.590087890625\n",
            "('img_0155',) 76.28863525390625 845 768.7113647460938\n",
            "('img_0156',) 294.874755859375 2073 1778.125244140625\n",
            "('img_0157',) 81.709716796875 470 388.290283203125\n",
            "('img_0158',) 3.6303863525390625 247 243.36961364746094\n",
            "('img_0159',) 110.6094970703125 469 358.3905029296875\n",
            "('img_0160',) 336.8184814453125 1063 726.1815185546875\n",
            "('img_0161',) -21.7685546875 313 334.7685546875\n",
            "('img_0162',) 3.60125732421875 279 275.39874267578125\n",
            "('img_0163',) 7.899017333984375 372 364.1009826660156\n",
            "('img_0164',) 78.1829833984375 1586 1507.8170166015625\n",
            "('img_0165',) 1.48974609375 198 196.51025390625\n",
            "('img_0166',) 238.365234375 2315 2076.634765625\n",
            "('img_0167',) 155.27734375 4195 4039.72265625\n",
            "('img_0168',) -10.2940673828125 138 148.2940673828125\n",
            "('img_0169',) -19.61895751953125 174 193.61895751953125\n",
            "('img_0170',) -6.21929931640625 148 154.21929931640625\n",
            "('img_0171',) -52.69580078125 608 660.69580078125\n",
            "('img_0172',) -10.618217468261719 110 120.61821746826172\n",
            "('img_0173',) 199.0804443359375 883 683.9195556640625\n",
            "('img_0174',) 68.61717224121094 259 190.38282775878906\n",
            "('img_0175',) 14.955879211425781 117 102.04412078857422\n",
            "('img_0176',) 19.88470458984375 326 306.11529541015625\n",
            "('img_0177',) 16.863601684570312 272 255.1363983154297\n",
            "('img_0178',) 0.09588623046875 400 399.90411376953125\n",
            "('img_0179',) 256.6624755859375 2020 1763.3375244140625\n",
            "('img_0180',) 179.9019775390625 1315 1135.0980224609375\n",
            "('img_0181',) 62.97265625 466 403.02734375\n",
            "('img_0182',) 2.413970947265625 269 266.5860290527344\n",
            "('img_0183',) 213.10546875 1757 1543.89453125\n",
            "('img_0184',) 102.928466796875 2165 2062.071533203125\n",
            "('img_0185',) 94.96435546875 507 412.03564453125\n",
            "('img_0186',) -25.74365234375 158 183.74365234375\n",
            "('img_0187',) 59.68243408203125 403 343.31756591796875\n",
            "('img_0188',) 23.772735595703125 275 251.22726440429688\n",
            "('img_0189',) -2.12127685546875 122 124.12127685546875\n",
            "('img_0190',) 78.4368896484375 732 653.5631103515625\n",
            "('img_0191',) -13.831298828125 532 545.831298828125\n",
            "('img_0192',) -21.282928466796875 195 216.28292846679688\n",
            "('img_0193',) -39.83879089355469 210 249.8387908935547\n",
            "('img_0194',) 13.831451416015625 159 145.16854858398438\n",
            "('img_0195',) 19.11444091796875 211 191.88555908203125\n",
            "('img_0196',) 37.167022705078125 287 249.83297729492188\n",
            "('img_0197',) -25.228713989257812 164 189.2287139892578\n",
            "('img_0198',) -7.838096618652344 104 111.83809661865234\n",
            "('img_0199',) 47.347381591796875 263 215.65261840820312\n",
            "('img_0200',) -4.67999267578125 299 303.67999267578125\n",
            "('img_0201',) 128.04437255859375 718 589.9556274414062\n",
            "('img_0202',) 230.056884765625 864 633.943115234375\n",
            "('img_0203',) 51.794921875 368 316.205078125\n",
            "('img_0204',) 154.37887573242188 522 367.6211242675781\n",
            "('img_0205',) 224.427001953125 778 553.572998046875\n",
            "('img_0206',) -28.477294921875 2870 2898.477294921875\n",
            "('img_0207',) -73.59326171875 463 536.59326171875\n",
            "('img_0208',) -8.3538818359375 204 212.3538818359375\n",
            "('img_0209',) -36.890960693359375 143 179.89096069335938\n",
            "('img_0210',) 95.08230590820312 421 325.9176940917969\n",
            "('img_0211',) -9.90899658203125 434 443.90899658203125\n",
            "('img_0212',) 14.218704223632812 218 203.7812957763672\n",
            "('img_0213',) -24.304443359375 266 290.304443359375\n",
            "('img_0214',) 79.18035888671875 514 434.81964111328125\n",
            "('img_0215',) -6.8624267578125 1048 1054.8624267578125\n",
            "('img_0216',) 66.6495361328125 593 526.3504638671875\n",
            "('img_0217',) 555.361572265625 1775 1219.638427734375\n",
            "('img_0218',) -44.423583984375 712 756.423583984375\n",
            "('img_0219',) 82.269775390625 535 452.730224609375\n",
            "('img_0220',) 184.4208984375 2745 2560.5791015625\n",
            "('img_0221',) 191.676513671875 1709 1517.323486328125\n",
            "('img_0222',) 149.2786865234375 1890 1740.7213134765625\n",
            "('img_0223',) 241.1585693359375 1826 1584.8414306640625\n",
            "('img_0224',) -12.620635986328125 379 391.6206359863281\n",
            "('img_0225',) 36.0289306640625 1191 1154.9710693359375\n",
            "('img_0226',) 37.8150634765625 1665 1627.1849365234375\n",
            "('img_0227',) 209.67047119140625 612 402.32952880859375\n",
            "('img_0228',) -4.636199951171875 172 176.63619995117188\n",
            "('img_0229',) -174.02392578125 699 873.02392578125\n",
            "('img_0230',) -47.575927734375 1454 1501.575927734375\n",
            "('img_0231',) 140.9930419921875 681 540.0069580078125\n",
            "('img_0232',) 32.84130859375 419 386.15869140625\n",
            "('img_0233',) 88.8792724609375 332 243.1207275390625\n",
            "('img_0234',) 2.571136474609375 244 241.42886352539062\n",
            "('img_0235',) -13.924850463867188 125 138.9248504638672\n",
            "('img_0236',) -48.136077880859375 267 315.1360778808594\n",
            "('img_0237',) -2.14898681640625 178 180.14898681640625\n",
            "('img_0238',) -8.968475341796875 170 178.96847534179688\n",
            "('img_0239',) -14.66925048828125 306 320.66925048828125\n"
          ]
        }
      ]
    }
  ],
  "metadata": {
    "accelerator": "GPU",
    "colab": {
      "provenance": []
    },
    "gpuClass": "standard",
    "kernelspec": {
      "display_name": "Python 3",
      "name": "python3"
    },
    "language_info": {
      "name": "python"
    }
  },
  "nbformat": 4,
  "nbformat_minor": 0
}